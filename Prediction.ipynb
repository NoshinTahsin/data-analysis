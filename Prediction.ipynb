{
 "cells": [
  {
   "cell_type": "code",
   "execution_count": 1,
   "metadata": {},
   "outputs": [],
   "source": [
    "import pandas as pd\n",
    "import numpy as np \n",
    "import matplotlib.pyplot as plt  \n",
    "import seaborn as seabornInstance \n",
    "from sklearn.preprocessing import LabelEncoder, OneHotEncoder\n",
    "from sklearn.model_selection import train_test_split \n",
    "from sklearn.linear_model import LinearRegression\n",
    "from sklearn import metrics\n",
    "%matplotlib inline\n",
    "\n",
    "data = pd.read_csv(r'DDa_Annual_Premium_Dataset.csv') \n",
    "#print(data)"
   ]
  },
  {
   "cell_type": "code",
   "execution_count": 2,
   "metadata": {},
   "outputs": [
    {
     "data": {
      "text/plain": [
       "(3980, 110)"
      ]
     },
     "execution_count": 2,
     "metadata": {},
     "output_type": "execute_result"
    }
   ],
   "source": [
    "data.shape"
   ]
  },
  {
   "cell_type": "code",
   "execution_count": 3,
   "metadata": {},
   "outputs": [
    {
     "data": {
      "text/plain": [
       "0       0\n",
       "1       0\n",
       "2       1\n",
       "3       1\n",
       "4       0\n",
       "       ..\n",
       "3975    0\n",
       "3976    0\n",
       "3977    0\n",
       "3978    0\n",
       "3979    0\n",
       "Name: LP Yearly Data Pooling Status, Length: 3980, dtype: int64"
      ]
     },
     "execution_count": 3,
     "metadata": {},
     "output_type": "execute_result"
    }
   ],
   "source": [
    "data.isnull().any()\n",
    "data = data.fillna(method='ffill')\n",
    "data['LP Yearly Data Pooling Status']\n",
    "data['LP Yearly Data Pooling Status']\n"
   ]
  },
  {
   "cell_type": "code",
   "execution_count": 5,
   "metadata": {},
   "outputs": [],
   "source": [
    " X = data[['LP Status',\n",
    " 'LP Yearly Data Insured Lives',\n",
    "'LP Yearly Data Pooling Status',\n",
    "  'HQ Insured Lives',\n",
    "'HQ Pooled Lives',\n",
    "'HQ Potential',\n",
    " 'lp_substatus__In action',\n",
    " 'lp_substatus__In process',\n",
    "'lp_substatus__Quote',\n",
    "'lp_substatus__Won',\n",
    "'hq_region_Asia-Pacific',\n",
    "'hq_region_Europe',\n",
    "'hq_region_LATAM',\n",
    "'hq_region_Middle East',\n",
    "'hq_region_N-America',\n",
    "'hq_region_N-Europe',\n",
    "'hq_region_Southern Europe',\n",
    "'benefit_Accidental death and dismemberment',\n",
    "'benefit_Assistance',\n",
    "'benefit_Critical illness',\n",
    "'benefit_Disability pensions',\n",
    "'benefit_Endowment insurance',\n",
    "'benefit_Lump sum death',\n",
    "'benefit_Lump sum disability',\n",
    "'benefit_Medical',\n",
    "'benefit_Not yet defined',\n",
    "'benefit_Old age pensions',\n",
    "'benefit_Orphans\\' pensions',\n",
    "'benefit_Short term disability',\n",
    "'benefit_Waiver of premium',\n",
    "'benefit_Widow/er\\'s pensions',\n",
    "'hq_industry_Airlines, Aerospace, Intern. Transp.',\n",
    "'hq_industry_Banking, Finance, Insurance, Consult',\n",
    "'hq_industry_Building Materials, Furniture, Paper',\n",
    "'hq_industry_Chemicals, Pharmaceuticals, Cosmetics',\n",
    "'hq_industry_Computers, Electronics, Office Equipment',\n",
    "'hq_industry_Entertainment, Advertising, Tourism',\n",
    "'hq_industry_Food, Beverage, Tobacco',\n",
    "'hq_industry_Motor Vehicles, Metal Products, Tools',\n",
    "'hq_industry_Other',\n",
    "'hq_industry_Petroleum Refining, Mining, Oil Prod.',\n",
    "'hq_industry_Scientific, Watches, Photo Equipment',\n",
    "'hq_industry_Textiles, Leatherware, Jewelry',\n",
    "'hq_industry_Transportation and Industrial Equipment',\n",
    "'hq_industry_Unknown migration']]\n",
    "y = data['LP Yearly Data Annual Premium (LCY)']"
   ]
  },
  {
   "cell_type": "code",
   "execution_count": 6,
   "metadata": {},
   "outputs": [
    {
     "data": {
      "text/plain": [
       "<matplotlib.axes._subplots.AxesSubplot at 0x2182d09f448>"
      ]
     },
     "execution_count": 6,
     "metadata": {},
     "output_type": "execute_result"
    },
    {
     "data": {
      "image/png": "[encoded data removed]",
      "text/plain": [
       "<Figure size 1080x720 with 1 Axes>"
      ]
     },
     "metadata": {
      "needs_background": "light"
     },
     "output_type": "display_data"
    }
   ],
   "source": [
    "plt.figure(figsize=(15,10))\n",
    "plt.tight_layout()\n",
    "seabornInstance.distplot(data['LP Yearly Data Annual Premium (LCY)'])"
   ]
  },
  {
   "cell_type": "code",
   "execution_count": 7,
   "metadata": {},
   "outputs": [
    {
     "data": {
      "text/html": [
       "<div>\n",
       "<style scoped>\n",
       "    .dataframe tbody tr th:only-of-type {\n",
       "        vertical-align: middle;\n",
       "    }\n",
       "\n",
       "    .dataframe tbody tr th {\n",
       "        vertical-align: top;\n",
       "    }\n",
       "\n",
       "    .dataframe thead th {\n",
       "        text-align: right;\n",
       "    }\n",
       "</style>\n",
       "<table border=\"1\" class=\"dataframe\">\n",
       "  <thead>\n",
       "    <tr style=\"text-align: right;\">\n",
       "      <th></th>\n",
       "      <th>Coefficient</th>\n",
       "    </tr>\n",
       "  </thead>\n",
       "  <tbody>\n",
       "    <tr>\n",
       "      <th>LP Status</th>\n",
       "      <td>-1900.831819</td>\n",
       "    </tr>\n",
       "    <tr>\n",
       "      <th>LP Yearly Data Insured Lives</th>\n",
       "      <td>136549.541348</td>\n",
       "    </tr>\n",
       "    <tr>\n",
       "      <th>LP Yearly Data Pooling Status</th>\n",
       "      <td>1320.055650</td>\n",
       "    </tr>\n",
       "    <tr>\n",
       "      <th>HQ Insured Lives</th>\n",
       "      <td>-1611.251029</td>\n",
       "    </tr>\n",
       "    <tr>\n",
       "      <th>HQ Pooled Lives</th>\n",
       "      <td>2492.200581</td>\n",
       "    </tr>\n",
       "    <tr>\n",
       "      <th>HQ Potential</th>\n",
       "      <td>0.002423</td>\n",
       "    </tr>\n",
       "    <tr>\n",
       "      <th>lp_substatus__In action</th>\n",
       "      <td>-1900.831806</td>\n",
       "    </tr>\n",
       "    <tr>\n",
       "      <th>lp_substatus__In process</th>\n",
       "      <td>-4108.087474</td>\n",
       "    </tr>\n",
       "    <tr>\n",
       "      <th>lp_substatus__Quote</th>\n",
       "      <td>2124.165718</td>\n",
       "    </tr>\n",
       "    <tr>\n",
       "      <th>lp_substatus__Won</th>\n",
       "      <td>3884.753561</td>\n",
       "    </tr>\n",
       "    <tr>\n",
       "      <th>hq_region_Asia-Pacific</th>\n",
       "      <td>-10389.662227</td>\n",
       "    </tr>\n",
       "    <tr>\n",
       "      <th>hq_region_Europe</th>\n",
       "      <td>-10937.432168</td>\n",
       "    </tr>\n",
       "    <tr>\n",
       "      <th>hq_region_LATAM</th>\n",
       "      <td>-18018.795894</td>\n",
       "    </tr>\n",
       "    <tr>\n",
       "      <th>hq_region_Middle East</th>\n",
       "      <td>1277.437150</td>\n",
       "    </tr>\n",
       "    <tr>\n",
       "      <th>hq_region_N-America</th>\n",
       "      <td>-11137.197711</td>\n",
       "    </tr>\n",
       "    <tr>\n",
       "      <th>hq_region_N-Europe</th>\n",
       "      <td>-11290.197461</td>\n",
       "    </tr>\n",
       "    <tr>\n",
       "      <th>hq_region_Southern Europe</th>\n",
       "      <td>-9890.199872</td>\n",
       "    </tr>\n",
       "    <tr>\n",
       "      <th>benefit_Accidental death and dismemberment</th>\n",
       "      <td>-3567.399415</td>\n",
       "    </tr>\n",
       "    <tr>\n",
       "      <th>benefit_Assistance</th>\n",
       "      <td>-3407.533425</td>\n",
       "    </tr>\n",
       "    <tr>\n",
       "      <th>benefit_Critical illness</th>\n",
       "      <td>-1664.907319</td>\n",
       "    </tr>\n",
       "    <tr>\n",
       "      <th>benefit_Disability pensions</th>\n",
       "      <td>4193.161600</td>\n",
       "    </tr>\n",
       "    <tr>\n",
       "      <th>benefit_Endowment insurance</th>\n",
       "      <td>2275.024310</td>\n",
       "    </tr>\n",
       "    <tr>\n",
       "      <th>benefit_Lump sum death</th>\n",
       "      <td>952.010699</td>\n",
       "    </tr>\n",
       "    <tr>\n",
       "      <th>benefit_Lump sum disability</th>\n",
       "      <td>-2703.592112</td>\n",
       "    </tr>\n",
       "    <tr>\n",
       "      <th>benefit_Medical</th>\n",
       "      <td>2301.592396</td>\n",
       "    </tr>\n",
       "    <tr>\n",
       "      <th>benefit_Not yet defined</th>\n",
       "      <td>958.824301</td>\n",
       "    </tr>\n",
       "    <tr>\n",
       "      <th>benefit_Old age pensions</th>\n",
       "      <td>3933.936178</td>\n",
       "    </tr>\n",
       "    <tr>\n",
       "      <th>benefit_Orphans' pensions</th>\n",
       "      <td>-426.963545</td>\n",
       "    </tr>\n",
       "    <tr>\n",
       "      <th>benefit_Short term disability</th>\n",
       "      <td>3762.810130</td>\n",
       "    </tr>\n",
       "    <tr>\n",
       "      <th>benefit_Waiver of premium</th>\n",
       "      <td>-281.937240</td>\n",
       "    </tr>\n",
       "    <tr>\n",
       "      <th>benefit_Widow/er's pensions</th>\n",
       "      <td>1720.494389</td>\n",
       "    </tr>\n",
       "    <tr>\n",
       "      <th>hq_industry_Airlines, Aerospace, Intern. Transp.</th>\n",
       "      <td>244.098983</td>\n",
       "    </tr>\n",
       "    <tr>\n",
       "      <th>hq_industry_Banking, Finance, Insurance, Consult</th>\n",
       "      <td>918.183749</td>\n",
       "    </tr>\n",
       "    <tr>\n",
       "      <th>hq_industry_Building Materials, Furniture, Paper</th>\n",
       "      <td>573.936168</td>\n",
       "    </tr>\n",
       "    <tr>\n",
       "      <th>hq_industry_Chemicals, Pharmaceuticals, Cosmetics</th>\n",
       "      <td>425.722706</td>\n",
       "    </tr>\n",
       "    <tr>\n",
       "      <th>hq_industry_Computers, Electronics, Office Equipment</th>\n",
       "      <td>-846.685197</td>\n",
       "    </tr>\n",
       "    <tr>\n",
       "      <th>hq_industry_Entertainment, Advertising, Tourism</th>\n",
       "      <td>1107.544740</td>\n",
       "    </tr>\n",
       "    <tr>\n",
       "      <th>hq_industry_Food, Beverage, Tobacco</th>\n",
       "      <td>-1867.404242</td>\n",
       "    </tr>\n",
       "    <tr>\n",
       "      <th>hq_industry_Motor Vehicles, Metal Products, Tools</th>\n",
       "      <td>726.830689</td>\n",
       "    </tr>\n",
       "    <tr>\n",
       "      <th>hq_industry_Other</th>\n",
       "      <td>220.068184</td>\n",
       "    </tr>\n",
       "    <tr>\n",
       "      <th>hq_industry_Petroleum Refining, Mining, Oil Prod.</th>\n",
       "      <td>-1918.789559</td>\n",
       "    </tr>\n",
       "    <tr>\n",
       "      <th>hq_industry_Scientific, Watches, Photo Equipment</th>\n",
       "      <td>138.925569</td>\n",
       "    </tr>\n",
       "    <tr>\n",
       "      <th>hq_industry_Textiles, Leatherware, Jewelry</th>\n",
       "      <td>-943.692028</td>\n",
       "    </tr>\n",
       "    <tr>\n",
       "      <th>hq_industry_Transportation and Industrial Equipment</th>\n",
       "      <td>532.342221</td>\n",
       "    </tr>\n",
       "    <tr>\n",
       "      <th>hq_industry_Unknown migration</th>\n",
       "      <td>688.918016</td>\n",
       "    </tr>\n",
       "  </tbody>\n",
       "</table>\n",
       "</div>"
      ],
      "text/plain": [
       "                                                      Coefficient\n",
       "LP Status                                            -1900.831819\n",
       "LP Yearly Data Insured Lives                        136549.541348\n",
       "LP Yearly Data Pooling Status                         1320.055650\n",
       "HQ Insured Lives                                     -1611.251029\n",
       "HQ Pooled Lives                                       2492.200581\n",
       "HQ Potential                                             0.002423\n",
       "lp_substatus__In action                              -1900.831806\n",
       "lp_substatus__In process                             -4108.087474\n",
       "lp_substatus__Quote                                   2124.165718\n",
       "lp_substatus__Won                                     3884.753561\n",
       "hq_region_Asia-Pacific                              -10389.662227\n",
       "hq_region_Europe                                    -10937.432168\n",
       "hq_region_LATAM                                     -18018.795894\n",
       "hq_region_Middle East                                 1277.437150\n",
       "hq_region_N-America                                 -11137.197711\n",
       "hq_region_N-Europe                                  -11290.197461\n",
       "hq_region_Southern Europe                            -9890.199872\n",
       "benefit_Accidental death and dismemberment           -3567.399415\n",
       "benefit_Assistance                                   -3407.533425\n",
       "benefit_Critical illness                             -1664.907319\n",
       "benefit_Disability pensions                           4193.161600\n",
       "benefit_Endowment insurance                           2275.024310\n",
       "benefit_Lump sum death                                 952.010699\n",
       "benefit_Lump sum disability                          -2703.592112\n",
       "benefit_Medical                                       2301.592396\n",
       "benefit_Not yet defined                                958.824301\n",
       "benefit_Old age pensions                              3933.936178\n",
       "benefit_Orphans' pensions                             -426.963545\n",
       "benefit_Short term disability                         3762.810130\n",
       "benefit_Waiver of premium                             -281.937240\n",
       "benefit_Widow/er's pensions                           1720.494389\n",
       "hq_industry_Airlines, Aerospace, Intern. Transp.       244.098983\n",
       "hq_industry_Banking, Finance, Insurance, Consult       918.183749\n",
       "hq_industry_Building Materials, Furniture, Paper       573.936168\n",
       "hq_industry_Chemicals, Pharmaceuticals, Cosmetics      425.722706\n",
       "hq_industry_Computers, Electronics, Office Equi...    -846.685197\n",
       "hq_industry_Entertainment, Advertising, Tourism       1107.544740\n",
       "hq_industry_Food, Beverage, Tobacco                  -1867.404242\n",
       "hq_industry_Motor Vehicles, Metal Products, Tools      726.830689\n",
       "hq_industry_Other                                      220.068184\n",
       "hq_industry_Petroleum Refining, Mining, Oil Prod.    -1918.789559\n",
       "hq_industry_Scientific, Watches, Photo Equipment       138.925569\n",
       "hq_industry_Textiles, Leatherware, Jewelry            -943.692028\n",
       "hq_industry_Transportation and Industrial Equip...     532.342221\n",
       "hq_industry_Unknown migration                          688.918016"
      ]
     },
     "execution_count": 7,
     "metadata": {},
     "output_type": "execute_result"
    }
   ],
   "source": [
    "X_train, X_test, y_train, y_test = train_test_split(X, y, test_size=0.2, random_state=0)\n",
    "regressor = LinearRegression()  \n",
    "regressor.fit(X_train, y_train)\n",
    "\n",
    "coeff_df = pd.DataFrame(regressor.coef_, X.columns, columns=['Coefficient'])  \n",
    "coeff_df"
   ]
  },
  {
   "cell_type": "code",
   "execution_count": 8,
   "metadata": {},
   "outputs": [
    {
     "name": "stdout",
     "output_type": "stream",
     "text": [
      "           Actual     Predicted\n",
      "3321  19680.24000  19164.264011\n",
      "1367  41354.82000  11450.425743\n",
      "224    8312.76000  13576.810597\n",
      "641    4102.92000  13603.996141\n",
      "1290   8262.00000   6103.234776\n",
      "840   23623.92000  18015.429000\n",
      "326    5013.60000  13478.505993\n",
      "1895   8100.00000  13299.692582\n",
      "775   30449.52000  13524.922001\n",
      "2602   2742.12000   6729.279703\n",
      "1530    119.00192  13200.813259\n",
      "1739    951.48000  13567.500761\n",
      "3641   4913.52540  12073.999708\n",
      "1300  12413.52000  17495.904063\n",
      "3820    324.00000  14548.883444\n",
      "979   43058.52000  21767.198525\n",
      "3038    751.68000   6916.139436\n",
      "1385   7800.63000  13493.805759\n",
      "1377  22809.78000  12731.172721\n",
      "3391  47841.84000   9111.145948\n",
      "248   13386.60000  13363.527606\n",
      "572   27336.96000  20973.037741\n",
      "3799    608.08360  20793.057510\n",
      "661    7016.76000  16765.662512\n",
      "1287    460.08000   4528.135474\n"
     ]
    }
   ],
   "source": [
    "y_pred = regressor.predict(X_test)\n",
    "df = pd.DataFrame({'Actual': y_test, 'Predicted': y_pred})\n",
    "df1 = df.head(25)\n",
    "print(df1)"
   ]
  },
  {
   "cell_type": "code",
   "execution_count": 9,
   "metadata": {},
   "outputs": [
    {
     "data": {
      "image/png": "[encoded data removed]",
      "text/plain": [
       "<Figure size 720x576 with 1 Axes>"
      ]
     },
     "metadata": {
      "needs_background": "light"
     },
     "output_type": "display_data"
    }
   ],
   "source": [
    "df1.plot(kind='bar',figsize=(10,8))\n",
    "plt.grid(which='major', linestyle='-', linewidth='0.5', color='green')\n",
    "plt.grid(which='minor', linestyle=':', linewidth='0.5', color='black')\n",
    "plt.show()"
   ]
  },
  {
   "cell_type": "code",
   "execution_count": 10,
   "metadata": {},
   "outputs": [
    {
     "name": "stdout",
     "output_type": "stream",
     "text": [
      "Mean Absolute Error: 9836.540196075783\n",
      "Mean Squared Error: 150081253.11958155\n",
      "Root Mean Squared Error: 12250.765409539992\n"
     ]
    }
   ],
   "source": [
    "print('Mean Absolute Error:', metrics.mean_absolute_error(y_test, y_pred))  \n",
    "print('Mean Squared Error:', metrics.mean_squared_error(y_test, y_pred))  \n",
    "print('Root Mean Squared Error:', np.sqrt(metrics.mean_squared_error(y_test, y_pred)))"
   ]
  },
  {
   "cell_type": "code",
   "execution_count": null,
   "metadata": {},
   "outputs": [],
   "source": []
  },
  {
   "cell_type": "code",
   "execution_count": null,
   "metadata": {},
   "outputs": [],
   "source": []
  }
 ],
 "metadata": {
  "kernelspec": {
   "display_name": "Python 3",
   "language": "python",
   "name": "python3"
  },
  "language_info": {
   "codemirror_mode": {
    "name": "ipython",
    "version": 3
   },
   "file_extension": ".py",
   "mimetype": "text/x-python",
   "name": "python",
   "nbconvert_exporter": "python",
   "pygments_lexer": "ipython3",
   "version": "3.7.6"
  }
 },
 "nbformat": 4,
 "nbformat_minor": 4
}
