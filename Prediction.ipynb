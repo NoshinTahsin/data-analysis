{
 "cells": [
  {
   "cell_type": "code",
   "execution_count": 49,
   "metadata": {},
   "outputs": [],
   "source": [
    "import pandas as pd\n",
    "import numpy as np \n",
    "import matplotlib.pyplot as plt  \n",
    "import seaborn as seabornInstance \n",
    "from sklearn.preprocessing import LabelEncoder, OneHotEncoder\n",
    "from sklearn.model_selection import train_test_split \n",
    "from sklearn.linear_model import LinearRegression\n",
    "from sklearn import metrics\n",
    "%matplotlib inline\n",
    "\n",
    "data = pd.read_csv(r'DD_Annual_Premium_Dataset.csv') \n",
    "#print(data)"
   ]
  },
  {
   "cell_type": "code",
   "execution_count": 50,
   "metadata": {},
   "outputs": [
    {
     "data": {
      "text/plain": [
       "(2764, 106)"
      ]
     },
     "execution_count": 50,
     "metadata": {},
     "output_type": "execute_result"
    }
   ],
   "source": [
    "data.shape"
   ]
  },
  {
   "cell_type": "code",
   "execution_count": 51,
   "metadata": {},
   "outputs": [
    {
     "data": {
      "text/plain": [
       "0       1\n",
       "1       1\n",
       "2       1\n",
       "3       1\n",
       "4       1\n",
       "       ..\n",
       "2759    1\n",
       "2760    1\n",
       "2761    1\n",
       "2762    1\n",
       "2763    1\n",
       "Name: LP Yearly Data Pooling Status, Length: 2764, dtype: int64"
      ]
     },
     "execution_count": 51,
     "metadata": {},
     "output_type": "execute_result"
    }
   ],
   "source": [
    "data.isnull().any()\n",
    "data = data.fillna(method='ffill')\n",
    "data['LP Yearly Data Pooling Status']\n",
    "data['LP Yearly Data Pooling Status']\n"
   ]
  },
  {
   "cell_type": "code",
   "execution_count": 52,
   "metadata": {},
   "outputs": [],
   "source": [
    " X = data[['LP Status',\n",
    " 'LP Yearly Data Insured Lives',\n",
    "'LP Yearly Data Pooling Status',\n",
    "  'HQ Insured Lives',\n",
    "'HQ Pooled Lives',\n",
    "'HQ Potential',\n",
    " 'lp_substatus__In action',\n",
    "'lp_substatus__Terminated',\n",
    "'hq_region_Asia-Pacific',\n",
    "'hq_region_Europe',\n",
    "'hq_region_LATAM',\n",
    "'hq_region_Middle East',\n",
    "'hq_region_N-America',\n",
    "'hq_region_N-Europe',\n",
    "'hq_region_Southern Europe',\n",
    "'benefit_Accidental death and dismemberment',\n",
    "'benefit_Assistance',\n",
    "'benefit_Critical illness',\n",
    "'benefit_Disability pensions',\n",
    "'benefit_Endowment insurance',\n",
    "'benefit_Lump sum death',\n",
    "'benefit_Lump sum disability',\n",
    "'benefit_Medical',\n",
    "'benefit_Not yet defined',\n",
    "'benefit_Old age pensions',\n",
    "'benefit_Orphans\\' pensions',\n",
    "'benefit_Short term disability',\n",
    "'benefit_Waiver of premium',\n",
    "'benefit_Widow/er\\'s pensions',\n",
    "'hq_industry_Airlines, Aerospace, Intern. Transp.',\n",
    "'hq_industry_Banking, Finance, Insurance, Consult',\n",
    "'hq_industry_Building Materials, Furniture, Paper',\n",
    "'hq_industry_Chemicals, Pharmaceuticals, Cosmetics',\n",
    "'hq_industry_Computers, Electronics, Office Equipment',\n",
    "'hq_industry_Entertainment, Advertising, Tourism',\n",
    "'hq_industry_Food, Beverage, Tobacco',\n",
    "'hq_industry_Motor Vehicles, Metal Products, Tools',\n",
    "'hq_industry_Other',\n",
    "'hq_industry_Petroleum Refining, Mining, Oil Prod.',\n",
    "'hq_industry_Scientific, Watches, Photo Equipment',\n",
    "'hq_industry_Textiles, Leatherware, Jewelry',\n",
    "'hq_industry_Transportation and Industrial Equipment',\n",
    "'hq_industry_Unknown migration']]\n",
    "y = data['LP Yearly Data Annual Premium (LCY)']"
   ]
  },
  {
   "cell_type": "code",
   "execution_count": 53,
   "metadata": {},
   "outputs": [
    {
     "data": {
      "text/plain": [
       "<matplotlib.axes._subplots.AxesSubplot at 0x1e338796648>"
      ]
     },
     "execution_count": 53,
     "metadata": {},
     "output_type": "execute_result"
    },
    {
     "data": {
      "image/png": "[encoded data removed]",
      "text/plain": [
       "<Figure size 1080x720 with 1 Axes>"
      ]
     },
     "metadata": {
      "needs_background": "light"
     },
     "output_type": "display_data"
    }
   ],
   "source": [
    "plt.figure(figsize=(15,10))\n",
    "plt.tight_layout()\n",
    "seabornInstance.distplot(data['LP Yearly Data Annual Premium (LCY)'])"
   ]
  },
  {
   "cell_type": "code",
   "execution_count": 54,
   "metadata": {},
   "outputs": [
    {
     "data": {
      "text/html": [
       "<div>\n",
       "<style scoped>\n",
       "    .dataframe tbody tr th:only-of-type {\n",
       "        vertical-align: middle;\n",
       "    }\n",
       "\n",
       "    .dataframe tbody tr th {\n",
       "        vertical-align: top;\n",
       "    }\n",
       "\n",
       "    .dataframe thead th {\n",
       "        text-align: right;\n",
       "    }\n",
       "</style>\n",
       "<table border=\"1\" class=\"dataframe\">\n",
       "  <thead>\n",
       "    <tr style=\"text-align: right;\">\n",
       "      <th></th>\n",
       "      <th>Coefficient</th>\n",
       "    </tr>\n",
       "  </thead>\n",
       "  <tbody>\n",
       "    <tr>\n",
       "      <th>LP Status</th>\n",
       "      <td>-3.229906e-12</td>\n",
       "    </tr>\n",
       "    <tr>\n",
       "      <th>LP Yearly Data Insured Lives</th>\n",
       "      <td>2.550711e+05</td>\n",
       "    </tr>\n",
       "    <tr>\n",
       "      <th>LP Yearly Data Pooling Status</th>\n",
       "      <td>6.270624e+16</td>\n",
       "    </tr>\n",
       "    <tr>\n",
       "      <th>HQ Insured Lives</th>\n",
       "      <td>-2.377556e+02</td>\n",
       "    </tr>\n",
       "    <tr>\n",
       "      <th>HQ Pooled Lives</th>\n",
       "      <td>-2.314611e+03</td>\n",
       "    </tr>\n",
       "    <tr>\n",
       "      <th>HQ Potential</th>\n",
       "      <td>-1.147138e+03</td>\n",
       "    </tr>\n",
       "    <tr>\n",
       "      <th>lp_substatus__In action</th>\n",
       "      <td>1.199532e+16</td>\n",
       "    </tr>\n",
       "    <tr>\n",
       "      <th>lp_substatus__Terminated</th>\n",
       "      <td>1.199532e+16</td>\n",
       "    </tr>\n",
       "    <tr>\n",
       "      <th>hq_region_Asia-Pacific</th>\n",
       "      <td>3.625402e+16</td>\n",
       "    </tr>\n",
       "    <tr>\n",
       "      <th>hq_region_Europe</th>\n",
       "      <td>3.625402e+16</td>\n",
       "    </tr>\n",
       "    <tr>\n",
       "      <th>hq_region_LATAM</th>\n",
       "      <td>3.625402e+16</td>\n",
       "    </tr>\n",
       "    <tr>\n",
       "      <th>hq_region_Middle East</th>\n",
       "      <td>3.625402e+16</td>\n",
       "    </tr>\n",
       "    <tr>\n",
       "      <th>hq_region_N-America</th>\n",
       "      <td>3.625402e+16</td>\n",
       "    </tr>\n",
       "    <tr>\n",
       "      <th>hq_region_N-Europe</th>\n",
       "      <td>3.625402e+16</td>\n",
       "    </tr>\n",
       "    <tr>\n",
       "      <th>hq_region_Southern Europe</th>\n",
       "      <td>3.625402e+16</td>\n",
       "    </tr>\n",
       "    <tr>\n",
       "      <th>benefit_Accidental death and dismemberment</th>\n",
       "      <td>-5.811493e+02</td>\n",
       "    </tr>\n",
       "    <tr>\n",
       "      <th>benefit_Assistance</th>\n",
       "      <td>3.407221e+03</td>\n",
       "    </tr>\n",
       "    <tr>\n",
       "      <th>benefit_Critical illness</th>\n",
       "      <td>-2.881655e+03</td>\n",
       "    </tr>\n",
       "    <tr>\n",
       "      <th>benefit_Disability pensions</th>\n",
       "      <td>4.605917e+03</td>\n",
       "    </tr>\n",
       "    <tr>\n",
       "      <th>benefit_Endowment insurance</th>\n",
       "      <td>1.252111e+03</td>\n",
       "    </tr>\n",
       "    <tr>\n",
       "      <th>benefit_Lump sum death</th>\n",
       "      <td>1.602275e+03</td>\n",
       "    </tr>\n",
       "    <tr>\n",
       "      <th>benefit_Lump sum disability</th>\n",
       "      <td>-2.115371e+03</td>\n",
       "    </tr>\n",
       "    <tr>\n",
       "      <th>benefit_Medical</th>\n",
       "      <td>3.217654e+03</td>\n",
       "    </tr>\n",
       "    <tr>\n",
       "      <th>benefit_Not yet defined</th>\n",
       "      <td>2.036791e+03</td>\n",
       "    </tr>\n",
       "    <tr>\n",
       "      <th>benefit_Old age pensions</th>\n",
       "      <td>2.527525e+01</td>\n",
       "    </tr>\n",
       "    <tr>\n",
       "      <th>benefit_Orphans' pensions</th>\n",
       "      <td>2.046563e+02</td>\n",
       "    </tr>\n",
       "    <tr>\n",
       "      <th>benefit_Short term disability</th>\n",
       "      <td>3.636335e+03</td>\n",
       "    </tr>\n",
       "    <tr>\n",
       "      <th>benefit_Waiver of premium</th>\n",
       "      <td>3.284117e+03</td>\n",
       "    </tr>\n",
       "    <tr>\n",
       "      <th>benefit_Widow/er's pensions</th>\n",
       "      <td>1.838249e+03</td>\n",
       "    </tr>\n",
       "    <tr>\n",
       "      <th>hq_industry_Airlines, Aerospace, Intern. Transp.</th>\n",
       "      <td>-4.596216e+15</td>\n",
       "    </tr>\n",
       "    <tr>\n",
       "      <th>hq_industry_Banking, Finance, Insurance, Consult</th>\n",
       "      <td>-4.596216e+15</td>\n",
       "    </tr>\n",
       "    <tr>\n",
       "      <th>hq_industry_Building Materials, Furniture, Paper</th>\n",
       "      <td>-4.596216e+15</td>\n",
       "    </tr>\n",
       "    <tr>\n",
       "      <th>hq_industry_Chemicals, Pharmaceuticals, Cosmetics</th>\n",
       "      <td>-4.596216e+15</td>\n",
       "    </tr>\n",
       "    <tr>\n",
       "      <th>hq_industry_Computers, Electronics, Office Equipment</th>\n",
       "      <td>-4.596216e+15</td>\n",
       "    </tr>\n",
       "    <tr>\n",
       "      <th>hq_industry_Entertainment, Advertising, Tourism</th>\n",
       "      <td>-4.596216e+15</td>\n",
       "    </tr>\n",
       "    <tr>\n",
       "      <th>hq_industry_Food, Beverage, Tobacco</th>\n",
       "      <td>-4.596216e+15</td>\n",
       "    </tr>\n",
       "    <tr>\n",
       "      <th>hq_industry_Motor Vehicles, Metal Products, Tools</th>\n",
       "      <td>-4.596216e+15</td>\n",
       "    </tr>\n",
       "    <tr>\n",
       "      <th>hq_industry_Other</th>\n",
       "      <td>-4.596216e+15</td>\n",
       "    </tr>\n",
       "    <tr>\n",
       "      <th>hq_industry_Petroleum Refining, Mining, Oil Prod.</th>\n",
       "      <td>-4.596216e+15</td>\n",
       "    </tr>\n",
       "    <tr>\n",
       "      <th>hq_industry_Scientific, Watches, Photo Equipment</th>\n",
       "      <td>-4.596216e+15</td>\n",
       "    </tr>\n",
       "    <tr>\n",
       "      <th>hq_industry_Textiles, Leatherware, Jewelry</th>\n",
       "      <td>-4.596216e+15</td>\n",
       "    </tr>\n",
       "    <tr>\n",
       "      <th>hq_industry_Transportation and Industrial Equipment</th>\n",
       "      <td>-4.596216e+15</td>\n",
       "    </tr>\n",
       "    <tr>\n",
       "      <th>hq_industry_Unknown migration</th>\n",
       "      <td>-4.596216e+15</td>\n",
       "    </tr>\n",
       "  </tbody>\n",
       "</table>\n",
       "</div>"
      ],
      "text/plain": [
       "                                                     Coefficient\n",
       "LP Status                                          -3.229906e-12\n",
       "LP Yearly Data Insured Lives                        2.550711e+05\n",
       "LP Yearly Data Pooling Status                       6.270624e+16\n",
       "HQ Insured Lives                                   -2.377556e+02\n",
       "HQ Pooled Lives                                    -2.314611e+03\n",
       "HQ Potential                                       -1.147138e+03\n",
       "lp_substatus__In action                             1.199532e+16\n",
       "lp_substatus__Terminated                            1.199532e+16\n",
       "hq_region_Asia-Pacific                              3.625402e+16\n",
       "hq_region_Europe                                    3.625402e+16\n",
       "hq_region_LATAM                                     3.625402e+16\n",
       "hq_region_Middle East                               3.625402e+16\n",
       "hq_region_N-America                                 3.625402e+16\n",
       "hq_region_N-Europe                                  3.625402e+16\n",
       "hq_region_Southern Europe                           3.625402e+16\n",
       "benefit_Accidental death and dismemberment         -5.811493e+02\n",
       "benefit_Assistance                                  3.407221e+03\n",
       "benefit_Critical illness                           -2.881655e+03\n",
       "benefit_Disability pensions                         4.605917e+03\n",
       "benefit_Endowment insurance                         1.252111e+03\n",
       "benefit_Lump sum death                              1.602275e+03\n",
       "benefit_Lump sum disability                        -2.115371e+03\n",
       "benefit_Medical                                     3.217654e+03\n",
       "benefit_Not yet defined                             2.036791e+03\n",
       "benefit_Old age pensions                            2.527525e+01\n",
       "benefit_Orphans' pensions                           2.046563e+02\n",
       "benefit_Short term disability                       3.636335e+03\n",
       "benefit_Waiver of premium                           3.284117e+03\n",
       "benefit_Widow/er's pensions                         1.838249e+03\n",
       "hq_industry_Airlines, Aerospace, Intern. Transp.   -4.596216e+15\n",
       "hq_industry_Banking, Finance, Insurance, Consult   -4.596216e+15\n",
       "hq_industry_Building Materials, Furniture, Paper   -4.596216e+15\n",
       "hq_industry_Chemicals, Pharmaceuticals, Cosmetics  -4.596216e+15\n",
       "hq_industry_Computers, Electronics, Office Equi... -4.596216e+15\n",
       "hq_industry_Entertainment, Advertising, Tourism    -4.596216e+15\n",
       "hq_industry_Food, Beverage, Tobacco                -4.596216e+15\n",
       "hq_industry_Motor Vehicles, Metal Products, Tools  -4.596216e+15\n",
       "hq_industry_Other                                  -4.596216e+15\n",
       "hq_industry_Petroleum Refining, Mining, Oil Prod.  -4.596216e+15\n",
       "hq_industry_Scientific, Watches, Photo Equipment   -4.596216e+15\n",
       "hq_industry_Textiles, Leatherware, Jewelry         -4.596216e+15\n",
       "hq_industry_Transportation and Industrial Equip... -4.596216e+15\n",
       "hq_industry_Unknown migration                      -4.596216e+15"
      ]
     },
     "execution_count": 54,
     "metadata": {},
     "output_type": "execute_result"
    }
   ],
   "source": [
    "X_train, X_test, y_train, y_test = train_test_split(X, y, test_size=0.2, random_state=0)\n",
    "regressor = LinearRegression()  \n",
    "regressor.fit(X_train, y_train)\n",
    "\n",
    "coeff_df = pd.DataFrame(regressor.coef_, X.columns, columns=['Coefficient'])  \n",
    "coeff_df"
   ]
  },
  {
   "cell_type": "code",
   "execution_count": 55,
   "metadata": {},
   "outputs": [
    {
     "name": "stdout",
     "output_type": "stream",
     "text": [
      "           Actual  Predicted\n",
      "2161   6310.80450    14672.0\n",
      "1038  23785.00000     9680.0\n",
      "1343  18510.12000    24016.0\n",
      "489   24714.72000    19088.0\n",
      "1753   8069.76000    10896.0\n",
      "2200  36095.49000    13920.0\n",
      "666    1894.32000    13216.0\n",
      "1366   6356.13000    11888.0\n",
      "553   12153.71368    15184.0\n",
      "2668  19404.13380    13344.0\n",
      "248   11547.36000     7648.0\n",
      "1604   1585.44000     9392.0\n",
      "1881   2512.08000     9872.0\n",
      "104   19959.48000     7856.0\n",
      "2405   4268.16072    10240.0\n",
      "1287  48156.12000    12768.0\n",
      "1864   3251.88000    11072.0\n",
      "2701    441.74235    10352.0\n",
      "1059  25916.76000    18896.0\n",
      "2559  13958.55450    10304.0\n",
      "15    10122.06000    11328.0\n",
      "806     658.04697     7264.0\n",
      "1599   1760.40000     5888.0\n",
      "2254  11943.72000    13728.0\n",
      "615   47754.80661    14288.0\n"
     ]
    }
   ],
   "source": [
    "y_pred = regressor.predict(X_test)\n",
    "df = pd.DataFrame({'Actual': y_test, 'Predicted': y_pred})\n",
    "df1 = df.head(25)\n",
    "print(df1)"
   ]
  },
  {
   "cell_type": "code",
   "execution_count": 56,
   "metadata": {},
   "outputs": [
    {
     "data": {
      "image/png": "[encoded data removed]",
      "text/plain": [
       "<Figure size 720x576 with 1 Axes>"
      ]
     },
     "metadata": {
      "needs_background": "light"
     },
     "output_type": "display_data"
    }
   ],
   "source": [
    "df1.plot(kind='bar',figsize=(10,8))\n",
    "plt.grid(which='major', linestyle='-', linewidth='0.5', color='green')\n",
    "plt.grid(which='minor', linestyle=':', linewidth='0.5', color='black')\n",
    "plt.show()"
   ]
  },
  {
   "cell_type": "code",
   "execution_count": 57,
   "metadata": {},
   "outputs": [
    {
     "name": "stdout",
     "output_type": "stream",
     "text": [
      "Mean Absolute Error: 9564.321535569621\n",
      "Mean Squared Error: 141202100.17952123\n",
      "Root Mean Squared Error: 11882.84899254052\n"
     ]
    }
   ],
   "source": [
    "print('Mean Absolute Error:', metrics.mean_absolute_error(y_test, y_pred))  \n",
    "print('Mean Squared Error:', metrics.mean_squared_error(y_test, y_pred))  \n",
    "print('Root Mean Squared Error:', np.sqrt(metrics.mean_squared_error(y_test, y_pred)))"
   ]
  },
  {
   "cell_type": "code",
   "execution_count": null,
   "metadata": {},
   "outputs": [],
   "source": []
  },
  {
   "cell_type": "code",
   "execution_count": null,
   "metadata": {},
   "outputs": [],
   "source": []
  }
 ],
 "metadata": {
  "kernelspec": {
   "display_name": "Python 3",
   "language": "python",
   "name": "python3"
  },
  "language_info": {
   "codemirror_mode": {
    "name": "ipython",
    "version": 3
   },
   "file_extension": ".py",
   "mimetype": "text/x-python",
   "name": "python",
   "nbconvert_exporter": "python",
   "pygments_lexer": "ipython3",
   "version": "3.7.6"
  }
 },
 "nbformat": 4,
 "nbformat_minor": 4
}
