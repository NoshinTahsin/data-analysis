{
 "cells": [
  {
   "cell_type": "code",
   "execution_count": 1,
   "metadata": {},
   "outputs": [],
   "source": [
    "import pandas as pd\n",
    "import numpy as np\n",
    "\n",
    "from sklearn.preprocessing import LabelEncoder, OneHotEncoder\n",
    "\n",
    "hqDetails = pd.read_excel (r'2017-05-21-22-12-46_headquarter_details.xlsx')\n",
    "hqSpecificCol = pd.DataFrame(hqDetails, columns=['HQ Company Nr','HQ Region','HQ Industry', 'HQ Insured Lives', 'HQ Pooled Lives', 'HQ Potential'])\n",
    "\n",
    "lpDetails = pd.read_excel (r'2017-05-21-22-15-07_local_projects.xls')\n",
    "lpSpecificCol = pd.DataFrame(lpDetails, columns= ['HQ Company Nr','Subsidiary Country ISO Code','LP Status', 'LP Substatus', 'LP Yearly Benefit Name Aggregated', 'LP Yearly Data Insured Lives','LP Yearly Data Pooling Status', 'LP Yearly Data Annual Premium (LCY)','LP Yearly Data Currency'])\n",
    "\n",
    "currencyFile = pd.read_excel (r'2017-05-21-21-47-39_pla_currencies.xlsx', columns=['Currency Iso code', 'Production NWP'])"
   ]
  },
  {
   "cell_type": "code",
   "execution_count": 2,
   "metadata": {},
   "outputs": [
    {
     "data": {
      "text/html": [
       "<div>\n",
       "<style scoped>\n",
       "    .dataframe tbody tr th:only-of-type {\n",
       "        vertical-align: middle;\n",
       "    }\n",
       "\n",
       "    .dataframe tbody tr th {\n",
       "        vertical-align: top;\n",
       "    }\n",
       "\n",
       "    .dataframe thead th {\n",
       "        text-align: right;\n",
       "    }\n",
       "</style>\n",
       "<table border=\"1\" class=\"dataframe\">\n",
       "  <thead>\n",
       "    <tr style=\"text-align: right;\">\n",
       "      <th></th>\n",
       "      <th>HQ Company Nr</th>\n",
       "      <th>Subsidiary Country ISO Code</th>\n",
       "      <th>LP Status</th>\n",
       "      <th>LP Substatus</th>\n",
       "      <th>LP Yearly Benefit Name Aggregated</th>\n",
       "      <th>LP Yearly Data Insured Lives</th>\n",
       "      <th>LP Yearly Data Pooling Status</th>\n",
       "      <th>LP Yearly Data Annual Premium (LCY)</th>\n",
       "      <th>LP Yearly Data Currency</th>\n",
       "      <th>HQ Region</th>\n",
       "      <th>HQ Industry</th>\n",
       "      <th>HQ Insured Lives</th>\n",
       "      <th>HQ Pooled Lives</th>\n",
       "      <th>HQ Potential</th>\n",
       "    </tr>\n",
       "  </thead>\n",
       "  <tbody>\n",
       "    <tr>\n",
       "      <th>0</th>\n",
       "      <td>1030753</td>\n",
       "      <td>AT</td>\n",
       "      <td>Contract</td>\n",
       "      <td>In action</td>\n",
       "      <td>Old age pensions</td>\n",
       "      <td>10.0</td>\n",
       "      <td>NaN</td>\n",
       "      <td>NaN</td>\n",
       "      <td>EUR</td>\n",
       "      <td>N-America</td>\n",
       "      <td>Unknown migration</td>\n",
       "      <td>3750.0</td>\n",
       "      <td>1228.0</td>\n",
       "      <td>1138.9</td>\n",
       "    </tr>\n",
       "    <tr>\n",
       "      <th>1</th>\n",
       "      <td>1814390</td>\n",
       "      <td>CH</td>\n",
       "      <td>Contract</td>\n",
       "      <td>Terminated</td>\n",
       "      <td>NaN</td>\n",
       "      <td>NaN</td>\n",
       "      <td>NaN</td>\n",
       "      <td>NaN</td>\n",
       "      <td>NaN</td>\n",
       "      <td>N-Europe</td>\n",
       "      <td>Other</td>\n",
       "      <td>254.0</td>\n",
       "      <td>154.0</td>\n",
       "      <td>90.0</td>\n",
       "    </tr>\n",
       "    <tr>\n",
       "      <th>2</th>\n",
       "      <td>1030890</td>\n",
       "      <td>CN</td>\n",
       "      <td>Contract</td>\n",
       "      <td>In action</td>\n",
       "      <td>Lump sum death, Medical, Critical illness, Acc...</td>\n",
       "      <td>1050.0</td>\n",
       "      <td>NaN</td>\n",
       "      <td>580818.0</td>\n",
       "      <td>CNY</td>\n",
       "      <td>Europe</td>\n",
       "      <td>Textiles, Leatherware, Jewelry</td>\n",
       "      <td>2677.0</td>\n",
       "      <td>1219.0</td>\n",
       "      <td>0.0</td>\n",
       "    </tr>\n",
       "    <tr>\n",
       "      <th>3</th>\n",
       "      <td>1002717</td>\n",
       "      <td>SE</td>\n",
       "      <td>Contract</td>\n",
       "      <td>In action</td>\n",
       "      <td>Lump sum death, Medical, Old age pensions</td>\n",
       "      <td>4.0</td>\n",
       "      <td>NaN</td>\n",
       "      <td>571704.0</td>\n",
       "      <td>SEK</td>\n",
       "      <td>Europe</td>\n",
       "      <td>Banking, Finance, Insurance, Consult</td>\n",
       "      <td>4.0</td>\n",
       "      <td>0.0</td>\n",
       "      <td>0.0</td>\n",
       "    </tr>\n",
       "    <tr>\n",
       "      <th>4</th>\n",
       "      <td>1030512</td>\n",
       "      <td>AT</td>\n",
       "      <td>Contract</td>\n",
       "      <td>In action</td>\n",
       "      <td>Disability pensions, Lump sum death</td>\n",
       "      <td>22.0</td>\n",
       "      <td>NaN</td>\n",
       "      <td>19000.0</td>\n",
       "      <td>EUR</td>\n",
       "      <td>N-Europe</td>\n",
       "      <td>Chemicals, Pharmaceuticals, Cosmetics</td>\n",
       "      <td>1641.0</td>\n",
       "      <td>143.0</td>\n",
       "      <td>6122.9</td>\n",
       "    </tr>\n",
       "    <tr>\n",
       "      <th>...</th>\n",
       "      <td>...</td>\n",
       "      <td>...</td>\n",
       "      <td>...</td>\n",
       "      <td>...</td>\n",
       "      <td>...</td>\n",
       "      <td>...</td>\n",
       "      <td>...</td>\n",
       "      <td>...</td>\n",
       "      <td>...</td>\n",
       "      <td>...</td>\n",
       "      <td>...</td>\n",
       "      <td>...</td>\n",
       "      <td>...</td>\n",
       "      <td>...</td>\n",
       "    </tr>\n",
       "    <tr>\n",
       "      <th>36652</th>\n",
       "      <td>3016668</td>\n",
       "      <td>FR</td>\n",
       "      <td>Opportunity</td>\n",
       "      <td>Lost</td>\n",
       "      <td>Disability pensions, Lump sum death, Medical</td>\n",
       "      <td>511.0</td>\n",
       "      <td>NaN</td>\n",
       "      <td>744283.0</td>\n",
       "      <td>EUR</td>\n",
       "      <td>N-America</td>\n",
       "      <td>Other</td>\n",
       "      <td>440.0</td>\n",
       "      <td>0.0</td>\n",
       "      <td>6074.2</td>\n",
       "    </tr>\n",
       "    <tr>\n",
       "      <th>36653</th>\n",
       "      <td>3016668</td>\n",
       "      <td>CH</td>\n",
       "      <td>Opportunity</td>\n",
       "      <td>In process</td>\n",
       "      <td>Accidental death and dismemberment</td>\n",
       "      <td>10.0</td>\n",
       "      <td>NaN</td>\n",
       "      <td>NaN</td>\n",
       "      <td>CHF</td>\n",
       "      <td>N-America</td>\n",
       "      <td>Other</td>\n",
       "      <td>440.0</td>\n",
       "      <td>0.0</td>\n",
       "      <td>6074.2</td>\n",
       "    </tr>\n",
       "    <tr>\n",
       "      <th>36654</th>\n",
       "      <td>3016668</td>\n",
       "      <td>HK</td>\n",
       "      <td>Opportunity</td>\n",
       "      <td>Lost</td>\n",
       "      <td>Lump sum death, Accidental death and dismember...</td>\n",
       "      <td>75.0</td>\n",
       "      <td>NaN</td>\n",
       "      <td>314831.0</td>\n",
       "      <td>HKD</td>\n",
       "      <td>N-America</td>\n",
       "      <td>Other</td>\n",
       "      <td>440.0</td>\n",
       "      <td>0.0</td>\n",
       "      <td>6074.2</td>\n",
       "    </tr>\n",
       "    <tr>\n",
       "      <th>36655</th>\n",
       "      <td>3016668</td>\n",
       "      <td>HK</td>\n",
       "      <td>Opportunity</td>\n",
       "      <td>Lost</td>\n",
       "      <td>Medical</td>\n",
       "      <td>187.0</td>\n",
       "      <td>NaN</td>\n",
       "      <td>1280592.0</td>\n",
       "      <td>HKD</td>\n",
       "      <td>N-America</td>\n",
       "      <td>Other</td>\n",
       "      <td>440.0</td>\n",
       "      <td>0.0</td>\n",
       "      <td>6074.2</td>\n",
       "    </tr>\n",
       "    <tr>\n",
       "      <th>36656</th>\n",
       "      <td>3020374</td>\n",
       "      <td>GB</td>\n",
       "      <td>Opportunity</td>\n",
       "      <td>Quote</td>\n",
       "      <td>Lump sum death</td>\n",
       "      <td>218.0</td>\n",
       "      <td>NaN</td>\n",
       "      <td>18084.0</td>\n",
       "      <td>GBP</td>\n",
       "      <td>Europe</td>\n",
       "      <td>Other</td>\n",
       "      <td>0.0</td>\n",
       "      <td>0.0</td>\n",
       "      <td>0.0</td>\n",
       "    </tr>\n",
       "  </tbody>\n",
       "</table>\n",
       "<p>36657 rows × 14 columns</p>\n",
       "</div>"
      ],
      "text/plain": [
       "       HQ Company Nr Subsidiary Country ISO Code    LP Status LP Substatus  \\\n",
       "0            1030753                          AT     Contract    In action   \n",
       "1            1814390                          CH     Contract   Terminated   \n",
       "2            1030890                          CN     Contract    In action   \n",
       "3            1002717                          SE     Contract    In action   \n",
       "4            1030512                          AT     Contract    In action   \n",
       "...              ...                         ...          ...          ...   \n",
       "36652        3016668                          FR  Opportunity         Lost   \n",
       "36653        3016668                          CH  Opportunity   In process   \n",
       "36654        3016668                          HK  Opportunity         Lost   \n",
       "36655        3016668                          HK  Opportunity         Lost   \n",
       "36656        3020374                          GB  Opportunity        Quote   \n",
       "\n",
       "                       LP Yearly Benefit Name Aggregated  \\\n",
       "0                                       Old age pensions   \n",
       "1                                                    NaN   \n",
       "2      Lump sum death, Medical, Critical illness, Acc...   \n",
       "3              Lump sum death, Medical, Old age pensions   \n",
       "4                    Disability pensions, Lump sum death   \n",
       "...                                                  ...   \n",
       "36652       Disability pensions, Lump sum death, Medical   \n",
       "36653                 Accidental death and dismemberment   \n",
       "36654  Lump sum death, Accidental death and dismember...   \n",
       "36655                                            Medical   \n",
       "36656                                     Lump sum death   \n",
       "\n",
       "       LP Yearly Data Insured Lives LP Yearly Data Pooling Status  \\\n",
       "0                              10.0                           NaN   \n",
       "1                               NaN                           NaN   \n",
       "2                            1050.0                           NaN   \n",
       "3                               4.0                           NaN   \n",
       "4                              22.0                           NaN   \n",
       "...                             ...                           ...   \n",
       "36652                         511.0                           NaN   \n",
       "36653                          10.0                           NaN   \n",
       "36654                          75.0                           NaN   \n",
       "36655                         187.0                           NaN   \n",
       "36656                         218.0                           NaN   \n",
       "\n",
       "       LP Yearly Data Annual Premium (LCY) LP Yearly Data Currency  HQ Region  \\\n",
       "0                                      NaN                     EUR  N-America   \n",
       "1                                      NaN                     NaN   N-Europe   \n",
       "2                                 580818.0                     CNY     Europe   \n",
       "3                                 571704.0                     SEK     Europe   \n",
       "4                                  19000.0                     EUR   N-Europe   \n",
       "...                                    ...                     ...        ...   \n",
       "36652                             744283.0                     EUR  N-America   \n",
       "36653                                  NaN                     CHF  N-America   \n",
       "36654                             314831.0                     HKD  N-America   \n",
       "36655                            1280592.0                     HKD  N-America   \n",
       "36656                              18084.0                     GBP     Europe   \n",
       "\n",
       "                                 HQ Industry  HQ Insured Lives  \\\n",
       "0                          Unknown migration            3750.0   \n",
       "1                                      Other             254.0   \n",
       "2             Textiles, Leatherware, Jewelry            2677.0   \n",
       "3       Banking, Finance, Insurance, Consult               4.0   \n",
       "4      Chemicals, Pharmaceuticals, Cosmetics            1641.0   \n",
       "...                                      ...               ...   \n",
       "36652                                  Other             440.0   \n",
       "36653                                  Other             440.0   \n",
       "36654                                  Other             440.0   \n",
       "36655                                  Other             440.0   \n",
       "36656                                  Other               0.0   \n",
       "\n",
       "       HQ Pooled Lives  HQ Potential  \n",
       "0               1228.0        1138.9  \n",
       "1                154.0          90.0  \n",
       "2               1219.0           0.0  \n",
       "3                  0.0           0.0  \n",
       "4                143.0        6122.9  \n",
       "...                ...           ...  \n",
       "36652              0.0        6074.2  \n",
       "36653              0.0        6074.2  \n",
       "36654              0.0        6074.2  \n",
       "36655              0.0        6074.2  \n",
       "36656              0.0           0.0  \n",
       "\n",
       "[36657 rows x 14 columns]"
      ]
     },
     "execution_count": 2,
     "metadata": {},
     "output_type": "execute_result"
    }
   ],
   "source": [
    "joinedSheet = lpSpecificCol.merge(hqSpecificCol, how=\"left\", on=\"HQ Company Nr\")\n",
    "joinedSheet"
   ]
  },
  {
   "cell_type": "code",
   "execution_count": 3,
   "metadata": {},
   "outputs": [
    {
     "data": {
      "text/plain": [
       "(36657, 14)"
      ]
     },
     "execution_count": 3,
     "metadata": {},
     "output_type": "execute_result"
    }
   ],
   "source": [
    "joinedSheet.shape"
   ]
  },
  {
   "cell_type": "code",
   "execution_count": 4,
   "metadata": {},
   "outputs": [
    {
     "data": {
      "text/plain": [
       "(11742, 14)"
      ]
     },
     "execution_count": 4,
     "metadata": {},
     "output_type": "execute_result"
    }
   ],
   "source": [
    "#dropping NaN values because the joinesSheet has 36657 rows, huge data, so dropping won't make any difference\n",
    "#we are dropping data entry (row), not the variable\n",
    "#if the row number was not this much we would have handled this\n",
    "#replacing this with avg like\n",
    "#mean=joinedSheet['LP Yearly Data Insured Lives'].mean()\n",
    "#joinedSheet['LP Yearly Data Insured Lives'],replace(np.nan, mean)\n",
    "#joinedSheet= joinedSheet[joinedSheet['LP Yearly Data Insured Lives'].mean()] --as it consists of numeric value\n",
    "#for values that are not numeric, we use mode\n",
    "#replaced based on other methods\n",
    "#LP Yearly Data Pooling Status null gula binary 1,0\n",
    "joinedSheet.dropna(subset=[\"HQ Company Nr\"], axis=0, inplace=True)\n",
    "joinedSheet.dropna(subset=[\"LP Yearly Data Currency\",\n",
    "                           'Subsidiary Country ISO Code',\n",
    "                           'LP Status',\n",
    "                           'LP Substatus', \n",
    "                           'LP Yearly Benefit Name Aggregated', \n",
    "                           'LP Yearly Data Insured Lives', \n",
    "                           'LP Yearly Data Annual Premium (LCY)',\n",
    "                           \"HQ Industry\",\n",
    "                           'HQ Insured Lives', \n",
    "                           'HQ Pooled Lives', \n",
    "                           'HQ Potential'], axis=0, inplace=True)\n",
    "\n",
    "joinedSheet['LP Yearly Data Pooling Status'].replace(to_replace =[\"Pooled\", np.nan], value =[1, 0], inplace=True)\n",
    "joinedSheet = joinedSheet[joinedSheet['LP Yearly Data Annual Premium (LCY)'] <50000]\n",
    "joinedSheet = joinedSheet[joinedSheet['LP Yearly Data Annual Premium (LCY)'] >100]\n",
    "\n",
    "joinedSheet.shape"
   ]
  },
  {
   "cell_type": "code",
   "execution_count": 5,
   "metadata": {},
   "outputs": [
    {
     "name": "stderr",
     "output_type": "stream",
     "text": [
      "G:\\anaconda\\lib\\site-packages\\pandas\\core\\indexing.py:670: SettingWithCopyWarning: \n",
      "A value is trying to be set on a copy of a slice from a DataFrame\n",
      "\n",
      "See the caveats in the documentation: https://pandas.pydata.org/pandas-docs/stable/user_guide/indexing.html#returning-a-view-versus-a-copy\n",
      "  self._setitem_with_indexer(indexer, value)\n"
     ]
    },
    {
     "name": "stdout",
     "output_type": "stream",
     "text": [
      "(11742, 14)\n"
     ]
    }
   ],
   "source": [
    "#DATA FORMATTING\n",
    "#when?\n",
    "#NY-NewYork-newyork\n",
    "#unit conversion like:\n",
    "#dg[\"smt\"]=235/df[\"smt\"]\n",
    "#unit conversion for currency\n",
    "# removing NaN values from exchange rates\n",
    "currencyFile = currencyFile[currencyFile['Production NWP'].notna()]\n",
    "joinedSheet = joinedSheet.reset_index(drop=True)\n",
    "\n",
    "for i in joinedSheet.index:\n",
    "    joinedSheet['LP Yearly Data Annual Premium (LCY)'].iloc[i] = ((joinedSheet['LP Yearly Data Annual Premium (LCY)'].iloc[i])*((currencyFile.loc[currencyFile['Currency Iso code'] == joinedSheet['LP Yearly Data Currency'].iloc[i], 'Production NWP']).iloc[0]))\n",
    "\n",
    "#del joinedSheet['LP Yearly Data Currency']\n",
    "print(joinedSheet.shape)\n",
    "\n",
    "#df.rename(columns={\"smt\":\"newname\"}, inplace=True)\n",
    "#joinedSheet.rename(columns={\"LP Yearly Data Single Premium\":\"Converted LP Yearly Data Single Premium\"}, inplace=True)\n",
    "\n",
    "#incorrect data types assigned to a feature\n",
    "#df[\"a\"]=df[\"a\"].astype(\"int\")\n"
   ]
  },
  {
   "cell_type": "code",
   "execution_count": 6,
   "metadata": {},
   "outputs": [
    {
     "data": {
      "text/plain": [
       "11737    2898134\n",
       "11738    2908543\n",
       "11739    2959856\n",
       "11740    3003925\n",
       "11741    3020374\n",
       "Name: HQ Company Nr, dtype: int64"
      ]
     },
     "execution_count": 6,
     "metadata": {},
     "output_type": "execute_result"
    }
   ],
   "source": [
    "#astype\n",
    "#joinedSheet.describe()\n",
    "joinedSheet[\"HQ Company Nr\"].tail(5)\n"
   ]
  },
  {
   "cell_type": "code",
   "execution_count": 7,
   "metadata": {},
   "outputs": [
    {
     "data": {
      "text/plain": [
       "0        AT\n",
       "1        AT\n",
       "2        AT\n",
       "3        AT\n",
       "4        AT\n",
       "         ..\n",
       "11737    SG\n",
       "11738    CO\n",
       "11739    IE\n",
       "11740    IE\n",
       "11741    GB\n",
       "Name: Subsidiary Country ISO Code, Length: 11742, dtype: object"
      ]
     },
     "execution_count": 7,
     "metadata": {},
     "output_type": "execute_result"
    }
   ],
   "source": [
    "joinedSheet[\"Subsidiary Country ISO Code\"]\n"
   ]
  },
  {
   "cell_type": "code",
   "execution_count": 8,
   "metadata": {},
   "outputs": [
    {
     "data": {
      "text/plain": [
       "11737    Opportunity\n",
       "11738    Opportunity\n",
       "11739    Opportunity\n",
       "11740    Opportunity\n",
       "11741    Opportunity\n",
       "Name: LP Status, dtype: object"
      ]
     },
     "execution_count": 8,
     "metadata": {},
     "output_type": "execute_result"
    }
   ],
   "source": [
    "joinedSheet[\"LP Status\"].tail(5)"
   ]
  },
  {
   "cell_type": "code",
   "execution_count": 9,
   "metadata": {},
   "outputs": [
    {
     "data": {
      "text/plain": [
       "11737    Quote\n",
       "11738    Quote\n",
       "11739     Lost\n",
       "11740     Lost\n",
       "11741    Quote\n",
       "Name: LP Substatus, dtype: object"
      ]
     },
     "execution_count": 9,
     "metadata": {},
     "output_type": "execute_result"
    }
   ],
   "source": [
    "joinedSheet[\"LP Substatus\"].tail(5)"
   ]
  },
  {
   "cell_type": "code",
   "execution_count": 10,
   "metadata": {},
   "outputs": [
    {
     "data": {
      "text/plain": [
       "11737    Disability pensions, Lump sum death, Medical, ...\n",
       "11738    Lump sum death, Medical, Accidental death and ...\n",
       "11739                                       Lump sum death\n",
       "11740                  Disability pensions, Lump sum death\n",
       "11741                                       Lump sum death\n",
       "Name: LP Yearly Benefit Name Aggregated, dtype: object"
      ]
     },
     "execution_count": 10,
     "metadata": {},
     "output_type": "execute_result"
    }
   ],
   "source": [
    "joinedSheet[\"LP Yearly Benefit Name Aggregated\"].tail(5)"
   ]
  },
  {
   "cell_type": "code",
   "execution_count": 11,
   "metadata": {},
   "outputs": [
    {
     "data": {
      "text/plain": [
       "11737     12.0\n",
       "11738     45.0\n",
       "11739     47.0\n",
       "11740     33.0\n",
       "11741    218.0\n",
       "Name: LP Yearly Data Insured Lives, dtype: float64"
      ]
     },
     "execution_count": 11,
     "metadata": {},
     "output_type": "execute_result"
    }
   ],
   "source": [
    "joinedSheet[\"LP Yearly Data Insured Lives\"].tail(5)"
   ]
  },
  {
   "cell_type": "code",
   "execution_count": 12,
   "metadata": {},
   "outputs": [
    {
     "data": {
      "text/plain": [
       "11737    0\n",
       "11738    0\n",
       "11739    0\n",
       "11740    0\n",
       "11741    0\n",
       "Name: LP Yearly Data Pooling Status, dtype: int64"
      ]
     },
     "execution_count": 12,
     "metadata": {},
     "output_type": "execute_result"
    }
   ],
   "source": [
    "joinedSheet[\"LP Yearly Data Pooling Status\"].tail(5)"
   ]
  },
  {
   "cell_type": "code",
   "execution_count": 13,
   "metadata": {},
   "outputs": [
    {
     "data": {
      "text/plain": [
       "11737    16384.68000\n",
       "11738        5.57931\n",
       "11739    11455.56000\n",
       "11740    11679.12000\n",
       "11741    23328.36000\n",
       "Name: LP Yearly Data Annual Premium (LCY), dtype: float64"
      ]
     },
     "execution_count": 13,
     "metadata": {},
     "output_type": "execute_result"
    }
   ],
   "source": [
    "joinedSheet[\"LP Yearly Data Annual Premium (LCY)\"].tail(5)"
   ]
  },
  {
   "cell_type": "code",
   "execution_count": 14,
   "metadata": {},
   "outputs": [
    {
     "data": {
      "text/plain": [
       "11737    SGD\n",
       "11738    COP\n",
       "11739    EUR\n",
       "11740    EUR\n",
       "11741    GBP\n",
       "Name: LP Yearly Data Currency, dtype: object"
      ]
     },
     "execution_count": 14,
     "metadata": {},
     "output_type": "execute_result"
    }
   ],
   "source": [
    "joinedSheet[\"LP Yearly Data Currency\"].tail(5)"
   ]
  },
  {
   "cell_type": "code",
   "execution_count": 15,
   "metadata": {},
   "outputs": [
    {
     "data": {
      "text/plain": [
       "0         N-Europe\n",
       "1        N-America\n",
       "2           Europe\n",
       "3           Europe\n",
       "4        N-America\n",
       "           ...    \n",
       "11737       Europe\n",
       "11738    N-America\n",
       "11739       Europe\n",
       "11740    N-America\n",
       "11741       Europe\n",
       "Name: HQ Region, Length: 11742, dtype: object"
      ]
     },
     "execution_count": 15,
     "metadata": {},
     "output_type": "execute_result"
    }
   ],
   "source": [
    "joinedSheet[\"HQ Region\"]"
   ]
  },
  {
   "cell_type": "code",
   "execution_count": 16,
   "metadata": {},
   "outputs": [
    {
     "data": {
      "text/plain": [
       "11737                                       Other\n",
       "11738                                       Other\n",
       "11739        Banking, Finance, Insurance, Consult\n",
       "11740    Computers, Electronics, Office Equipment\n",
       "11741                                       Other\n",
       "Name: HQ Industry, dtype: object"
      ]
     },
     "execution_count": 16,
     "metadata": {},
     "output_type": "execute_result"
    }
   ],
   "source": [
    "joinedSheet[\"HQ Industry\"].tail(5)"
   ]
  },
  {
   "cell_type": "code",
   "execution_count": 17,
   "metadata": {},
   "outputs": [
    {
     "data": {
      "text/plain": [
       "11737      0.0\n",
       "11738      0.0\n",
       "11739    392.0\n",
       "11740      0.0\n",
       "11741      0.0\n",
       "Name: HQ Insured Lives, dtype: float64"
      ]
     },
     "execution_count": 17,
     "metadata": {},
     "output_type": "execute_result"
    }
   ],
   "source": [
    "joinedSheet[\"HQ Insured Lives\"].tail(5)"
   ]
  },
  {
   "cell_type": "code",
   "execution_count": 18,
   "metadata": {},
   "outputs": [
    {
     "data": {
      "text/plain": [
       "11737    0.0\n",
       "11738    0.0\n",
       "11739    0.0\n",
       "11740    0.0\n",
       "11741    0.0\n",
       "Name: HQ Pooled Lives, dtype: float64"
      ]
     },
     "execution_count": 18,
     "metadata": {},
     "output_type": "execute_result"
    }
   ],
   "source": [
    "joinedSheet[\"HQ Pooled Lives\"].tail(5)"
   ]
  },
  {
   "cell_type": "code",
   "execution_count": 19,
   "metadata": {},
   "outputs": [
    {
     "data": {
      "text/plain": [
       "11737    0.0\n",
       "11738    0.0\n",
       "11739    0.0\n",
       "11740    0.0\n",
       "11741    0.0\n",
       "Name: HQ Potential, dtype: float64"
      ]
     },
     "execution_count": 19,
     "metadata": {},
     "output_type": "execute_result"
    }
   ],
   "source": [
    "joinedSheet[\"HQ Potential\"].tail(5)"
   ]
  },
  {
   "cell_type": "code",
   "execution_count": 20,
   "metadata": {
    "scrolled": true
   },
   "outputs": [
    {
     "data": {
      "text/plain": [
       "64.77789133026742"
      ]
     },
     "execution_count": 20,
     "metadata": {},
     "output_type": "execute_result"
    }
   ],
   "source": [
    "#print(joinedSheet[\"LP Yearly Data Annual Premium (LCY)\"])\n",
    "#normalization\n",
    "#when two values are in different range, and doing linear regression\n",
    "#the feature that has high range of values will influence the result most\n",
    "#doesn't necessarily mean it's important as a predictor\n",
    "#normalize variables to range between 0 to 1\n",
    "#similar value range, similar intrinsic influence on analytical model\n",
    "\n",
    "#let's see the range of some values with mean\n",
    "joinedSheet[\"LP Yearly Data Insured Lives\"].mean()"
   ]
  },
  {
   "cell_type": "code",
   "execution_count": 21,
   "metadata": {},
   "outputs": [
    {
     "data": {
      "text/plain": [
       "8833.932038834952"
      ]
     },
     "execution_count": 21,
     "metadata": {},
     "output_type": "execute_result"
    }
   ],
   "source": [
    "joinedSheet[\"HQ Insured Lives\"].mean()\n"
   ]
  },
  {
   "cell_type": "code",
   "execution_count": 22,
   "metadata": {},
   "outputs": [
    {
     "data": {
      "text/plain": [
       "2205.396184636348"
      ]
     },
     "execution_count": 22,
     "metadata": {},
     "output_type": "execute_result"
    }
   ],
   "source": [
    "joinedSheet[\"HQ Pooled Lives\"].mean()"
   ]
  },
  {
   "cell_type": "code",
   "execution_count": 23,
   "metadata": {},
   "outputs": [],
   "source": [
    "#joinedSheet[\"HQ Potential\"].mean()\n",
    "#so need to normalize these values"
   ]
  },
  {
   "cell_type": "code",
   "execution_count": 24,
   "metadata": {},
   "outputs": [
    {
     "data": {
      "image/png": "[encoded data removed]",
      "text/plain": [
       "<Figure size 432x288 with 1 Axes>"
      ]
     },
     "metadata": {
      "needs_background": "light"
     },
     "output_type": "display_data"
    },
    {
     "data": {
      "image/png": "[encoded data removed]",
      "text/plain": [
       "<Figure size 432x288 with 1 Axes>"
      ]
     },
     "metadata": {
      "needs_background": "light"
     },
     "output_type": "display_data"
    },
    {
     "data": {
      "image/png": "[encoded data removed]",
      "text/plain": [
       "<Figure size 432x288 with 1 Axes>"
      ]
     },
     "metadata": {
      "needs_background": "light"
     },
     "output_type": "display_data"
    }
   ],
   "source": [
    "#normalitycheck through histogram\n",
    "#not derived from gaussian distribution\n",
    "#A sample of data has a Gaussian distribution of the histogram plot, showing the familiar bell shape.\n",
    "#continuous probability distribution for a real-valued random variable\n",
    "from matplotlib import pyplot\n",
    "pyplot.hist(joinedSheet[\"LP Yearly Data Insured Lives\"])\n",
    "pyplot.show()\n",
    "pyplot.hist(joinedSheet[\"HQ Insured Lives\"])\n",
    "pyplot.show()\n",
    "\n",
    "pyplot.hist(joinedSheet[\"HQ Pooled Lives\"])\n",
    "pyplot.show()\n",
    "#pyplot.hist(joinedSheet[\"HQ Potential\"])\n",
    "#pyplot.show()"
   ]
  },
  {
   "cell_type": "code",
   "execution_count": 25,
   "metadata": {},
   "outputs": [
    {
     "data": {
      "text/html": [
       "<div>\n",
       "<style scoped>\n",
       "    .dataframe tbody tr th:only-of-type {\n",
       "        vertical-align: middle;\n",
       "    }\n",
       "\n",
       "    .dataframe tbody tr th {\n",
       "        vertical-align: top;\n",
       "    }\n",
       "\n",
       "    .dataframe thead th {\n",
       "        text-align: right;\n",
       "    }\n",
       "</style>\n",
       "<table border=\"1\" class=\"dataframe\">\n",
       "  <thead>\n",
       "    <tr style=\"text-align: right;\">\n",
       "      <th></th>\n",
       "      <th>HQ Company Nr</th>\n",
       "      <th>Subsidiary Country ISO Code</th>\n",
       "      <th>LP Status</th>\n",
       "      <th>LP Substatus</th>\n",
       "      <th>LP Yearly Benefit Name Aggregated</th>\n",
       "      <th>LP Yearly Data Insured Lives</th>\n",
       "      <th>LP Yearly Data Pooling Status</th>\n",
       "      <th>LP Yearly Data Annual Premium (LCY)</th>\n",
       "      <th>LP Yearly Data Currency</th>\n",
       "      <th>HQ Region</th>\n",
       "      <th>HQ Industry</th>\n",
       "      <th>HQ Insured Lives</th>\n",
       "      <th>HQ Pooled Lives</th>\n",
       "      <th>HQ Potential</th>\n",
       "    </tr>\n",
       "  </thead>\n",
       "  <tbody>\n",
       "    <tr>\n",
       "      <th>0</th>\n",
       "      <td>1030512</td>\n",
       "      <td>AT</td>\n",
       "      <td>Contract</td>\n",
       "      <td>In action</td>\n",
       "      <td>Disability pensions, Lump sum death</td>\n",
       "      <td>0.002127</td>\n",
       "      <td>0</td>\n",
       "      <td>20520.00</td>\n",
       "      <td>EUR</td>\n",
       "      <td>N-Europe</td>\n",
       "      <td>Chemicals, Pharmaceuticals, Cosmetics</td>\n",
       "      <td>0.003505</td>\n",
       "      <td>0.003014</td>\n",
       "      <td>6122.9</td>\n",
       "    </tr>\n",
       "    <tr>\n",
       "      <th>1</th>\n",
       "      <td>1030644</td>\n",
       "      <td>AT</td>\n",
       "      <td>Contract</td>\n",
       "      <td>In action</td>\n",
       "      <td>Disability pensions, Orphans' pensions, Widow/...</td>\n",
       "      <td>0.002320</td>\n",
       "      <td>0</td>\n",
       "      <td>1721.52</td>\n",
       "      <td>EUR</td>\n",
       "      <td>N-America</td>\n",
       "      <td>Computers, Electronics, Office Equipment</td>\n",
       "      <td>0.009929</td>\n",
       "      <td>0.023119</td>\n",
       "      <td>0.0</td>\n",
       "    </tr>\n",
       "    <tr>\n",
       "      <th>2</th>\n",
       "      <td>1030634</td>\n",
       "      <td>AT</td>\n",
       "      <td>Contract</td>\n",
       "      <td>Terminated</td>\n",
       "      <td>Disability pensions, Orphans' pensions, Widow/...</td>\n",
       "      <td>0.009378</td>\n",
       "      <td>0</td>\n",
       "      <td>14496.84</td>\n",
       "      <td>EUR</td>\n",
       "      <td>Europe</td>\n",
       "      <td>Other</td>\n",
       "      <td>0.001457</td>\n",
       "      <td>0.012118</td>\n",
       "      <td>383512.6</td>\n",
       "    </tr>\n",
       "    <tr>\n",
       "      <th>3</th>\n",
       "      <td>1030634</td>\n",
       "      <td>AT</td>\n",
       "      <td>Contract</td>\n",
       "      <td>In action</td>\n",
       "      <td>Disability pensions, Orphans' pensions, Widow/...</td>\n",
       "      <td>0.015566</td>\n",
       "      <td>1</td>\n",
       "      <td>1549.80</td>\n",
       "      <td>EUR</td>\n",
       "      <td>Europe</td>\n",
       "      <td>Other</td>\n",
       "      <td>0.001457</td>\n",
       "      <td>0.012118</td>\n",
       "      <td>383512.6</td>\n",
       "    </tr>\n",
       "    <tr>\n",
       "      <th>4</th>\n",
       "      <td>1031097</td>\n",
       "      <td>AT</td>\n",
       "      <td>Contract</td>\n",
       "      <td>In action</td>\n",
       "      <td>Disability pensions, Orphans' pensions, Widow/...</td>\n",
       "      <td>0.001644</td>\n",
       "      <td>1</td>\n",
       "      <td>1064.88</td>\n",
       "      <td>EUR</td>\n",
       "      <td>N-America</td>\n",
       "      <td>Motor Vehicles, Metal Products, Tools</td>\n",
       "      <td>0.003629</td>\n",
       "      <td>0.009842</td>\n",
       "      <td>36717.7</td>\n",
       "    </tr>\n",
       "  </tbody>\n",
       "</table>\n",
       "</div>"
      ],
      "text/plain": [
       "   HQ Company Nr Subsidiary Country ISO Code LP Status LP Substatus  \\\n",
       "0        1030512                          AT  Contract    In action   \n",
       "1        1030644                          AT  Contract    In action   \n",
       "2        1030634                          AT  Contract   Terminated   \n",
       "3        1030634                          AT  Contract    In action   \n",
       "4        1031097                          AT  Contract    In action   \n",
       "\n",
       "                   LP Yearly Benefit Name Aggregated  \\\n",
       "0                Disability pensions, Lump sum death   \n",
       "1  Disability pensions, Orphans' pensions, Widow/...   \n",
       "2  Disability pensions, Orphans' pensions, Widow/...   \n",
       "3  Disability pensions, Orphans' pensions, Widow/...   \n",
       "4  Disability pensions, Orphans' pensions, Widow/...   \n",
       "\n",
       "   LP Yearly Data Insured Lives  LP Yearly Data Pooling Status  \\\n",
       "0                      0.002127                              0   \n",
       "1                      0.002320                              0   \n",
       "2                      0.009378                              0   \n",
       "3                      0.015566                              1   \n",
       "4                      0.001644                              1   \n",
       "\n",
       "   LP Yearly Data Annual Premium (LCY) LP Yearly Data Currency  HQ Region  \\\n",
       "0                             20520.00                     EUR   N-Europe   \n",
       "1                              1721.52                     EUR  N-America   \n",
       "2                             14496.84                     EUR     Europe   \n",
       "3                              1549.80                     EUR     Europe   \n",
       "4                              1064.88                     EUR  N-America   \n",
       "\n",
       "                                HQ Industry  HQ Insured Lives  \\\n",
       "0     Chemicals, Pharmaceuticals, Cosmetics          0.003505   \n",
       "1  Computers, Electronics, Office Equipment          0.009929   \n",
       "2                                     Other          0.001457   \n",
       "3                                     Other          0.001457   \n",
       "4     Motor Vehicles, Metal Products, Tools          0.003629   \n",
       "\n",
       "   HQ Pooled Lives  HQ Potential  \n",
       "0         0.003014        6122.9  \n",
       "1         0.023119           0.0  \n",
       "2         0.012118      383512.6  \n",
       "3         0.012118      383512.6  \n",
       "4         0.009842       36717.7  "
      ]
     },
     "execution_count": 25,
     "metadata": {},
     "output_type": "execute_result"
    }
   ],
   "source": [
    "#simple feature scaling : xnew=xold/xmax\n",
    "#df[\"a\"]=df[\"a\"]/df[\"a\"].max()\n",
    "#joinedSheet[\"a\"]=joinedSheet[\"a\"]/joinedSheet[\"a\"].max()\n",
    "#min-max : xnew=xold-xmin/xmax-xmin\n",
    "\n",
    "#we will use min-max for normalization, not z-score\n",
    "#because through normality check we have seen the data is not derived from gaussian distribution,\n",
    "#otherwise the histogram would be a bell-curve\n",
    "\n",
    "joinedSheet[\"LP Yearly Data Insured Lives\"]=(joinedSheet[\"LP Yearly Data Insured Lives\"]-joinedSheet[\"LP Yearly Data Insured Lives\"].min())/(joinedSheet[\"LP Yearly Data Insured Lives\"].max()-joinedSheet[\"LP Yearly Data Insured Lives\"].min())\n",
    "joinedSheet[\"HQ Insured Lives\"]=(joinedSheet[\"HQ Insured Lives\"]-joinedSheet[\"HQ Insured Lives\"].min())/(joinedSheet[\"HQ Insured Lives\"].max()-joinedSheet[\"HQ Insured Lives\"].min())\n",
    "joinedSheet[\"HQ Pooled Lives\"]=(joinedSheet[\"HQ Pooled Lives\"]-joinedSheet[\"HQ Pooled Lives\"].min())/(joinedSheet[\"HQ Pooled Lives\"].max()-joinedSheet[\"HQ Pooled Lives\"].min())\n",
    "#joinedSheet[\"HQ Potential\"]=(joinedSheet[\"HQ Potential\"]-joinedSheet[\"HQ Potential\"].min())/(joinedSheet[\"HQ Potential\"].max()-joinedSheet[\"HQ Potential\"].min())\n",
    "\n",
    "joinedSheet.head()\n",
    "#z-score/standard score= xold-avgofthefeature meu/standard deviation sigma\n",
    "#value around 0, between -3 and +3\n",
    "#df[\"a\"]=df[\"a\"]-df[\"a\"].mean()/df[\"a\"].std()\n"
   ]
  },
  {
   "cell_type": "code",
   "execution_count": 26,
   "metadata": {},
   "outputs": [
    {
     "data": {
      "image/png": "[encoded data removed]",
      "text/plain": [
       "<Figure size 432x288 with 1 Axes>"
      ]
     },
     "metadata": {
      "needs_background": "light"
     },
     "output_type": "display_data"
    }
   ],
   "source": [
    "#binning\n",
    "#bins=np.linspace(min(df[\"a\"]), max(df[\"a\"],4))\n",
    "#groupnames=[\"Low\", \"Medium\", \"High\"]\n",
    "#df[\"b\"]=pd.cut(df[\"a\"], bins,labels=groupnames,include_lowest=True)\n",
    "#use histogram to visualize\n",
    "#most cars have low price , only very few cars have high price\n",
    "\n",
    "bins=np.linspace(min(joinedSheet['LP Yearly Data Annual Premium (LCY)']), max(joinedSheet['LP Yearly Data Annual Premium (LCY)']),4)\n",
    "groupnames=[\"Low\", \"Medium\", \"High\"]\n",
    "joinedSheet[\"newbin\"]=pd.cut(joinedSheet[\"LP Yearly Data Annual Premium (LCY)\"], bins,labels=groupnames,include_lowest=True)\n",
    "#joinedSheet[\"newbin\"]\n",
    "#neg value drop korte hbe\n",
    "pyplot.hist(joinedSheet[\"newbin\"])\n",
    "pyplot.show()"
   ]
  },
  {
   "cell_type": "code",
   "execution_count": 27,
   "metadata": {},
   "outputs": [
    {
     "data": {
      "text/html": [
       "<div>\n",
       "<style scoped>\n",
       "    .dataframe tbody tr th:only-of-type {\n",
       "        vertical-align: middle;\n",
       "    }\n",
       "\n",
       "    .dataframe tbody tr th {\n",
       "        vertical-align: top;\n",
       "    }\n",
       "\n",
       "    .dataframe thead th {\n",
       "        text-align: right;\n",
       "    }\n",
       "</style>\n",
       "<table border=\"1\" class=\"dataframe\">\n",
       "  <thead>\n",
       "    <tr style=\"text-align: right;\">\n",
       "      <th></th>\n",
       "      <th>AE</th>\n",
       "      <th>AM</th>\n",
       "      <th>AR</th>\n",
       "      <th>AT</th>\n",
       "      <th>AU</th>\n",
       "      <th>BB</th>\n",
       "      <th>BE</th>\n",
       "      <th>BM</th>\n",
       "      <th>BR</th>\n",
       "      <th>CA</th>\n",
       "      <th>...</th>\n",
       "      <th>SV</th>\n",
       "      <th>TH</th>\n",
       "      <th>TN</th>\n",
       "      <th>TR</th>\n",
       "      <th>TW</th>\n",
       "      <th>UA</th>\n",
       "      <th>US</th>\n",
       "      <th>VA</th>\n",
       "      <th>VE</th>\n",
       "      <th>ZA</th>\n",
       "    </tr>\n",
       "  </thead>\n",
       "  <tbody>\n",
       "    <tr>\n",
       "      <th>0</th>\n",
       "      <td>0</td>\n",
       "      <td>0</td>\n",
       "      <td>0</td>\n",
       "      <td>1</td>\n",
       "      <td>0</td>\n",
       "      <td>0</td>\n",
       "      <td>0</td>\n",
       "      <td>0</td>\n",
       "      <td>0</td>\n",
       "      <td>0</td>\n",
       "      <td>...</td>\n",
       "      <td>0</td>\n",
       "      <td>0</td>\n",
       "      <td>0</td>\n",
       "      <td>0</td>\n",
       "      <td>0</td>\n",
       "      <td>0</td>\n",
       "      <td>0</td>\n",
       "      <td>0</td>\n",
       "      <td>0</td>\n",
       "      <td>0</td>\n",
       "    </tr>\n",
       "    <tr>\n",
       "      <th>1</th>\n",
       "      <td>0</td>\n",
       "      <td>0</td>\n",
       "      <td>0</td>\n",
       "      <td>1</td>\n",
       "      <td>0</td>\n",
       "      <td>0</td>\n",
       "      <td>0</td>\n",
       "      <td>0</td>\n",
       "      <td>0</td>\n",
       "      <td>0</td>\n",
       "      <td>...</td>\n",
       "      <td>0</td>\n",
       "      <td>0</td>\n",
       "      <td>0</td>\n",
       "      <td>0</td>\n",
       "      <td>0</td>\n",
       "      <td>0</td>\n",
       "      <td>0</td>\n",
       "      <td>0</td>\n",
       "      <td>0</td>\n",
       "      <td>0</td>\n",
       "    </tr>\n",
       "    <tr>\n",
       "      <th>2</th>\n",
       "      <td>0</td>\n",
       "      <td>0</td>\n",
       "      <td>0</td>\n",
       "      <td>1</td>\n",
       "      <td>0</td>\n",
       "      <td>0</td>\n",
       "      <td>0</td>\n",
       "      <td>0</td>\n",
       "      <td>0</td>\n",
       "      <td>0</td>\n",
       "      <td>...</td>\n",
       "      <td>0</td>\n",
       "      <td>0</td>\n",
       "      <td>0</td>\n",
       "      <td>0</td>\n",
       "      <td>0</td>\n",
       "      <td>0</td>\n",
       "      <td>0</td>\n",
       "      <td>0</td>\n",
       "      <td>0</td>\n",
       "      <td>0</td>\n",
       "    </tr>\n",
       "    <tr>\n",
       "      <th>3</th>\n",
       "      <td>0</td>\n",
       "      <td>0</td>\n",
       "      <td>0</td>\n",
       "      <td>1</td>\n",
       "      <td>0</td>\n",
       "      <td>0</td>\n",
       "      <td>0</td>\n",
       "      <td>0</td>\n",
       "      <td>0</td>\n",
       "      <td>0</td>\n",
       "      <td>...</td>\n",
       "      <td>0</td>\n",
       "      <td>0</td>\n",
       "      <td>0</td>\n",
       "      <td>0</td>\n",
       "      <td>0</td>\n",
       "      <td>0</td>\n",
       "      <td>0</td>\n",
       "      <td>0</td>\n",
       "      <td>0</td>\n",
       "      <td>0</td>\n",
       "    </tr>\n",
       "    <tr>\n",
       "      <th>4</th>\n",
       "      <td>0</td>\n",
       "      <td>0</td>\n",
       "      <td>0</td>\n",
       "      <td>1</td>\n",
       "      <td>0</td>\n",
       "      <td>0</td>\n",
       "      <td>0</td>\n",
       "      <td>0</td>\n",
       "      <td>0</td>\n",
       "      <td>0</td>\n",
       "      <td>...</td>\n",
       "      <td>0</td>\n",
       "      <td>0</td>\n",
       "      <td>0</td>\n",
       "      <td>0</td>\n",
       "      <td>0</td>\n",
       "      <td>0</td>\n",
       "      <td>0</td>\n",
       "      <td>0</td>\n",
       "      <td>0</td>\n",
       "      <td>0</td>\n",
       "    </tr>\n",
       "    <tr>\n",
       "      <th>...</th>\n",
       "      <td>...</td>\n",
       "      <td>...</td>\n",
       "      <td>...</td>\n",
       "      <td>...</td>\n",
       "      <td>...</td>\n",
       "      <td>...</td>\n",
       "      <td>...</td>\n",
       "      <td>...</td>\n",
       "      <td>...</td>\n",
       "      <td>...</td>\n",
       "      <td>...</td>\n",
       "      <td>...</td>\n",
       "      <td>...</td>\n",
       "      <td>...</td>\n",
       "      <td>...</td>\n",
       "      <td>...</td>\n",
       "      <td>...</td>\n",
       "      <td>...</td>\n",
       "      <td>...</td>\n",
       "      <td>...</td>\n",
       "      <td>...</td>\n",
       "    </tr>\n",
       "    <tr>\n",
       "      <th>11737</th>\n",
       "      <td>0</td>\n",
       "      <td>0</td>\n",
       "      <td>0</td>\n",
       "      <td>0</td>\n",
       "      <td>0</td>\n",
       "      <td>0</td>\n",
       "      <td>0</td>\n",
       "      <td>0</td>\n",
       "      <td>0</td>\n",
       "      <td>0</td>\n",
       "      <td>...</td>\n",
       "      <td>0</td>\n",
       "      <td>0</td>\n",
       "      <td>0</td>\n",
       "      <td>0</td>\n",
       "      <td>0</td>\n",
       "      <td>0</td>\n",
       "      <td>0</td>\n",
       "      <td>0</td>\n",
       "      <td>0</td>\n",
       "      <td>0</td>\n",
       "    </tr>\n",
       "    <tr>\n",
       "      <th>11738</th>\n",
       "      <td>0</td>\n",
       "      <td>0</td>\n",
       "      <td>0</td>\n",
       "      <td>0</td>\n",
       "      <td>0</td>\n",
       "      <td>0</td>\n",
       "      <td>0</td>\n",
       "      <td>0</td>\n",
       "      <td>0</td>\n",
       "      <td>0</td>\n",
       "      <td>...</td>\n",
       "      <td>0</td>\n",
       "      <td>0</td>\n",
       "      <td>0</td>\n",
       "      <td>0</td>\n",
       "      <td>0</td>\n",
       "      <td>0</td>\n",
       "      <td>0</td>\n",
       "      <td>0</td>\n",
       "      <td>0</td>\n",
       "      <td>0</td>\n",
       "    </tr>\n",
       "    <tr>\n",
       "      <th>11739</th>\n",
       "      <td>0</td>\n",
       "      <td>0</td>\n",
       "      <td>0</td>\n",
       "      <td>0</td>\n",
       "      <td>0</td>\n",
       "      <td>0</td>\n",
       "      <td>0</td>\n",
       "      <td>0</td>\n",
       "      <td>0</td>\n",
       "      <td>0</td>\n",
       "      <td>...</td>\n",
       "      <td>0</td>\n",
       "      <td>0</td>\n",
       "      <td>0</td>\n",
       "      <td>0</td>\n",
       "      <td>0</td>\n",
       "      <td>0</td>\n",
       "      <td>0</td>\n",
       "      <td>0</td>\n",
       "      <td>0</td>\n",
       "      <td>0</td>\n",
       "    </tr>\n",
       "    <tr>\n",
       "      <th>11740</th>\n",
       "      <td>0</td>\n",
       "      <td>0</td>\n",
       "      <td>0</td>\n",
       "      <td>0</td>\n",
       "      <td>0</td>\n",
       "      <td>0</td>\n",
       "      <td>0</td>\n",
       "      <td>0</td>\n",
       "      <td>0</td>\n",
       "      <td>0</td>\n",
       "      <td>...</td>\n",
       "      <td>0</td>\n",
       "      <td>0</td>\n",
       "      <td>0</td>\n",
       "      <td>0</td>\n",
       "      <td>0</td>\n",
       "      <td>0</td>\n",
       "      <td>0</td>\n",
       "      <td>0</td>\n",
       "      <td>0</td>\n",
       "      <td>0</td>\n",
       "    </tr>\n",
       "    <tr>\n",
       "      <th>11741</th>\n",
       "      <td>0</td>\n",
       "      <td>0</td>\n",
       "      <td>0</td>\n",
       "      <td>0</td>\n",
       "      <td>0</td>\n",
       "      <td>0</td>\n",
       "      <td>0</td>\n",
       "      <td>0</td>\n",
       "      <td>0</td>\n",
       "      <td>0</td>\n",
       "      <td>...</td>\n",
       "      <td>0</td>\n",
       "      <td>0</td>\n",
       "      <td>0</td>\n",
       "      <td>0</td>\n",
       "      <td>0</td>\n",
       "      <td>0</td>\n",
       "      <td>0</td>\n",
       "      <td>0</td>\n",
       "      <td>0</td>\n",
       "      <td>0</td>\n",
       "    </tr>\n",
       "  </tbody>\n",
       "</table>\n",
       "<p>11742 rows × 67 columns</p>\n",
       "</div>"
      ],
      "text/plain": [
       "       AE  AM  AR  AT  AU  BB  BE  BM  BR  CA  ...  SV  TH  TN  TR  TW  UA  \\\n",
       "0       0   0   0   1   0   0   0   0   0   0  ...   0   0   0   0   0   0   \n",
       "1       0   0   0   1   0   0   0   0   0   0  ...   0   0   0   0   0   0   \n",
       "2       0   0   0   1   0   0   0   0   0   0  ...   0   0   0   0   0   0   \n",
       "3       0   0   0   1   0   0   0   0   0   0  ...   0   0   0   0   0   0   \n",
       "4       0   0   0   1   0   0   0   0   0   0  ...   0   0   0   0   0   0   \n",
       "...    ..  ..  ..  ..  ..  ..  ..  ..  ..  ..  ...  ..  ..  ..  ..  ..  ..   \n",
       "11737   0   0   0   0   0   0   0   0   0   0  ...   0   0   0   0   0   0   \n",
       "11738   0   0   0   0   0   0   0   0   0   0  ...   0   0   0   0   0   0   \n",
       "11739   0   0   0   0   0   0   0   0   0   0  ...   0   0   0   0   0   0   \n",
       "11740   0   0   0   0   0   0   0   0   0   0  ...   0   0   0   0   0   0   \n",
       "11741   0   0   0   0   0   0   0   0   0   0  ...   0   0   0   0   0   0   \n",
       "\n",
       "       US  VA  VE  ZA  \n",
       "0       0   0   0   0  \n",
       "1       0   0   0   0  \n",
       "2       0   0   0   0  \n",
       "3       0   0   0   0  \n",
       "4       0   0   0   0  \n",
       "...    ..  ..  ..  ..  \n",
       "11737   0   0   0   0  \n",
       "11738   0   0   0   0  \n",
       "11739   0   0   0   0  \n",
       "11740   0   0   0   0  \n",
       "11741   0   0   0   0  \n",
       "\n",
       "[11742 rows x 67 columns]"
      ]
     },
     "execution_count": 27,
     "metadata": {},
     "output_type": "execute_result"
    }
   ],
   "source": [
    "#pd.get_dummies(df[\"a\"])\n",
    "pd.get_dummies(joinedSheet[\"Subsidiary Country ISO Code\"])\n",
    "\n",
    "#EDA \n",
    "#summarize main characteristics of the data\n",
    "#Gain better understanding of the dataset\n",
    "#relationship between var\n",
    "#extract important vars\n",
    "#df.describe() nan skipped\n",
    "#joinedSheet.describe()"
   ]
  },
  {
   "cell_type": "code",
   "execution_count": 28,
   "metadata": {},
   "outputs": [
    {
     "data": {
      "text/plain": [
       "lpstatus\n",
       "Contract       10473\n",
       "Opportunity     1269\n",
       "Name: LP Status, dtype: int64"
      ]
     },
     "execution_count": 28,
     "metadata": {},
     "output_type": "execute_result"
    }
   ],
   "source": [
    "#drive_wheel_counts=df[\"drive_wheels\"].value_counts()\n",
    "#drive_wheel_counts.rename(columns={\"drive_wheels\":\"value counts\" inplace=True})\n",
    "#drive_wheel_counts.index.name='drive_wheels'\n",
    "\n",
    "lpstatus_counts=joinedSheet[\"LP Status\"].value_counts()\n",
    "#lpstatus_counts.rename(columns={\"LP Status\":\"value counts\" inplace=True})\n",
    "lpstatus_counts.index.name='lpstatus'\n",
    "lpstatus_counts\n",
    "#only one type of data, no influence? no need to binary/one-hot encode\n",
    "#no need of making quantitative"
   ]
  },
  {
   "cell_type": "code",
   "execution_count": 29,
   "metadata": {},
   "outputs": [
    {
     "data": {
      "text/plain": [
       "lpsubstatus\n",
       "Terminated    6527\n",
       "In action     3946\n",
       "Lost          1114\n",
       "Won             71\n",
       "Quote           68\n",
       "In process      16\n",
       "Name: LP Substatus, dtype: int64"
      ]
     },
     "execution_count": 29,
     "metadata": {},
     "output_type": "execute_result"
    }
   ],
   "source": [
    "lpsubstatus_counts=joinedSheet[\"LP Substatus\"].value_counts()\n",
    "#lpstatus_counts.rename(columns={\"LP Status\":\"value counts\" inplace=True})\n",
    "lpsubstatus_counts.index.name='lpsubstatus'\n",
    "lpsubstatus_counts\n",
    "#binary encode will do(as there are only two types)/ one-hot encode\n",
    "#will do one-hot encode\n",
    "#terminated lost thakbe na\n"
   ]
  },
  {
   "cell_type": "code",
   "execution_count": 30,
   "metadata": {},
   "outputs": [
    {
     "data": {
      "text/plain": [
       "lpsubstatus\n",
       "In action     3946\n",
       "Won             71\n",
       "Quote           68\n",
       "In process      16\n",
       "Name: LP Substatus, dtype: int64"
      ]
     },
     "execution_count": 30,
     "metadata": {},
     "output_type": "execute_result"
    }
   ],
   "source": [
    "indexNames = joinedSheet[ joinedSheet['LP Substatus'] == 'Terminated' ].index\n",
    "joinedSheet.drop(indexNames , inplace=True)\n",
    "\n",
    "indexNames = joinedSheet[ joinedSheet['LP Substatus'] == 'Lost' ].index\n",
    "joinedSheet.drop(indexNames , inplace=True)\n",
    "\n",
    "lpsubstatus_counts=joinedSheet[\"LP Substatus\"].value_counts()\n",
    "#lpstatus_counts.rename(columns={\"LP Status\":\"value counts\" inplace=True})\n",
    "lpsubstatus_counts.index.name='lpsubstatus'\n",
    "lpsubstatus_counts"
   ]
  },
  {
   "cell_type": "code",
   "execution_count": 31,
   "metadata": {},
   "outputs": [
    {
     "data": {
      "text/plain": [
       "(4101, 83)"
      ]
     },
     "execution_count": 31,
     "metadata": {},
     "output_type": "execute_result"
    }
   ],
   "source": [
    "#pd.get_dummies(joinedSheet[\"LP Substatus\"])\n",
    "\n",
    "joinedSheet['LP Substatus'] = pd.Categorical(joinedSheet['LP Substatus'])\n",
    "dfDummies = pd.get_dummies(joinedSheet['LP Substatus'], prefix = 'lp_substatus_')\n",
    "joinedSheet = pd.concat([joinedSheet, dfDummies], axis=1)\n",
    "\n",
    "joinedSheet['Subsidiary Country ISO Code'] = pd.Categorical(joinedSheet['Subsidiary Country ISO Code'])\n",
    "dfDummies = pd.get_dummies(joinedSheet['Subsidiary Country ISO Code'], prefix = 'ISO')\n",
    "joinedSheet = pd.concat([joinedSheet, dfDummies], axis=1)\n",
    "\n",
    "joinedSheet['HQ Region'] = pd.Categorical(joinedSheet['HQ Region'])\n",
    "dfDummies = pd.get_dummies(joinedSheet['HQ Region'], prefix = 'hq_region')\n",
    "joinedSheet = pd.concat([joinedSheet, dfDummies], axis=1)\n",
    "\n",
    "joinedSheet.shape"
   ]
  },
  {
   "cell_type": "code",
   "execution_count": 32,
   "metadata": {},
   "outputs": [
    {
     "data": {
      "text/plain": [
       "lp_yearly_data_pooling_status\n",
       "0    2892\n",
       "1    1209\n",
       "Name: LP Yearly Data Pooling Status, dtype: int64"
      ]
     },
     "execution_count": 32,
     "metadata": {},
     "output_type": "execute_result"
    }
   ],
   "source": [
    "lp_yearly_data_pooling_status_counts=joinedSheet[\"LP Yearly Data Pooling Status\"].value_counts()\n",
    "#lpstatus_counts.rename(columns={\"LP Status\":\"value counts\" inplace=True})\n",
    "lp_yearly_data_pooling_status_counts.index.name='lp_yearly_data_pooling_status'\n",
    "lp_yearly_data_pooling_status_counts\n",
    "#only one type of data, no influence? no need to binary/one-hot encode\n",
    "#no need of making quantitative"
   ]
  },
  {
   "cell_type": "code",
   "execution_count": 33,
   "metadata": {},
   "outputs": [
    {
     "ename": "AttributeError",
     "evalue": "'str' object has no attribute 'get'",
     "output_type": "error",
     "traceback": [
      "\u001b[1;31m---------------------------------------------------------------------------\u001b[0m",
      "\u001b[1;31mAttributeError\u001b[0m                            Traceback (most recent call last)",
      "\u001b[1;32m<ipython-input-33-189076132031>\u001b[0m in \u001b[0;36m<module>\u001b[1;34m\u001b[0m\n\u001b[0;32m      9\u001b[0m \u001b[1;31m#sns.boxplot(x=\"a\", y=\"price\", data=\"df\")\u001b[0m\u001b[1;33m\u001b[0m\u001b[1;33m\u001b[0m\u001b[1;33m\u001b[0m\u001b[0m\n\u001b[0;32m     10\u001b[0m \u001b[1;32mimport\u001b[0m \u001b[0mseaborn\u001b[0m \u001b[1;32mas\u001b[0m \u001b[0msns\u001b[0m\u001b[1;33m\u001b[0m\u001b[1;33m\u001b[0m\u001b[0m\n\u001b[1;32m---> 11\u001b[1;33m \u001b[0msns\u001b[0m\u001b[1;33m.\u001b[0m\u001b[0mboxplot\u001b[0m\u001b[1;33m(\u001b[0m\u001b[0mx\u001b[0m\u001b[1;33m=\u001b[0m\u001b[1;34m\"HQ Pooled Lives\"\u001b[0m\u001b[1;33m,\u001b[0m \u001b[0my\u001b[0m\u001b[1;33m=\u001b[0m\u001b[1;34m\"LP Yearly Data Annual Premium (LCY)\"\u001b[0m\u001b[1;33m,\u001b[0m \u001b[0mdata\u001b[0m\u001b[1;33m=\u001b[0m\u001b[1;34m\"joinedSheet\"\u001b[0m\u001b[1;33m)\u001b[0m\u001b[1;33m\u001b[0m\u001b[1;33m\u001b[0m\u001b[0m\n\u001b[0m\u001b[0;32m     12\u001b[0m \u001b[1;31m#check if there is any string value\u001b[0m\u001b[1;33m\u001b[0m\u001b[1;33m\u001b[0m\u001b[1;33m\u001b[0m\u001b[0m\n",
      "\u001b[1;32mG:\\anaconda\\lib\\site-packages\\seaborn\\categorical.py\u001b[0m in \u001b[0;36mboxplot\u001b[1;34m(x, y, hue, data, order, hue_order, orient, color, palette, saturation, width, dodge, fliersize, linewidth, whis, ax, **kwargs)\u001b[0m\n\u001b[0;32m   2239\u001b[0m     plotter = _BoxPlotter(x, y, hue, data, order, hue_order,\n\u001b[0;32m   2240\u001b[0m                           \u001b[0morient\u001b[0m\u001b[1;33m,\u001b[0m \u001b[0mcolor\u001b[0m\u001b[1;33m,\u001b[0m \u001b[0mpalette\u001b[0m\u001b[1;33m,\u001b[0m \u001b[0msaturation\u001b[0m\u001b[1;33m,\u001b[0m\u001b[1;33m\u001b[0m\u001b[1;33m\u001b[0m\u001b[0m\n\u001b[1;32m-> 2241\u001b[1;33m                           width, dodge, fliersize, linewidth)\n\u001b[0m\u001b[0;32m   2242\u001b[0m \u001b[1;33m\u001b[0m\u001b[0m\n\u001b[0;32m   2243\u001b[0m     \u001b[1;32mif\u001b[0m \u001b[0max\u001b[0m \u001b[1;32mis\u001b[0m \u001b[1;32mNone\u001b[0m\u001b[1;33m:\u001b[0m\u001b[1;33m\u001b[0m\u001b[1;33m\u001b[0m\u001b[0m\n",
      "\u001b[1;32mG:\\anaconda\\lib\\site-packages\\seaborn\\categorical.py\u001b[0m in \u001b[0;36m__init__\u001b[1;34m(self, x, y, hue, data, order, hue_order, orient, color, palette, saturation, width, dodge, fliersize, linewidth)\u001b[0m\n\u001b[0;32m    441\u001b[0m                  width, dodge, fliersize, linewidth):\n\u001b[0;32m    442\u001b[0m \u001b[1;33m\u001b[0m\u001b[0m\n\u001b[1;32m--> 443\u001b[1;33m         \u001b[0mself\u001b[0m\u001b[1;33m.\u001b[0m\u001b[0mestablish_variables\u001b[0m\u001b[1;33m(\u001b[0m\u001b[0mx\u001b[0m\u001b[1;33m,\u001b[0m \u001b[0my\u001b[0m\u001b[1;33m,\u001b[0m \u001b[0mhue\u001b[0m\u001b[1;33m,\u001b[0m \u001b[0mdata\u001b[0m\u001b[1;33m,\u001b[0m \u001b[0morient\u001b[0m\u001b[1;33m,\u001b[0m \u001b[0morder\u001b[0m\u001b[1;33m,\u001b[0m \u001b[0mhue_order\u001b[0m\u001b[1;33m)\u001b[0m\u001b[1;33m\u001b[0m\u001b[1;33m\u001b[0m\u001b[0m\n\u001b[0m\u001b[0;32m    444\u001b[0m         \u001b[0mself\u001b[0m\u001b[1;33m.\u001b[0m\u001b[0mestablish_colors\u001b[0m\u001b[1;33m(\u001b[0m\u001b[0mcolor\u001b[0m\u001b[1;33m,\u001b[0m \u001b[0mpalette\u001b[0m\u001b[1;33m,\u001b[0m \u001b[0msaturation\u001b[0m\u001b[1;33m)\u001b[0m\u001b[1;33m\u001b[0m\u001b[1;33m\u001b[0m\u001b[0m\n\u001b[0;32m    445\u001b[0m \u001b[1;33m\u001b[0m\u001b[0m\n",
      "\u001b[1;32mG:\\anaconda\\lib\\site-packages\\seaborn\\categorical.py\u001b[0m in \u001b[0;36mestablish_variables\u001b[1;34m(self, x, y, hue, data, orient, order, hue_order, units)\u001b[0m\n\u001b[0;32m    141\u001b[0m             \u001b[1;31m# See if we need to get variables from `data`\u001b[0m\u001b[1;33m\u001b[0m\u001b[1;33m\u001b[0m\u001b[1;33m\u001b[0m\u001b[0m\n\u001b[0;32m    142\u001b[0m             \u001b[1;32mif\u001b[0m \u001b[0mdata\u001b[0m \u001b[1;32mis\u001b[0m \u001b[1;32mnot\u001b[0m \u001b[1;32mNone\u001b[0m\u001b[1;33m:\u001b[0m\u001b[1;33m\u001b[0m\u001b[1;33m\u001b[0m\u001b[0m\n\u001b[1;32m--> 143\u001b[1;33m                 \u001b[0mx\u001b[0m \u001b[1;33m=\u001b[0m \u001b[0mdata\u001b[0m\u001b[1;33m.\u001b[0m\u001b[0mget\u001b[0m\u001b[1;33m(\u001b[0m\u001b[0mx\u001b[0m\u001b[1;33m,\u001b[0m \u001b[0mx\u001b[0m\u001b[1;33m)\u001b[0m\u001b[1;33m\u001b[0m\u001b[1;33m\u001b[0m\u001b[0m\n\u001b[0m\u001b[0;32m    144\u001b[0m                 \u001b[0my\u001b[0m \u001b[1;33m=\u001b[0m \u001b[0mdata\u001b[0m\u001b[1;33m.\u001b[0m\u001b[0mget\u001b[0m\u001b[1;33m(\u001b[0m\u001b[0my\u001b[0m\u001b[1;33m,\u001b[0m \u001b[0my\u001b[0m\u001b[1;33m)\u001b[0m\u001b[1;33m\u001b[0m\u001b[1;33m\u001b[0m\u001b[0m\n\u001b[0;32m    145\u001b[0m                 \u001b[0mhue\u001b[0m \u001b[1;33m=\u001b[0m \u001b[0mdata\u001b[0m\u001b[1;33m.\u001b[0m\u001b[0mget\u001b[0m\u001b[1;33m(\u001b[0m\u001b[0mhue\u001b[0m\u001b[1;33m,\u001b[0m \u001b[0mhue\u001b[0m\u001b[1;33m)\u001b[0m\u001b[1;33m\u001b[0m\u001b[1;33m\u001b[0m\u001b[0m\n",
      "\u001b[1;31mAttributeError\u001b[0m: 'str' object has no attribute 'get'"
     ]
    }
   ],
   "source": [
    "#box-plots to visualize the data\n",
    "#shows the median,upper quartile shows the 75th percentile, lower quertile shows the 25th percentile\n",
    "#data between upper and lower quartile represents the interquartile range\n",
    "#lower and upper extreme = calculated as 1.5 times the interquartile range above the 75th percentile and \n",
    "#as 1.5times of the IQR below the 25th percentile\n",
    "#outliers as individual dots occur outside upper and lower extremes\n",
    "#with boxplot see outliers , skewness and distribuion of data\n",
    "#makes it easier to compare between groups\n",
    "#sns.boxplot(x=\"a\", y=\"price\", data=\"df\")\n",
    "import seaborn as sns\n",
    "sns.boxplot(x=\"HQ Pooled Lives\", y=\"LP Yearly Data Annual Premium (LCY)\", data=\"joinedSheet\")\n",
    "#check if there is any string value"
   ]
  },
  {
   "cell_type": "code",
   "execution_count": null,
   "metadata": {},
   "outputs": [],
   "source": [
    "#scatterplot\n",
    "#can x predict y?\n",
    "#x predictor var y target var\n",
    "#y=df[a]\n",
    "#x=df[b]\n",
    "#plt.scatter(x,y)\n",
    "#plt.title(), plt.xlabel(), plt.ylabel()\n",
    "\n",
    "y=joinedSheet['LP Yearly Data Annual Premium (LCY)']\n",
    "x=joinedSheet['HQ Pooled Lives']\n",
    "pyplot.scatter(x,y)\n",
    "pyplot.title(\"HQ Pooled Lives vs LP Yearly Data Annual Premium (LCY)\")\n",
    "pyplot.xlabel(\"HQ Pooled Lives\")\n",
    "pyplot.ylabel(\"LP Yearly Data Annual Premium (LCY)\")\n",
    "#is there positive linear relationship between x and y?\n",
    "\n",
    "\n",
    "y=joinedSheet['LP Yearly Data Annual Premium (LCY)']\n",
    "x=joinedSheet['HQ Insured Lives']\n",
    "pyplot.scatter(x,y)\n",
    "pyplot.title(\"HQ Insured Lives vs LP Yearly Data Annual Premium (LCY)\")\n",
    "pyplot.xlabel(\"HQ Insured Lives\")\n",
    "pyplot.ylabel(\"LP Yearly Data Annual Premium (LCY)\")"
   ]
  },
  {
   "cell_type": "code",
   "execution_count": null,
   "metadata": {},
   "outputs": [],
   "source": [
    "#Groupby() : applied to categorical var, group data into categories, single or multiple vars\n",
    "#for different types of bodystyles and drive wheels how the avg differs?\n",
    "#df_test=df[[\"a\",\"b\",\"c\"]]\n",
    "#df_grp=df_test.Groupby()['a','b'], as_index=False).mean()\n",
    "#df_grp\n",
    "#df_pivot=df_grp.pivot(index='a', columns='b')\n",
    "\n",
    "df_test=joinedSheet[[\"HQ Region\",\"Subsidiary Country ISO Code\",\"LP Yearly Data Annual Premium (LCY)\"]]\n",
    "df_grp=df_test.groupby(['HQ Region','Subsidiary Country ISO Code'], as_index=False).mean()\n",
    "df_grp\n",
    "df_pivot=df_grp.pivot(index='HQ Region', columns='Subsidiary Country ISO Code')\n",
    "df_pivot"
   ]
  },
  {
   "cell_type": "code",
   "execution_count": null,
   "metadata": {},
   "outputs": [],
   "source": [
    "sns.regplot(x=\"HQ Insured Lives\", y=\"LP Yearly Data Annual Premium (LCY)\", data=joinedSheet)\n",
    "pyplot.ylim(0,)\n",
    "#negative linear relationship\n",
    "\n"
   ]
  },
  {
   "cell_type": "code",
   "execution_count": null,
   "metadata": {},
   "outputs": [],
   "source": [
    "sns.regplot(x=\"HQ Pooled Lives\", y=\"LP Yearly Data Annual Premium (LCY)\", data=joinedSheet)\n",
    "pyplot.ylim(0,)\n",
    "#negative linear relationship"
   ]
  },
  {
   "cell_type": "code",
   "execution_count": null,
   "metadata": {},
   "outputs": [],
   "source": [
    "#strength of co-relation between continuous numerical variables : pearson correlation\n",
    "#co-relation coefficient and p-value\n",
    "#corelation coefficient : value close to +1: large positive relationship\n",
    "#value close to -1: large neg , colse to 0: no relation\n",
    "#p-value : how certain we are about the co-eff calculated\n",
    "#p-value<0.001 strong certainty <0.05 moderate certainty <0.1 weak certainty  >0.1 no certainty\n",
    "#strong correlation -coeff close to -1/+1p-value<0.001\n",
    "#scipy stats package\n",
    "from scipy import stats\n",
    "pearson_coef,p_value=stats.pearsonr(joinedSheet['HQ Pooled Lives'],joinedSheet['LP Yearly Data Annual Premium (LCY)'])\n",
    "pearson_coef\n",
    "#negative relationship"
   ]
  },
  {
   "cell_type": "code",
   "execution_count": null,
   "metadata": {},
   "outputs": [],
   "source": [
    "p_value\n",
    "#weak certainty"
   ]
  },
  {
   "cell_type": "code",
   "execution_count": null,
   "metadata": {},
   "outputs": [],
   "source": [
    "#which category of a feature has most or least impact: comparison between categories of a feature\n",
    "#on a prediction\n",
    "#finding corelation between different groups of a categorical vaiable\n",
    "#we get f-test score variation between sample group means divided by variation within sample group\n",
    "#p-value: confidence degree\n",
    "#large f-value : difference high between mean prices of the two categories (of car)\n",
    "df_anova=joinedSheet[['HQ Region','LP Yearly Data Annual Premium (LCY)']]\n",
    "grouped_anova=df_anova.groupby(['HQ Region'])\n",
    "anova_results_1=stats.f_oneway(grouped_anova.get_group('N-America')['LP Yearly Data Annual Premium (LCY)'],grouped_anova.get_group('Europe')['LP Yearly Data Annual Premium (LCY)'])\n",
    "anova_results_1\n"
   ]
  },
  {
   "cell_type": "code",
   "execution_count": null,
   "metadata": {},
   "outputs": [],
   "source": [
    "joinedSheet['LP Status'].replace(to_replace =['Contract', 'Opportunity'], value =[1, 0], inplace=True)"
   ]
  },
  {
   "cell_type": "code",
   "execution_count": null,
   "metadata": {},
   "outputs": [],
   "source": [
    "joinedSheet['LP Status']"
   ]
  },
  {
   "cell_type": "code",
   "execution_count": null,
   "metadata": {},
   "outputs": [],
   "source": [
    "joinedSheet = joinedSheet[joinedSheet['LP Yearly Data Annual Premium (LCY)'] <50000]\n",
    "joinedSheet = joinedSheet[joinedSheet['LP Yearly Data Annual Premium (LCY)'] >100]\n",
    "\n",
    "joinedSheet=joinedSheet[joinedSheet['LP Yearly Benefit Name Aggregated'].notna()]"
   ]
  },
  {
   "cell_type": "code",
   "execution_count": null,
   "metadata": {},
   "outputs": [],
   "source": [
    "\n",
    "#aggregatedBenefits =joinedSheet['LP Yearly Benefit Name Aggregated']\n",
    "#joinedSheet=joinedSheet[joinedSheet['LP Yearly Benefit Name Aggregated'].notna()\n",
    "\n",
    "# break benefit names and perform one hot encoding\n",
    "aggregatedBenefits = joinedSheet['LP Yearly Benefit Name Aggregated'].tolist()\n",
    "i = 0\n",
    "#print(benefits)\n",
    "for benefit in aggregatedBenefits:\n",
    "    split_data = benefit.split(',')\n",
    "    j = 0\n",
    "    #print(splittedBenefits)\n",
    "    for y in split_data:\n",
    "        split_data[j] = y.strip()\n",
    "        j = j + 1\n",
    "    delimeter = '^'\n",
    "    aggregatedBenefits[i] = delimeter.join(split_data)\n",
    "    i = i + 1\n",
    "#print(aggregatedBenefits)\n",
    "#print(merged_data['LP Yearly Benefit Name Aggregated'])\n",
    "joinedSheet['LP Yearly Benefit Name Aggregated'] = aggregatedBenefits\n",
    "#print(joinedSheet['LP Yearly Benefit Name Aggregated'])\n",
    "\n",
    "finalBenefit = joinedSheet['LP Yearly Benefit Name Aggregated'].str.split('^', expand=True).stack()\n",
    "print(finalBenefit)\n",
    "benefit = pd.get_dummies(finalBenefit, prefix='benefit').groupby(level=0).sum()\n",
    "\n",
    "\n",
    "joinedSheet = pd.concat([joinedSheet, benefit], axis=1, sort=False)\n",
    "del joinedSheet['LP Yearly Benefit Name Aggregated']\n",
    "\n",
    "print(joinedSheet.shape)\n",
    "\n",
    "#for i in range (0,572):\n",
    "    #print(joinedSheet.columns[i])\n",
    "\n",
    "\n"
   ]
  },
  {
   "cell_type": "code",
   "execution_count": null,
   "metadata": {},
   "outputs": [],
   "source": [
    "#joinedSheet['LP Yearly Data Pooling Status'].replace(to_replace =[\"Pooled\", np.nan], value =[1, 0], inplace=True)\n",
    "joinedSheet['LP Yearly Data Pooling Status']\n",
    "joinedSheet.shape"
   ]
  },
  {
   "cell_type": "code",
   "execution_count": null,
   "metadata": {},
   "outputs": [],
   "source": [
    "joinedSheet['HQ Industry'] = pd.Categorical(joinedSheet['HQ Industry'])\n",
    "dfDummies = pd.get_dummies(joinedSheet['HQ Industry'], prefix = 'hq_industry')\n",
    "joinedSheet = pd.concat([joinedSheet, dfDummies], axis=1)"
   ]
  },
  {
   "cell_type": "code",
   "execution_count": null,
   "metadata": {},
   "outputs": [],
   "source": [
    "joinedSheet.shape\n"
   ]
  },
  {
   "cell_type": "code",
   "execution_count": null,
   "metadata": {},
   "outputs": [],
   "source": [
    "for i in range (0,106):\n",
    "    print(joinedSheet.columns[i])"
   ]
  },
  {
   "cell_type": "code",
   "execution_count": null,
   "metadata": {},
   "outputs": [],
   "source": [
    "#joinedSheet['LP Yearly Data Pooling Status'].replace(to_replace =[\"Pooled\", np.nan], value =[1, 0], inplace=True)\n"
   ]
  },
  {
   "cell_type": "code",
   "execution_count": null,
   "metadata": {},
   "outputs": [],
   "source": [
    "joinedSheet.to_csv('DDa_Annual_Premium_Dataset.csv', index = False, header=True)"
   ]
  },
  {
   "cell_type": "code",
   "execution_count": null,
   "metadata": {},
   "outputs": [],
   "source": []
  }
 ],
 "metadata": {
  "kernelspec": {
   "display_name": "Python 3",
   "language": "python",
   "name": "python3"
  },
  "language_info": {
   "codemirror_mode": {
    "name": "ipython",
    "version": 3
   },
   "file_extension": ".py",
   "mimetype": "text/x-python",
   "name": "python",
   "nbconvert_exporter": "python",
   "pygments_lexer": "ipython3",
   "version": "3.7.6"
  }
 },
 "nbformat": 4,
 "nbformat_minor": 4
}
