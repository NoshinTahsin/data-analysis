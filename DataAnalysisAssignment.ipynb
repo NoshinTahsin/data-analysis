{
 "cells": [
  {
   "cell_type": "code",
   "execution_count": 1,
   "metadata": {},
   "outputs": [],
   "source": [
    "import pandas as pd\n",
    "import numpy as np\n",
    "\n",
    "from sklearn.preprocessing import LabelEncoder, OneHotEncoder\n",
    "\n",
    "hqDetails = pd.read_excel (r'2017-05-21-22-12-46_headquarter_details.xlsx')\n",
    "hqSpecificCol = pd.DataFrame(hqDetails, columns=['HQ Company Nr','HQ Region','HQ Industry', 'HQ Insured Lives', 'HQ Pooled Lives', 'HQ Potential'])\n",
    "\n",
    "lpDetails = pd.read_excel (r'2017-05-21-22-15-07_local_projects.xls')\n",
    "lpSpecificCol = pd.DataFrame(lpDetails, columns= ['HQ Company Nr','Subsidiary Country ISO Code','LP Status', 'LP Substatus', 'LP Yearly Benefit Name Aggregated', 'LP Yearly Data Insured Lives','LP Yearly Data Pooling Status', 'LP Yearly Data Annual Premium (LCY)','LP Yearly Data Currency'])\n",
    "\n",
    "currencyFile = pd.read_excel (r'2017-05-21-21-47-39_pla_currencies.xlsx', columns=['Currency Iso code', 'Production NWP'])"
   ]
  },
  {
   "cell_type": "code",
   "execution_count": 2,
   "metadata": {
    "scrolled": true
   },
   "outputs": [
    {
     "data": {
      "text/html": [
       "<div>\n",
       "<style scoped>\n",
       "    .dataframe tbody tr th:only-of-type {\n",
       "        vertical-align: middle;\n",
       "    }\n",
       "\n",
       "    .dataframe tbody tr th {\n",
       "        vertical-align: top;\n",
       "    }\n",
       "\n",
       "    .dataframe thead th {\n",
       "        text-align: right;\n",
       "    }\n",
       "</style>\n",
       "<table border=\"1\" class=\"dataframe\">\n",
       "  <thead>\n",
       "    <tr style=\"text-align: right;\">\n",
       "      <th></th>\n",
       "      <th>HQ Company Nr</th>\n",
       "      <th>Subsidiary Country ISO Code</th>\n",
       "      <th>LP Status</th>\n",
       "      <th>LP Substatus</th>\n",
       "      <th>LP Yearly Benefit Name Aggregated</th>\n",
       "      <th>LP Yearly Data Insured Lives</th>\n",
       "      <th>LP Yearly Data Pooling Status</th>\n",
       "      <th>LP Yearly Data Annual Premium (LCY)</th>\n",
       "      <th>LP Yearly Data Currency</th>\n",
       "      <th>HQ Region</th>\n",
       "      <th>HQ Industry</th>\n",
       "      <th>HQ Insured Lives</th>\n",
       "      <th>HQ Pooled Lives</th>\n",
       "      <th>HQ Potential</th>\n",
       "    </tr>\n",
       "  </thead>\n",
       "  <tbody>\n",
       "    <tr>\n",
       "      <th>0</th>\n",
       "      <td>1030753</td>\n",
       "      <td>AT</td>\n",
       "      <td>Contract</td>\n",
       "      <td>In action</td>\n",
       "      <td>Old age pensions</td>\n",
       "      <td>10.0</td>\n",
       "      <td>NaN</td>\n",
       "      <td>NaN</td>\n",
       "      <td>EUR</td>\n",
       "      <td>N-America</td>\n",
       "      <td>Unknown migration</td>\n",
       "      <td>3750.0</td>\n",
       "      <td>1228.0</td>\n",
       "      <td>1138.9</td>\n",
       "    </tr>\n",
       "    <tr>\n",
       "      <th>1</th>\n",
       "      <td>1814390</td>\n",
       "      <td>CH</td>\n",
       "      <td>Contract</td>\n",
       "      <td>Terminated</td>\n",
       "      <td>NaN</td>\n",
       "      <td>NaN</td>\n",
       "      <td>NaN</td>\n",
       "      <td>NaN</td>\n",
       "      <td>NaN</td>\n",
       "      <td>N-Europe</td>\n",
       "      <td>Other</td>\n",
       "      <td>254.0</td>\n",
       "      <td>154.0</td>\n",
       "      <td>90.0</td>\n",
       "    </tr>\n",
       "    <tr>\n",
       "      <th>2</th>\n",
       "      <td>1030890</td>\n",
       "      <td>CN</td>\n",
       "      <td>Contract</td>\n",
       "      <td>In action</td>\n",
       "      <td>Lump sum death, Medical, Critical illness, Acc...</td>\n",
       "      <td>1050.0</td>\n",
       "      <td>NaN</td>\n",
       "      <td>580818.0</td>\n",
       "      <td>CNY</td>\n",
       "      <td>Europe</td>\n",
       "      <td>Textiles, Leatherware, Jewelry</td>\n",
       "      <td>2677.0</td>\n",
       "      <td>1219.0</td>\n",
       "      <td>0.0</td>\n",
       "    </tr>\n",
       "    <tr>\n",
       "      <th>3</th>\n",
       "      <td>1002717</td>\n",
       "      <td>SE</td>\n",
       "      <td>Contract</td>\n",
       "      <td>In action</td>\n",
       "      <td>Lump sum death, Medical, Old age pensions</td>\n",
       "      <td>4.0</td>\n",
       "      <td>NaN</td>\n",
       "      <td>571704.0</td>\n",
       "      <td>SEK</td>\n",
       "      <td>Europe</td>\n",
       "      <td>Banking, Finance, Insurance, Consult</td>\n",
       "      <td>4.0</td>\n",
       "      <td>0.0</td>\n",
       "      <td>0.0</td>\n",
       "    </tr>\n",
       "    <tr>\n",
       "      <th>4</th>\n",
       "      <td>1030512</td>\n",
       "      <td>AT</td>\n",
       "      <td>Contract</td>\n",
       "      <td>In action</td>\n",
       "      <td>Disability pensions, Lump sum death</td>\n",
       "      <td>22.0</td>\n",
       "      <td>NaN</td>\n",
       "      <td>19000.0</td>\n",
       "      <td>EUR</td>\n",
       "      <td>N-Europe</td>\n",
       "      <td>Chemicals, Pharmaceuticals, Cosmetics</td>\n",
       "      <td>1641.0</td>\n",
       "      <td>143.0</td>\n",
       "      <td>6122.9</td>\n",
       "    </tr>\n",
       "    <tr>\n",
       "      <th>...</th>\n",
       "      <td>...</td>\n",
       "      <td>...</td>\n",
       "      <td>...</td>\n",
       "      <td>...</td>\n",
       "      <td>...</td>\n",
       "      <td>...</td>\n",
       "      <td>...</td>\n",
       "      <td>...</td>\n",
       "      <td>...</td>\n",
       "      <td>...</td>\n",
       "      <td>...</td>\n",
       "      <td>...</td>\n",
       "      <td>...</td>\n",
       "      <td>...</td>\n",
       "    </tr>\n",
       "    <tr>\n",
       "      <th>36652</th>\n",
       "      <td>3016668</td>\n",
       "      <td>FR</td>\n",
       "      <td>Opportunity</td>\n",
       "      <td>Lost</td>\n",
       "      <td>Disability pensions, Lump sum death, Medical</td>\n",
       "      <td>511.0</td>\n",
       "      <td>NaN</td>\n",
       "      <td>744283.0</td>\n",
       "      <td>EUR</td>\n",
       "      <td>N-America</td>\n",
       "      <td>Other</td>\n",
       "      <td>440.0</td>\n",
       "      <td>0.0</td>\n",
       "      <td>6074.2</td>\n",
       "    </tr>\n",
       "    <tr>\n",
       "      <th>36653</th>\n",
       "      <td>3016668</td>\n",
       "      <td>CH</td>\n",
       "      <td>Opportunity</td>\n",
       "      <td>In process</td>\n",
       "      <td>Accidental death and dismemberment</td>\n",
       "      <td>10.0</td>\n",
       "      <td>NaN</td>\n",
       "      <td>NaN</td>\n",
       "      <td>CHF</td>\n",
       "      <td>N-America</td>\n",
       "      <td>Other</td>\n",
       "      <td>440.0</td>\n",
       "      <td>0.0</td>\n",
       "      <td>6074.2</td>\n",
       "    </tr>\n",
       "    <tr>\n",
       "      <th>36654</th>\n",
       "      <td>3016668</td>\n",
       "      <td>HK</td>\n",
       "      <td>Opportunity</td>\n",
       "      <td>Lost</td>\n",
       "      <td>Lump sum death, Accidental death and dismember...</td>\n",
       "      <td>75.0</td>\n",
       "      <td>NaN</td>\n",
       "      <td>314831.0</td>\n",
       "      <td>HKD</td>\n",
       "      <td>N-America</td>\n",
       "      <td>Other</td>\n",
       "      <td>440.0</td>\n",
       "      <td>0.0</td>\n",
       "      <td>6074.2</td>\n",
       "    </tr>\n",
       "    <tr>\n",
       "      <th>36655</th>\n",
       "      <td>3016668</td>\n",
       "      <td>HK</td>\n",
       "      <td>Opportunity</td>\n",
       "      <td>Lost</td>\n",
       "      <td>Medical</td>\n",
       "      <td>187.0</td>\n",
       "      <td>NaN</td>\n",
       "      <td>1280592.0</td>\n",
       "      <td>HKD</td>\n",
       "      <td>N-America</td>\n",
       "      <td>Other</td>\n",
       "      <td>440.0</td>\n",
       "      <td>0.0</td>\n",
       "      <td>6074.2</td>\n",
       "    </tr>\n",
       "    <tr>\n",
       "      <th>36656</th>\n",
       "      <td>3020374</td>\n",
       "      <td>GB</td>\n",
       "      <td>Opportunity</td>\n",
       "      <td>Quote</td>\n",
       "      <td>Lump sum death</td>\n",
       "      <td>218.0</td>\n",
       "      <td>NaN</td>\n",
       "      <td>18084.0</td>\n",
       "      <td>GBP</td>\n",
       "      <td>Europe</td>\n",
       "      <td>Other</td>\n",
       "      <td>0.0</td>\n",
       "      <td>0.0</td>\n",
       "      <td>0.0</td>\n",
       "    </tr>\n",
       "  </tbody>\n",
       "</table>\n",
       "<p>36657 rows × 14 columns</p>\n",
       "</div>"
      ],
      "text/plain": [
       "       HQ Company Nr Subsidiary Country ISO Code    LP Status LP Substatus  \\\n",
       "0            1030753                          AT     Contract    In action   \n",
       "1            1814390                          CH     Contract   Terminated   \n",
       "2            1030890                          CN     Contract    In action   \n",
       "3            1002717                          SE     Contract    In action   \n",
       "4            1030512                          AT     Contract    In action   \n",
       "...              ...                         ...          ...          ...   \n",
       "36652        3016668                          FR  Opportunity         Lost   \n",
       "36653        3016668                          CH  Opportunity   In process   \n",
       "36654        3016668                          HK  Opportunity         Lost   \n",
       "36655        3016668                          HK  Opportunity         Lost   \n",
       "36656        3020374                          GB  Opportunity        Quote   \n",
       "\n",
       "                       LP Yearly Benefit Name Aggregated  \\\n",
       "0                                       Old age pensions   \n",
       "1                                                    NaN   \n",
       "2      Lump sum death, Medical, Critical illness, Acc...   \n",
       "3              Lump sum death, Medical, Old age pensions   \n",
       "4                    Disability pensions, Lump sum death   \n",
       "...                                                  ...   \n",
       "36652       Disability pensions, Lump sum death, Medical   \n",
       "36653                 Accidental death and dismemberment   \n",
       "36654  Lump sum death, Accidental death and dismember...   \n",
       "36655                                            Medical   \n",
       "36656                                     Lump sum death   \n",
       "\n",
       "       LP Yearly Data Insured Lives LP Yearly Data Pooling Status  \\\n",
       "0                              10.0                           NaN   \n",
       "1                               NaN                           NaN   \n",
       "2                            1050.0                           NaN   \n",
       "3                               4.0                           NaN   \n",
       "4                              22.0                           NaN   \n",
       "...                             ...                           ...   \n",
       "36652                         511.0                           NaN   \n",
       "36653                          10.0                           NaN   \n",
       "36654                          75.0                           NaN   \n",
       "36655                         187.0                           NaN   \n",
       "36656                         218.0                           NaN   \n",
       "\n",
       "       LP Yearly Data Annual Premium (LCY) LP Yearly Data Currency  HQ Region  \\\n",
       "0                                      NaN                     EUR  N-America   \n",
       "1                                      NaN                     NaN   N-Europe   \n",
       "2                                 580818.0                     CNY     Europe   \n",
       "3                                 571704.0                     SEK     Europe   \n",
       "4                                  19000.0                     EUR   N-Europe   \n",
       "...                                    ...                     ...        ...   \n",
       "36652                             744283.0                     EUR  N-America   \n",
       "36653                                  NaN                     CHF  N-America   \n",
       "36654                             314831.0                     HKD  N-America   \n",
       "36655                            1280592.0                     HKD  N-America   \n",
       "36656                              18084.0                     GBP     Europe   \n",
       "\n",
       "                                 HQ Industry  HQ Insured Lives  \\\n",
       "0                          Unknown migration            3750.0   \n",
       "1                                      Other             254.0   \n",
       "2             Textiles, Leatherware, Jewelry            2677.0   \n",
       "3       Banking, Finance, Insurance, Consult               4.0   \n",
       "4      Chemicals, Pharmaceuticals, Cosmetics            1641.0   \n",
       "...                                      ...               ...   \n",
       "36652                                  Other             440.0   \n",
       "36653                                  Other             440.0   \n",
       "36654                                  Other             440.0   \n",
       "36655                                  Other             440.0   \n",
       "36656                                  Other               0.0   \n",
       "\n",
       "       HQ Pooled Lives  HQ Potential  \n",
       "0               1228.0        1138.9  \n",
       "1                154.0          90.0  \n",
       "2               1219.0           0.0  \n",
       "3                  0.0           0.0  \n",
       "4                143.0        6122.9  \n",
       "...                ...           ...  \n",
       "36652              0.0        6074.2  \n",
       "36653              0.0        6074.2  \n",
       "36654              0.0        6074.2  \n",
       "36655              0.0        6074.2  \n",
       "36656              0.0           0.0  \n",
       "\n",
       "[36657 rows x 14 columns]"
      ]
     },
     "execution_count": 2,
     "metadata": {},
     "output_type": "execute_result"
    }
   ],
   "source": [
    "joinedSheet = lpSpecificCol.merge(hqSpecificCol, how=\"left\", on=\"HQ Company Nr\")\n",
    "joinedSheet"
   ]
  },
  {
   "cell_type": "code",
   "execution_count": 3,
   "metadata": {},
   "outputs": [
    {
     "data": {
      "text/plain": [
       "(36657, 14)"
      ]
     },
     "execution_count": 3,
     "metadata": {},
     "output_type": "execute_result"
    }
   ],
   "source": [
    "joinedSheet.shape"
   ]
  },
  {
   "cell_type": "code",
   "execution_count": 4,
   "metadata": {},
   "outputs": [
    {
     "data": {
      "text/plain": [
       "(5273, 14)"
      ]
     },
     "execution_count": 4,
     "metadata": {},
     "output_type": "execute_result"
    }
   ],
   "source": [
    "#dropping NaN values because the joinesSheet has 36657 rows, huge data, so dropping won't make any difference\n",
    "#we are dropping data entry (row), not the variable\n",
    "#if the row number was not this much we would have handled this\n",
    "#replacing this with avg like\n",
    "#mean=joinedSheet['LP Yearly Data Insured Lives'].mean()\n",
    "#joinedSheet['LP Yearly Data Insured Lives'],replace(np.nan, mean)\n",
    "#joinedSheet= joinedSheet[joinedSheet['LP Yearly Data Insured Lives'].mean()] --as it consists of numeric value\n",
    "#for values that are not numeric, we use mode\n",
    "#replaced based on other methods\n",
    "\n",
    "joinedSheet.dropna(subset=[\"HQ Company Nr\"], axis=0, inplace=True)\n",
    "joinedSheet.dropna(subset=[\"LP Yearly Data Currency\",\n",
    "                           'Subsidiary Country ISO Code',\n",
    "                           'LP Status',\n",
    "                           'LP Substatus', \n",
    "                           'LP Yearly Benefit Name Aggregated', \n",
    "                           'LP Yearly Data Insured Lives',\n",
    "                           'LP Yearly Data Pooling Status', \n",
    "                           'LP Yearly Data Annual Premium (LCY)',\n",
    "                           \"HQ Industry\",\n",
    "                           'HQ Insured Lives', \n",
    "                           'HQ Pooled Lives', \n",
    "                           'HQ Potential'], axis=0, inplace=True)\n",
    "\n",
    "\n",
    "joinedSheet.shape"
   ]
  },
  {
   "cell_type": "code",
   "execution_count": 5,
   "metadata": {},
   "outputs": [
    {
     "name": "stderr",
     "output_type": "stream",
     "text": [
      "G:\\anaconda\\lib\\site-packages\\pandas\\core\\indexing.py:670: SettingWithCopyWarning: \n",
      "A value is trying to be set on a copy of a slice from a DataFrame\n",
      "\n",
      "See the caveats in the documentation: https://pandas.pydata.org/pandas-docs/stable/user_guide/indexing.html#returning-a-view-versus-a-copy\n",
      "  self._setitem_with_indexer(indexer, value)\n"
     ]
    },
    {
     "name": "stdout",
     "output_type": "stream",
     "text": [
      "(5273, 14)\n"
     ]
    }
   ],
   "source": [
    "#DATA FORMATTING\n",
    "#when?\n",
    "#NY-NewYork-newyork\n",
    "#unit conversion like:\n",
    "#dg[\"smt\"]=235/df[\"smt\"]\n",
    "#unit conversion for currency\n",
    "# removing NaN values from exchange rates\n",
    "currencyFile = currencyFile[currencyFile['Production NWP'].notna()]\n",
    "joinedSheet = joinedSheet.reset_index(drop=True)\n",
    "\n",
    "for i in joinedSheet.index:\n",
    "    joinedSheet['LP Yearly Data Annual Premium (LCY)'].iloc[i] = ((joinedSheet['LP Yearly Data Annual Premium (LCY)'].iloc[i])*((currencyFile.loc[currencyFile['Currency Iso code'] == joinedSheet['LP Yearly Data Currency'].iloc[i], 'Production NWP']).iloc[0]))\n",
    "\n",
    "#del joinedSheet['LP Yearly Data Currency']\n",
    "print(joinedSheet.shape)\n",
    "\n",
    "#df.rename(columns={\"smt\":\"newname\"}, inplace=True)\n",
    "#joinedSheet.rename(columns={\"LP Yearly Data Single Premium\":\"Converted LP Yearly Data Single Premium\"}, inplace=True)\n",
    "\n",
    "#incorrect data types assigned to a feature\n",
    "#df[\"a\"]=df[\"a\"].astype(\"int\")\n"
   ]
  },
  {
   "cell_type": "code",
   "execution_count": 6,
   "metadata": {},
   "outputs": [
    {
     "data": {
      "text/plain": [
       "5268    1030602\n",
       "5269    1030699\n",
       "5270    1817463\n",
       "5271    1817463\n",
       "5272    1030069\n",
       "Name: HQ Company Nr, dtype: int64"
      ]
     },
     "execution_count": 6,
     "metadata": {},
     "output_type": "execute_result"
    }
   ],
   "source": [
    "#astype\n",
    "#joinedSheet.describe()\n",
    "joinedSheet[\"HQ Company Nr\"].tail(5)\n"
   ]
  },
  {
   "cell_type": "code",
   "execution_count": 7,
   "metadata": {},
   "outputs": [
    {
     "data": {
      "text/plain": [
       "0       TR\n",
       "1       AT\n",
       "2       AT\n",
       "3       AT\n",
       "4       ID\n",
       "        ..\n",
       "5268    NO\n",
       "5269    NO\n",
       "5270    ZA\n",
       "5271    ZA\n",
       "5272    ZA\n",
       "Name: Subsidiary Country ISO Code, Length: 5273, dtype: object"
      ]
     },
     "execution_count": 7,
     "metadata": {},
     "output_type": "execute_result"
    }
   ],
   "source": [
    "joinedSheet[\"Subsidiary Country ISO Code\"]\n"
   ]
  },
  {
   "cell_type": "code",
   "execution_count": 8,
   "metadata": {},
   "outputs": [
    {
     "data": {
      "text/plain": [
       "5268    Contract\n",
       "5269    Contract\n",
       "5270    Contract\n",
       "5271    Contract\n",
       "5272    Contract\n",
       "Name: LP Status, dtype: object"
      ]
     },
     "execution_count": 8,
     "metadata": {},
     "output_type": "execute_result"
    }
   ],
   "source": [
    "joinedSheet[\"LP Status\"].tail(5)"
   ]
  },
  {
   "cell_type": "code",
   "execution_count": 9,
   "metadata": {},
   "outputs": [
    {
     "data": {
      "text/plain": [
       "5268    Terminated\n",
       "5269    Terminated\n",
       "5270     In action\n",
       "5271     In action\n",
       "5272     In action\n",
       "Name: LP Substatus, dtype: object"
      ]
     },
     "execution_count": 9,
     "metadata": {},
     "output_type": "execute_result"
    }
   ],
   "source": [
    "joinedSheet[\"LP Substatus\"].tail(5)"
   ]
  },
  {
   "cell_type": "code",
   "execution_count": 10,
   "metadata": {},
   "outputs": [
    {
     "data": {
      "text/plain": [
       "5268                                       Lump sum death\n",
       "5269                  Lump sum death, Lump sum disability\n",
       "5270    Lump sum death, Widow/er's pensions, Lump sum ...\n",
       "5271    Disability pensions, Lump sum death, Accidenta...\n",
       "5272                  Disability pensions, Lump sum death\n",
       "Name: LP Yearly Benefit Name Aggregated, dtype: object"
      ]
     },
     "execution_count": 10,
     "metadata": {},
     "output_type": "execute_result"
    }
   ],
   "source": [
    "joinedSheet[\"LP Yearly Benefit Name Aggregated\"].tail(5)"
   ]
  },
  {
   "cell_type": "code",
   "execution_count": 11,
   "metadata": {},
   "outputs": [
    {
     "data": {
      "text/plain": [
       "5268     28.0\n",
       "5269      0.0\n",
       "5270     63.0\n",
       "5271    309.0\n",
       "5272    449.0\n",
       "Name: LP Yearly Data Insured Lives, dtype: float64"
      ]
     },
     "execution_count": 11,
     "metadata": {},
     "output_type": "execute_result"
    }
   ],
   "source": [
    "joinedSheet[\"LP Yearly Data Insured Lives\"].tail(5)"
   ]
  },
  {
   "cell_type": "code",
   "execution_count": 12,
   "metadata": {},
   "outputs": [
    {
     "data": {
      "text/plain": [
       "5268    Pooled\n",
       "5269    Pooled\n",
       "5270    Pooled\n",
       "5271    Pooled\n",
       "5272    Pooled\n",
       "Name: LP Yearly Data Pooling Status, dtype: object"
      ]
     },
     "execution_count": 12,
     "metadata": {},
     "output_type": "execute_result"
    }
   ],
   "source": [
    "joinedSheet[\"LP Yearly Data Pooling Status\"].tail(5)"
   ]
  },
  {
   "cell_type": "code",
   "execution_count": 13,
   "metadata": {},
   "outputs": [
    {
     "data": {
      "text/plain": [
       "5268      6054.56660\n",
       "5269       681.23740\n",
       "5270    173249.58888\n",
       "5271    927513.14280\n",
       "5272    245941.51224\n",
       "Name: LP Yearly Data Annual Premium (LCY), dtype: float64"
      ]
     },
     "execution_count": 13,
     "metadata": {},
     "output_type": "execute_result"
    }
   ],
   "source": [
    "joinedSheet[\"LP Yearly Data Annual Premium (LCY)\"].tail(5)"
   ]
  },
  {
   "cell_type": "code",
   "execution_count": 14,
   "metadata": {},
   "outputs": [
    {
     "data": {
      "text/plain": [
       "5268    NOK\n",
       "5269    NOK\n",
       "5270    ZAR\n",
       "5271    ZAR\n",
       "5272    ZAR\n",
       "Name: LP Yearly Data Currency, dtype: object"
      ]
     },
     "execution_count": 14,
     "metadata": {},
     "output_type": "execute_result"
    }
   ],
   "source": [
    "joinedSheet[\"LP Yearly Data Currency\"].tail(5)"
   ]
  },
  {
   "cell_type": "code",
   "execution_count": 15,
   "metadata": {},
   "outputs": [
    {
     "data": {
      "text/plain": [
       "0          N-America\n",
       "1             Europe\n",
       "2          N-America\n",
       "3             Europe\n",
       "4             Europe\n",
       "            ...     \n",
       "5268        N-Europe\n",
       "5269          Europe\n",
       "5270    Asia-Pacific\n",
       "5271    Asia-Pacific\n",
       "5272          Europe\n",
       "Name: HQ Region, Length: 5273, dtype: object"
      ]
     },
     "execution_count": 15,
     "metadata": {},
     "output_type": "execute_result"
    }
   ],
   "source": [
    "joinedSheet[\"HQ Region\"]"
   ]
  },
  {
   "cell_type": "code",
   "execution_count": 16,
   "metadata": {},
   "outputs": [
    {
     "data": {
      "text/plain": [
       "5268              Textiles, Leatherware, Jewelry\n",
       "5269    Computers, Electronics, Office Equipment\n",
       "5270                                       Other\n",
       "5271                                       Other\n",
       "5272       Chemicals, Pharmaceuticals, Cosmetics\n",
       "Name: HQ Industry, dtype: object"
      ]
     },
     "execution_count": 16,
     "metadata": {},
     "output_type": "execute_result"
    }
   ],
   "source": [
    "joinedSheet[\"HQ Industry\"].tail(5)"
   ]
  },
  {
   "cell_type": "code",
   "execution_count": 17,
   "metadata": {},
   "outputs": [
    {
     "data": {
      "text/plain": [
       "5268       87.0\n",
       "5269    10161.0\n",
       "5270      625.0\n",
       "5271      625.0\n",
       "5272    19764.0\n",
       "Name: HQ Insured Lives, dtype: float64"
      ]
     },
     "execution_count": 17,
     "metadata": {},
     "output_type": "execute_result"
    }
   ],
   "source": [
    "joinedSheet[\"HQ Insured Lives\"].tail(5)"
   ]
  },
  {
   "cell_type": "code",
   "execution_count": 18,
   "metadata": {},
   "outputs": [
    {
     "data": {
      "text/plain": [
       "5268      87.0\n",
       "5269    7240.0\n",
       "5270       0.0\n",
       "5271       0.0\n",
       "5272    9193.0\n",
       "Name: HQ Pooled Lives, dtype: float64"
      ]
     },
     "execution_count": 18,
     "metadata": {},
     "output_type": "execute_result"
    }
   ],
   "source": [
    "joinedSheet[\"HQ Pooled Lives\"].tail(5)"
   ]
  },
  {
   "cell_type": "code",
   "execution_count": 19,
   "metadata": {},
   "outputs": [
    {
     "data": {
      "text/plain": [
       "5268     1686.3\n",
       "5269    62300.0\n",
       "5270    26069.6\n",
       "5271    26069.6\n",
       "5272    74919.8\n",
       "Name: HQ Potential, dtype: float64"
      ]
     },
     "execution_count": 19,
     "metadata": {},
     "output_type": "execute_result"
    }
   ],
   "source": [
    "joinedSheet[\"HQ Potential\"].tail(5)"
   ]
  },
  {
   "cell_type": "code",
   "execution_count": 20,
   "metadata": {
    "scrolled": true
   },
   "outputs": [
    {
     "data": {
      "text/plain": [
       "260.01384411151145"
      ]
     },
     "execution_count": 20,
     "metadata": {},
     "output_type": "execute_result"
    }
   ],
   "source": [
    "#print(joinedSheet[\"LP Yearly Data Annual Premium (LCY)\"])\n",
    "#normalization\n",
    "#when two values are in different range, and doing linear regression\n",
    "#the feature that has high range of values will influence the result most\n",
    "#doesn't necessarily mean it's important as a predictor\n",
    "#normalize variables to range between 0 to 1\n",
    "#similar value range, similar intrinsic influence on analytical model\n",
    "\n",
    "#let's see the range of some values with mean\n",
    "joinedSheet[\"LP Yearly Data Insured Lives\"].mean()"
   ]
  },
  {
   "cell_type": "code",
   "execution_count": 21,
   "metadata": {},
   "outputs": [
    {
     "data": {
      "text/plain": [
       "10949.837094633036"
      ]
     },
     "execution_count": 21,
     "metadata": {},
     "output_type": "execute_result"
    }
   ],
   "source": [
    "joinedSheet[\"HQ Insured Lives\"].mean()\n"
   ]
  },
  {
   "cell_type": "code",
   "execution_count": 22,
   "metadata": {},
   "outputs": [
    {
     "data": {
      "text/plain": [
       "3642.4841646121754"
      ]
     },
     "execution_count": 22,
     "metadata": {},
     "output_type": "execute_result"
    }
   ],
   "source": [
    "joinedSheet[\"HQ Pooled Lives\"].mean()"
   ]
  },
  {
   "cell_type": "code",
   "execution_count": 23,
   "metadata": {},
   "outputs": [
    {
     "data": {
      "text/plain": [
       "31560.040887540206"
      ]
     },
     "execution_count": 23,
     "metadata": {},
     "output_type": "execute_result"
    }
   ],
   "source": [
    "joinedSheet[\"HQ Potential\"].mean()\n",
    "#so need to normalize these values"
   ]
  },
  {
   "cell_type": "code",
   "execution_count": 24,
   "metadata": {},
   "outputs": [
    {
     "data": {
      "image/png": "[encoded data removed]",
      "text/plain": [
       "<Figure size 432x288 with 1 Axes>"
      ]
     },
     "metadata": {
      "needs_background": "light"
     },
     "output_type": "display_data"
    },
    {
     "data": {
      "image/png": "[encoded data removed]",
      "text/plain": [
       "<Figure size 432x288 with 1 Axes>"
      ]
     },
     "metadata": {
      "needs_background": "light"
     },
     "output_type": "display_data"
    },
    {
     "data": {
      "image/png": "[encoded data removed]",
      "text/plain": [
       "<Figure size 432x288 with 1 Axes>"
      ]
     },
     "metadata": {
      "needs_background": "light"
     },
     "output_type": "display_data"
    },
    {
     "data": {
      "image/png": "[encoded data removed]",
      "text/plain": [
       "<Figure size 432x288 with 1 Axes>"
      ]
     },
     "metadata": {
      "needs_background": "light"
     },
     "output_type": "display_data"
    }
   ],
   "source": [
    "#normalitycheck through histogram\n",
    "#not derived from gaussian distribution\n",
    "#A sample of data has a Gaussian distribution of the histogram plot, showing the familiar bell shape.\n",
    "#continuous probability distribution for a real-valued random variable\n",
    "from matplotlib import pyplot\n",
    "pyplot.hist(joinedSheet[\"LP Yearly Data Insured Lives\"])\n",
    "pyplot.show()\n",
    "pyplot.hist(joinedSheet[\"HQ Insured Lives\"])\n",
    "pyplot.show()\n",
    "\n",
    "pyplot.hist(joinedSheet[\"HQ Pooled Lives\"])\n",
    "pyplot.show()\n",
    "pyplot.hist(joinedSheet[\"HQ Potential\"])\n",
    "pyplot.show()"
   ]
  },
  {
   "cell_type": "code",
   "execution_count": 25,
   "metadata": {},
   "outputs": [
    {
     "data": {
      "text/html": [
       "<div>\n",
       "<style scoped>\n",
       "    .dataframe tbody tr th:only-of-type {\n",
       "        vertical-align: middle;\n",
       "    }\n",
       "\n",
       "    .dataframe tbody tr th {\n",
       "        vertical-align: top;\n",
       "    }\n",
       "\n",
       "    .dataframe thead th {\n",
       "        text-align: right;\n",
       "    }\n",
       "</style>\n",
       "<table border=\"1\" class=\"dataframe\">\n",
       "  <thead>\n",
       "    <tr style=\"text-align: right;\">\n",
       "      <th></th>\n",
       "      <th>HQ Company Nr</th>\n",
       "      <th>Subsidiary Country ISO Code</th>\n",
       "      <th>LP Status</th>\n",
       "      <th>LP Substatus</th>\n",
       "      <th>LP Yearly Benefit Name Aggregated</th>\n",
       "      <th>LP Yearly Data Insured Lives</th>\n",
       "      <th>LP Yearly Data Pooling Status</th>\n",
       "      <th>LP Yearly Data Annual Premium (LCY)</th>\n",
       "      <th>LP Yearly Data Currency</th>\n",
       "      <th>HQ Region</th>\n",
       "      <th>HQ Industry</th>\n",
       "      <th>HQ Insured Lives</th>\n",
       "      <th>HQ Pooled Lives</th>\n",
       "      <th>HQ Potential</th>\n",
       "    </tr>\n",
       "  </thead>\n",
       "  <tbody>\n",
       "    <tr>\n",
       "      <th>0</th>\n",
       "      <td>1031080</td>\n",
       "      <td>TR</td>\n",
       "      <td>Contract</td>\n",
       "      <td>Terminated</td>\n",
       "      <td>Lump sum death, Accidental death and dismember...</td>\n",
       "      <td>0.031653</td>\n",
       "      <td>Pooled</td>\n",
       "      <td>39450.6189</td>\n",
       "      <td>TRY</td>\n",
       "      <td>N-America</td>\n",
       "      <td>Other</td>\n",
       "      <td>0.006056</td>\n",
       "      <td>0.000000</td>\n",
       "      <td>0.000458</td>\n",
       "    </tr>\n",
       "    <tr>\n",
       "      <th>1</th>\n",
       "      <td>1030634</td>\n",
       "      <td>AT</td>\n",
       "      <td>Contract</td>\n",
       "      <td>In action</td>\n",
       "      <td>Disability pensions, Orphans' pensions, Widow/...</td>\n",
       "      <td>0.006868</td>\n",
       "      <td>Pooled</td>\n",
       "      <td>1549.8000</td>\n",
       "      <td>EUR</td>\n",
       "      <td>Europe</td>\n",
       "      <td>Other</td>\n",
       "      <td>0.001457</td>\n",
       "      <td>0.012118</td>\n",
       "      <td>0.813833</td>\n",
       "    </tr>\n",
       "    <tr>\n",
       "      <th>2</th>\n",
       "      <td>1031097</td>\n",
       "      <td>AT</td>\n",
       "      <td>Contract</td>\n",
       "      <td>In action</td>\n",
       "      <td>Disability pensions, Orphans' pensions, Widow/...</td>\n",
       "      <td>0.000725</td>\n",
       "      <td>Pooled</td>\n",
       "      <td>1064.8800</td>\n",
       "      <td>EUR</td>\n",
       "      <td>N-America</td>\n",
       "      <td>Motor Vehicles, Metal Products, Tools</td>\n",
       "      <td>0.003629</td>\n",
       "      <td>0.009842</td>\n",
       "      <td>0.077917</td>\n",
       "    </tr>\n",
       "    <tr>\n",
       "      <th>3</th>\n",
       "      <td>1030051</td>\n",
       "      <td>AT</td>\n",
       "      <td>Contract</td>\n",
       "      <td>In action</td>\n",
       "      <td>Disability pensions, Orphans' pensions, Widow/...</td>\n",
       "      <td>0.000128</td>\n",
       "      <td>Pooled</td>\n",
       "      <td>9608.7600</td>\n",
       "      <td>EUR</td>\n",
       "      <td>Europe</td>\n",
       "      <td>Chemicals, Pharmaceuticals, Cosmetics</td>\n",
       "      <td>0.005430</td>\n",
       "      <td>0.052538</td>\n",
       "      <td>0.010232</td>\n",
       "    </tr>\n",
       "    <tr>\n",
       "      <th>4</th>\n",
       "      <td>1030879</td>\n",
       "      <td>ID</td>\n",
       "      <td>Contract</td>\n",
       "      <td>Terminated</td>\n",
       "      <td>Lump sum death, Medical, Accidental death and ...</td>\n",
       "      <td>0.008830</td>\n",
       "      <td>Pooled</td>\n",
       "      <td>0.0000</td>\n",
       "      <td>IDR</td>\n",
       "      <td>Europe</td>\n",
       "      <td>Chemicals, Pharmaceuticals, Cosmetics</td>\n",
       "      <td>0.002779</td>\n",
       "      <td>0.016965</td>\n",
       "      <td>0.000000</td>\n",
       "    </tr>\n",
       "  </tbody>\n",
       "</table>\n",
       "</div>"
      ],
      "text/plain": [
       "   HQ Company Nr Subsidiary Country ISO Code LP Status LP Substatus  \\\n",
       "0        1031080                          TR  Contract   Terminated   \n",
       "1        1030634                          AT  Contract    In action   \n",
       "2        1031097                          AT  Contract    In action   \n",
       "3        1030051                          AT  Contract    In action   \n",
       "4        1030879                          ID  Contract   Terminated   \n",
       "\n",
       "                   LP Yearly Benefit Name Aggregated  \\\n",
       "0  Lump sum death, Accidental death and dismember...   \n",
       "1  Disability pensions, Orphans' pensions, Widow/...   \n",
       "2  Disability pensions, Orphans' pensions, Widow/...   \n",
       "3  Disability pensions, Orphans' pensions, Widow/...   \n",
       "4  Lump sum death, Medical, Accidental death and ...   \n",
       "\n",
       "   LP Yearly Data Insured Lives LP Yearly Data Pooling Status  \\\n",
       "0                      0.031653                        Pooled   \n",
       "1                      0.006868                        Pooled   \n",
       "2                      0.000725                        Pooled   \n",
       "3                      0.000128                        Pooled   \n",
       "4                      0.008830                        Pooled   \n",
       "\n",
       "   LP Yearly Data Annual Premium (LCY) LP Yearly Data Currency  HQ Region  \\\n",
       "0                           39450.6189                     TRY  N-America   \n",
       "1                            1549.8000                     EUR     Europe   \n",
       "2                            1064.8800                     EUR  N-America   \n",
       "3                            9608.7600                     EUR     Europe   \n",
       "4                               0.0000                     IDR     Europe   \n",
       "\n",
       "                             HQ Industry  HQ Insured Lives  HQ Pooled Lives  \\\n",
       "0                                  Other          0.006056         0.000000   \n",
       "1                                  Other          0.001457         0.012118   \n",
       "2  Motor Vehicles, Metal Products, Tools          0.003629         0.009842   \n",
       "3  Chemicals, Pharmaceuticals, Cosmetics          0.005430         0.052538   \n",
       "4  Chemicals, Pharmaceuticals, Cosmetics          0.002779         0.016965   \n",
       "\n",
       "   HQ Potential  \n",
       "0      0.000458  \n",
       "1      0.813833  \n",
       "2      0.077917  \n",
       "3      0.010232  \n",
       "4      0.000000  "
      ]
     },
     "execution_count": 25,
     "metadata": {},
     "output_type": "execute_result"
    }
   ],
   "source": [
    "#simple feature scaling : xnew=xold/xmax\n",
    "#df[\"a\"]=df[\"a\"]/df[\"a\"].max()\n",
    "#joinedSheet[\"a\"]=joinedSheet[\"a\"]/joinedSheet[\"a\"].max()\n",
    "#min-max : xnew=xold-xmin/xmax-xmin\n",
    "\n",
    "#we will use min-max for normalization, not z-score\n",
    "#because through normality check we have seen the data is not derived from gaussian distribution,\n",
    "#otherwise the histogram would be a bell-curve\n",
    "\n",
    "joinedSheet[\"LP Yearly Data Insured Lives\"]=(joinedSheet[\"LP Yearly Data Insured Lives\"]-joinedSheet[\"LP Yearly Data Insured Lives\"].min())/(joinedSheet[\"LP Yearly Data Insured Lives\"].max()-joinedSheet[\"LP Yearly Data Insured Lives\"].min())\n",
    "joinedSheet[\"HQ Insured Lives\"]=(joinedSheet[\"HQ Insured Lives\"]-joinedSheet[\"HQ Insured Lives\"].min())/(joinedSheet[\"HQ Insured Lives\"].max()-joinedSheet[\"HQ Insured Lives\"].min())\n",
    "joinedSheet[\"HQ Pooled Lives\"]=(joinedSheet[\"HQ Pooled Lives\"]-joinedSheet[\"HQ Pooled Lives\"].min())/(joinedSheet[\"HQ Pooled Lives\"].max()-joinedSheet[\"HQ Pooled Lives\"].min())\n",
    "joinedSheet[\"HQ Potential\"]=(joinedSheet[\"HQ Potential\"]-joinedSheet[\"HQ Potential\"].min())/(joinedSheet[\"HQ Potential\"].max()-joinedSheet[\"HQ Potential\"].min())\n",
    "\n",
    "joinedSheet.head()\n",
    "#z-score/standard score= xold-avgofthefeature meu/standard deviation sigma\n",
    "#value around 0, between -3 and +3\n",
    "#df[\"a\"]=df[\"a\"]-df[\"a\"].mean()/df[\"a\"].std()\n"
   ]
  },
  {
   "cell_type": "code",
   "execution_count": 26,
   "metadata": {},
   "outputs": [
    {
     "data": {
      "image/png": "[encoded data removed]",
      "text/plain": [
       "<Figure size 432x288 with 1 Axes>"
      ]
     },
     "metadata": {
      "needs_background": "light"
     },
     "output_type": "display_data"
    }
   ],
   "source": [
    "#binning\n",
    "#bins=np.linspace(min(df[\"a\"]), max(df[\"a\"],4))\n",
    "#groupnames=[\"Low\", \"Medium\", \"High\"]\n",
    "#df[\"b\"]=pd.cut(df[\"a\"], bins,labels=groupnames,include_lowest=True)\n",
    "#use histogram to visualize\n",
    "#most cars have low price , only very few cars have high price\n",
    "\n",
    "bins=np.linspace(min(joinedSheet['LP Yearly Data Annual Premium (LCY)']), max(joinedSheet['LP Yearly Data Annual Premium (LCY)']),4)\n",
    "groupnames=[\"Low\", \"Medium\", \"High\"]\n",
    "joinedSheet[\"newbin\"]=pd.cut(joinedSheet[\"LP Yearly Data Annual Premium (LCY)\"], bins,labels=groupnames,include_lowest=True)\n",
    "#joinedSheet[\"newbin\"]\n",
    "\n",
    "pyplot.hist(joinedSheet[\"newbin\"])\n",
    "pyplot.show()"
   ]
  },
  {
   "cell_type": "code",
   "execution_count": 27,
   "metadata": {},
   "outputs": [
    {
     "data": {
      "text/html": [
       "<div>\n",
       "<style scoped>\n",
       "    .dataframe tbody tr th:only-of-type {\n",
       "        vertical-align: middle;\n",
       "    }\n",
       "\n",
       "    .dataframe tbody tr th {\n",
       "        vertical-align: top;\n",
       "    }\n",
       "\n",
       "    .dataframe thead th {\n",
       "        text-align: right;\n",
       "    }\n",
       "</style>\n",
       "<table border=\"1\" class=\"dataframe\">\n",
       "  <thead>\n",
       "    <tr style=\"text-align: right;\">\n",
       "      <th></th>\n",
       "      <th>AE</th>\n",
       "      <th>AM</th>\n",
       "      <th>AR</th>\n",
       "      <th>AT</th>\n",
       "      <th>AU</th>\n",
       "      <th>BE</th>\n",
       "      <th>BR</th>\n",
       "      <th>CA</th>\n",
       "      <th>CH</th>\n",
       "      <th>CL</th>\n",
       "      <th>...</th>\n",
       "      <th>RU</th>\n",
       "      <th>SE</th>\n",
       "      <th>SG</th>\n",
       "      <th>SK</th>\n",
       "      <th>SV</th>\n",
       "      <th>TH</th>\n",
       "      <th>TR</th>\n",
       "      <th>TW</th>\n",
       "      <th>US</th>\n",
       "      <th>ZA</th>\n",
       "    </tr>\n",
       "  </thead>\n",
       "  <tbody>\n",
       "    <tr>\n",
       "      <th>0</th>\n",
       "      <td>0</td>\n",
       "      <td>0</td>\n",
       "      <td>0</td>\n",
       "      <td>0</td>\n",
       "      <td>0</td>\n",
       "      <td>0</td>\n",
       "      <td>0</td>\n",
       "      <td>0</td>\n",
       "      <td>0</td>\n",
       "      <td>0</td>\n",
       "      <td>...</td>\n",
       "      <td>0</td>\n",
       "      <td>0</td>\n",
       "      <td>0</td>\n",
       "      <td>0</td>\n",
       "      <td>0</td>\n",
       "      <td>0</td>\n",
       "      <td>1</td>\n",
       "      <td>0</td>\n",
       "      <td>0</td>\n",
       "      <td>0</td>\n",
       "    </tr>\n",
       "    <tr>\n",
       "      <th>1</th>\n",
       "      <td>0</td>\n",
       "      <td>0</td>\n",
       "      <td>0</td>\n",
       "      <td>1</td>\n",
       "      <td>0</td>\n",
       "      <td>0</td>\n",
       "      <td>0</td>\n",
       "      <td>0</td>\n",
       "      <td>0</td>\n",
       "      <td>0</td>\n",
       "      <td>...</td>\n",
       "      <td>0</td>\n",
       "      <td>0</td>\n",
       "      <td>0</td>\n",
       "      <td>0</td>\n",
       "      <td>0</td>\n",
       "      <td>0</td>\n",
       "      <td>0</td>\n",
       "      <td>0</td>\n",
       "      <td>0</td>\n",
       "      <td>0</td>\n",
       "    </tr>\n",
       "    <tr>\n",
       "      <th>2</th>\n",
       "      <td>0</td>\n",
       "      <td>0</td>\n",
       "      <td>0</td>\n",
       "      <td>1</td>\n",
       "      <td>0</td>\n",
       "      <td>0</td>\n",
       "      <td>0</td>\n",
       "      <td>0</td>\n",
       "      <td>0</td>\n",
       "      <td>0</td>\n",
       "      <td>...</td>\n",
       "      <td>0</td>\n",
       "      <td>0</td>\n",
       "      <td>0</td>\n",
       "      <td>0</td>\n",
       "      <td>0</td>\n",
       "      <td>0</td>\n",
       "      <td>0</td>\n",
       "      <td>0</td>\n",
       "      <td>0</td>\n",
       "      <td>0</td>\n",
       "    </tr>\n",
       "    <tr>\n",
       "      <th>3</th>\n",
       "      <td>0</td>\n",
       "      <td>0</td>\n",
       "      <td>0</td>\n",
       "      <td>1</td>\n",
       "      <td>0</td>\n",
       "      <td>0</td>\n",
       "      <td>0</td>\n",
       "      <td>0</td>\n",
       "      <td>0</td>\n",
       "      <td>0</td>\n",
       "      <td>...</td>\n",
       "      <td>0</td>\n",
       "      <td>0</td>\n",
       "      <td>0</td>\n",
       "      <td>0</td>\n",
       "      <td>0</td>\n",
       "      <td>0</td>\n",
       "      <td>0</td>\n",
       "      <td>0</td>\n",
       "      <td>0</td>\n",
       "      <td>0</td>\n",
       "    </tr>\n",
       "    <tr>\n",
       "      <th>4</th>\n",
       "      <td>0</td>\n",
       "      <td>0</td>\n",
       "      <td>0</td>\n",
       "      <td>0</td>\n",
       "      <td>0</td>\n",
       "      <td>0</td>\n",
       "      <td>0</td>\n",
       "      <td>0</td>\n",
       "      <td>0</td>\n",
       "      <td>0</td>\n",
       "      <td>...</td>\n",
       "      <td>0</td>\n",
       "      <td>0</td>\n",
       "      <td>0</td>\n",
       "      <td>0</td>\n",
       "      <td>0</td>\n",
       "      <td>0</td>\n",
       "      <td>0</td>\n",
       "      <td>0</td>\n",
       "      <td>0</td>\n",
       "      <td>0</td>\n",
       "    </tr>\n",
       "    <tr>\n",
       "      <th>...</th>\n",
       "      <td>...</td>\n",
       "      <td>...</td>\n",
       "      <td>...</td>\n",
       "      <td>...</td>\n",
       "      <td>...</td>\n",
       "      <td>...</td>\n",
       "      <td>...</td>\n",
       "      <td>...</td>\n",
       "      <td>...</td>\n",
       "      <td>...</td>\n",
       "      <td>...</td>\n",
       "      <td>...</td>\n",
       "      <td>...</td>\n",
       "      <td>...</td>\n",
       "      <td>...</td>\n",
       "      <td>...</td>\n",
       "      <td>...</td>\n",
       "      <td>...</td>\n",
       "      <td>...</td>\n",
       "      <td>...</td>\n",
       "      <td>...</td>\n",
       "    </tr>\n",
       "    <tr>\n",
       "      <th>5268</th>\n",
       "      <td>0</td>\n",
       "      <td>0</td>\n",
       "      <td>0</td>\n",
       "      <td>0</td>\n",
       "      <td>0</td>\n",
       "      <td>0</td>\n",
       "      <td>0</td>\n",
       "      <td>0</td>\n",
       "      <td>0</td>\n",
       "      <td>0</td>\n",
       "      <td>...</td>\n",
       "      <td>0</td>\n",
       "      <td>0</td>\n",
       "      <td>0</td>\n",
       "      <td>0</td>\n",
       "      <td>0</td>\n",
       "      <td>0</td>\n",
       "      <td>0</td>\n",
       "      <td>0</td>\n",
       "      <td>0</td>\n",
       "      <td>0</td>\n",
       "    </tr>\n",
       "    <tr>\n",
       "      <th>5269</th>\n",
       "      <td>0</td>\n",
       "      <td>0</td>\n",
       "      <td>0</td>\n",
       "      <td>0</td>\n",
       "      <td>0</td>\n",
       "      <td>0</td>\n",
       "      <td>0</td>\n",
       "      <td>0</td>\n",
       "      <td>0</td>\n",
       "      <td>0</td>\n",
       "      <td>...</td>\n",
       "      <td>0</td>\n",
       "      <td>0</td>\n",
       "      <td>0</td>\n",
       "      <td>0</td>\n",
       "      <td>0</td>\n",
       "      <td>0</td>\n",
       "      <td>0</td>\n",
       "      <td>0</td>\n",
       "      <td>0</td>\n",
       "      <td>0</td>\n",
       "    </tr>\n",
       "    <tr>\n",
       "      <th>5270</th>\n",
       "      <td>0</td>\n",
       "      <td>0</td>\n",
       "      <td>0</td>\n",
       "      <td>0</td>\n",
       "      <td>0</td>\n",
       "      <td>0</td>\n",
       "      <td>0</td>\n",
       "      <td>0</td>\n",
       "      <td>0</td>\n",
       "      <td>0</td>\n",
       "      <td>...</td>\n",
       "      <td>0</td>\n",
       "      <td>0</td>\n",
       "      <td>0</td>\n",
       "      <td>0</td>\n",
       "      <td>0</td>\n",
       "      <td>0</td>\n",
       "      <td>0</td>\n",
       "      <td>0</td>\n",
       "      <td>0</td>\n",
       "      <td>1</td>\n",
       "    </tr>\n",
       "    <tr>\n",
       "      <th>5271</th>\n",
       "      <td>0</td>\n",
       "      <td>0</td>\n",
       "      <td>0</td>\n",
       "      <td>0</td>\n",
       "      <td>0</td>\n",
       "      <td>0</td>\n",
       "      <td>0</td>\n",
       "      <td>0</td>\n",
       "      <td>0</td>\n",
       "      <td>0</td>\n",
       "      <td>...</td>\n",
       "      <td>0</td>\n",
       "      <td>0</td>\n",
       "      <td>0</td>\n",
       "      <td>0</td>\n",
       "      <td>0</td>\n",
       "      <td>0</td>\n",
       "      <td>0</td>\n",
       "      <td>0</td>\n",
       "      <td>0</td>\n",
       "      <td>1</td>\n",
       "    </tr>\n",
       "    <tr>\n",
       "      <th>5272</th>\n",
       "      <td>0</td>\n",
       "      <td>0</td>\n",
       "      <td>0</td>\n",
       "      <td>0</td>\n",
       "      <td>0</td>\n",
       "      <td>0</td>\n",
       "      <td>0</td>\n",
       "      <td>0</td>\n",
       "      <td>0</td>\n",
       "      <td>0</td>\n",
       "      <td>...</td>\n",
       "      <td>0</td>\n",
       "      <td>0</td>\n",
       "      <td>0</td>\n",
       "      <td>0</td>\n",
       "      <td>0</td>\n",
       "      <td>0</td>\n",
       "      <td>0</td>\n",
       "      <td>0</td>\n",
       "      <td>0</td>\n",
       "      <td>1</td>\n",
       "    </tr>\n",
       "  </tbody>\n",
       "</table>\n",
       "<p>5273 rows × 55 columns</p>\n",
       "</div>"
      ],
      "text/plain": [
       "      AE  AM  AR  AT  AU  BE  BR  CA  CH  CL  ...  RU  SE  SG  SK  SV  TH  TR  \\\n",
       "0      0   0   0   0   0   0   0   0   0   0  ...   0   0   0   0   0   0   1   \n",
       "1      0   0   0   1   0   0   0   0   0   0  ...   0   0   0   0   0   0   0   \n",
       "2      0   0   0   1   0   0   0   0   0   0  ...   0   0   0   0   0   0   0   \n",
       "3      0   0   0   1   0   0   0   0   0   0  ...   0   0   0   0   0   0   0   \n",
       "4      0   0   0   0   0   0   0   0   0   0  ...   0   0   0   0   0   0   0   \n",
       "...   ..  ..  ..  ..  ..  ..  ..  ..  ..  ..  ...  ..  ..  ..  ..  ..  ..  ..   \n",
       "5268   0   0   0   0   0   0   0   0   0   0  ...   0   0   0   0   0   0   0   \n",
       "5269   0   0   0   0   0   0   0   0   0   0  ...   0   0   0   0   0   0   0   \n",
       "5270   0   0   0   0   0   0   0   0   0   0  ...   0   0   0   0   0   0   0   \n",
       "5271   0   0   0   0   0   0   0   0   0   0  ...   0   0   0   0   0   0   0   \n",
       "5272   0   0   0   0   0   0   0   0   0   0  ...   0   0   0   0   0   0   0   \n",
       "\n",
       "      TW  US  ZA  \n",
       "0      0   0   0  \n",
       "1      0   0   0  \n",
       "2      0   0   0  \n",
       "3      0   0   0  \n",
       "4      0   0   0  \n",
       "...   ..  ..  ..  \n",
       "5268   0   0   0  \n",
       "5269   0   0   0  \n",
       "5270   0   0   1  \n",
       "5271   0   0   1  \n",
       "5272   0   0   1  \n",
       "\n",
       "[5273 rows x 55 columns]"
      ]
     },
     "execution_count": 27,
     "metadata": {},
     "output_type": "execute_result"
    }
   ],
   "source": [
    "#pd.get_dummies(df[\"a\"])\n",
    "pd.get_dummies(joinedSheet[\"Subsidiary Country ISO Code\"])\n",
    "\n",
    "#EDA \n",
    "#summarize main characteristics of the data\n",
    "#Gain better understanding of the dataset\n",
    "#relationship between var\n",
    "#extract important vars\n",
    "#df.describe() nan skipped\n",
    "#joinedSheet.describe()"
   ]
  },
  {
   "cell_type": "code",
   "execution_count": 28,
   "metadata": {},
   "outputs": [
    {
     "data": {
      "text/plain": [
       "lpstatus\n",
       "Contract    5273\n",
       "Name: LP Status, dtype: int64"
      ]
     },
     "execution_count": 28,
     "metadata": {},
     "output_type": "execute_result"
    }
   ],
   "source": [
    "#drive_wheel_counts=df[\"drive_wheels\"].value_counts()\n",
    "#drive_wheel_counts.rename(columns={\"drive_wheels\":\"value counts\" inplace=True})\n",
    "#drive_wheel_counts.index.name='drive_wheels'\n",
    "\n",
    "lpstatus_counts=joinedSheet[\"LP Status\"].value_counts()\n",
    "#lpstatus_counts.rename(columns={\"LP Status\":\"value counts\" inplace=True})\n",
    "lpstatus_counts.index.name='lpstatus'\n",
    "lpstatus_counts\n",
    "#only one type of data, no influence? no need to binary/one-hot encode\n",
    "#no need of making quantitative"
   ]
  },
  {
   "cell_type": "code",
   "execution_count": 29,
   "metadata": {},
   "outputs": [
    {
     "data": {
      "text/plain": [
       "lpsubstatus\n",
       "In action     3009\n",
       "Terminated    2264\n",
       "Name: LP Substatus, dtype: int64"
      ]
     },
     "execution_count": 29,
     "metadata": {},
     "output_type": "execute_result"
    }
   ],
   "source": [
    "lpsubstatus_counts=joinedSheet[\"LP Substatus\"].value_counts()\n",
    "#lpstatus_counts.rename(columns={\"LP Status\":\"value counts\" inplace=True})\n",
    "lpsubstatus_counts.index.name='lpsubstatus'\n",
    "lpsubstatus_counts\n",
    "#binary encode will do(as there are only two types)/ one-hot encode\n",
    "#will do one-hot encode"
   ]
  },
  {
   "cell_type": "code",
   "execution_count": 30,
   "metadata": {},
   "outputs": [
    {
     "data": {
      "text/plain": [
       "(5273, 79)"
      ]
     },
     "execution_count": 30,
     "metadata": {},
     "output_type": "execute_result"
    }
   ],
   "source": [
    "#pd.get_dummies(joinedSheet[\"LP Substatus\"])\n",
    "\n",
    "joinedSheet['LP Substatus'] = pd.Categorical(joinedSheet['LP Substatus'])\n",
    "dfDummies = pd.get_dummies(joinedSheet['LP Substatus'], prefix = 'lp_substatus_')\n",
    "joinedSheet = pd.concat([joinedSheet, dfDummies], axis=1)\n",
    "\n",
    "joinedSheet['Subsidiary Country ISO Code'] = pd.Categorical(joinedSheet['Subsidiary Country ISO Code'])\n",
    "dfDummies = pd.get_dummies(joinedSheet['Subsidiary Country ISO Code'], prefix = 'ISO')\n",
    "joinedSheet = pd.concat([joinedSheet, dfDummies], axis=1)\n",
    "\n",
    "joinedSheet['HQ Region'] = pd.Categorical(joinedSheet['HQ Region'])\n",
    "dfDummies = pd.get_dummies(joinedSheet['HQ Region'], prefix = 'hq_region')\n",
    "joinedSheet = pd.concat([joinedSheet, dfDummies], axis=1)\n",
    "\n",
    "joinedSheet.shape"
   ]
  },
  {
   "cell_type": "code",
   "execution_count": 31,
   "metadata": {},
   "outputs": [
    {
     "data": {
      "text/plain": [
       "lp_yearly_data_pooling_status\n",
       "Pooled    5273\n",
       "Name: LP Yearly Data Pooling Status, dtype: int64"
      ]
     },
     "execution_count": 31,
     "metadata": {},
     "output_type": "execute_result"
    }
   ],
   "source": [
    "lp_yearly_data_pooling_status_counts=joinedSheet[\"LP Yearly Data Pooling Status\"].value_counts()\n",
    "#lpstatus_counts.rename(columns={\"LP Status\":\"value counts\" inplace=True})\n",
    "lp_yearly_data_pooling_status_counts.index.name='lp_yearly_data_pooling_status'\n",
    "lp_yearly_data_pooling_status_counts\n",
    "#only one type of data, no influence? no need to binary/one-hot encode\n",
    "#no need of making quantitative"
   ]
  },
  {
   "cell_type": "code",
   "execution_count": 32,
   "metadata": {},
   "outputs": [
    {
     "ename": "AttributeError",
     "evalue": "'str' object has no attribute 'get'",
     "output_type": "error",
     "traceback": [
      "\u001b[1;31m---------------------------------------------------------------------------\u001b[0m",
      "\u001b[1;31mAttributeError\u001b[0m                            Traceback (most recent call last)",
      "\u001b[1;32m<ipython-input-32-d46719e577bc>\u001b[0m in \u001b[0;36m<module>\u001b[1;34m\u001b[0m\n\u001b[0;32m      9\u001b[0m \u001b[1;31m#sns.boxplot(x=\"a\", y=\"price\", data=\"df\")\u001b[0m\u001b[1;33m\u001b[0m\u001b[1;33m\u001b[0m\u001b[1;33m\u001b[0m\u001b[0m\n\u001b[0;32m     10\u001b[0m \u001b[1;32mimport\u001b[0m \u001b[0mseaborn\u001b[0m \u001b[1;32mas\u001b[0m \u001b[0msns\u001b[0m\u001b[1;33m\u001b[0m\u001b[1;33m\u001b[0m\u001b[0m\n\u001b[1;32m---> 11\u001b[1;33m \u001b[0msns\u001b[0m\u001b[1;33m.\u001b[0m\u001b[0mboxplot\u001b[0m\u001b[1;33m(\u001b[0m\u001b[0mx\u001b[0m\u001b[1;33m=\u001b[0m\u001b[1;34m\"HQ Pooled Lives\"\u001b[0m\u001b[1;33m,\u001b[0m \u001b[0my\u001b[0m\u001b[1;33m=\u001b[0m\u001b[1;34m\"LP Yearly Data Annual Premium (LCY)\"\u001b[0m\u001b[1;33m,\u001b[0m \u001b[0mdata\u001b[0m\u001b[1;33m=\u001b[0m\u001b[1;34m\"joinedSheet\"\u001b[0m\u001b[1;33m)\u001b[0m\u001b[1;33m\u001b[0m\u001b[1;33m\u001b[0m\u001b[0m\n\u001b[0m",
      "\u001b[1;32mG:\\anaconda\\lib\\site-packages\\seaborn\\categorical.py\u001b[0m in \u001b[0;36mboxplot\u001b[1;34m(x, y, hue, data, order, hue_order, orient, color, palette, saturation, width, dodge, fliersize, linewidth, whis, ax, **kwargs)\u001b[0m\n\u001b[0;32m   2239\u001b[0m     plotter = _BoxPlotter(x, y, hue, data, order, hue_order,\n\u001b[0;32m   2240\u001b[0m                           \u001b[0morient\u001b[0m\u001b[1;33m,\u001b[0m \u001b[0mcolor\u001b[0m\u001b[1;33m,\u001b[0m \u001b[0mpalette\u001b[0m\u001b[1;33m,\u001b[0m \u001b[0msaturation\u001b[0m\u001b[1;33m,\u001b[0m\u001b[1;33m\u001b[0m\u001b[1;33m\u001b[0m\u001b[0m\n\u001b[1;32m-> 2241\u001b[1;33m                           width, dodge, fliersize, linewidth)\n\u001b[0m\u001b[0;32m   2242\u001b[0m \u001b[1;33m\u001b[0m\u001b[0m\n\u001b[0;32m   2243\u001b[0m     \u001b[1;32mif\u001b[0m \u001b[0max\u001b[0m \u001b[1;32mis\u001b[0m \u001b[1;32mNone\u001b[0m\u001b[1;33m:\u001b[0m\u001b[1;33m\u001b[0m\u001b[1;33m\u001b[0m\u001b[0m\n",
      "\u001b[1;32mG:\\anaconda\\lib\\site-packages\\seaborn\\categorical.py\u001b[0m in \u001b[0;36m__init__\u001b[1;34m(self, x, y, hue, data, order, hue_order, orient, color, palette, saturation, width, dodge, fliersize, linewidth)\u001b[0m\n\u001b[0;32m    441\u001b[0m                  width, dodge, fliersize, linewidth):\n\u001b[0;32m    442\u001b[0m \u001b[1;33m\u001b[0m\u001b[0m\n\u001b[1;32m--> 443\u001b[1;33m         \u001b[0mself\u001b[0m\u001b[1;33m.\u001b[0m\u001b[0mestablish_variables\u001b[0m\u001b[1;33m(\u001b[0m\u001b[0mx\u001b[0m\u001b[1;33m,\u001b[0m \u001b[0my\u001b[0m\u001b[1;33m,\u001b[0m \u001b[0mhue\u001b[0m\u001b[1;33m,\u001b[0m \u001b[0mdata\u001b[0m\u001b[1;33m,\u001b[0m \u001b[0morient\u001b[0m\u001b[1;33m,\u001b[0m \u001b[0morder\u001b[0m\u001b[1;33m,\u001b[0m \u001b[0mhue_order\u001b[0m\u001b[1;33m)\u001b[0m\u001b[1;33m\u001b[0m\u001b[1;33m\u001b[0m\u001b[0m\n\u001b[0m\u001b[0;32m    444\u001b[0m         \u001b[0mself\u001b[0m\u001b[1;33m.\u001b[0m\u001b[0mestablish_colors\u001b[0m\u001b[1;33m(\u001b[0m\u001b[0mcolor\u001b[0m\u001b[1;33m,\u001b[0m \u001b[0mpalette\u001b[0m\u001b[1;33m,\u001b[0m \u001b[0msaturation\u001b[0m\u001b[1;33m)\u001b[0m\u001b[1;33m\u001b[0m\u001b[1;33m\u001b[0m\u001b[0m\n\u001b[0;32m    445\u001b[0m \u001b[1;33m\u001b[0m\u001b[0m\n",
      "\u001b[1;32mG:\\anaconda\\lib\\site-packages\\seaborn\\categorical.py\u001b[0m in \u001b[0;36mestablish_variables\u001b[1;34m(self, x, y, hue, data, orient, order, hue_order, units)\u001b[0m\n\u001b[0;32m    141\u001b[0m             \u001b[1;31m# See if we need to get variables from `data`\u001b[0m\u001b[1;33m\u001b[0m\u001b[1;33m\u001b[0m\u001b[1;33m\u001b[0m\u001b[0m\n\u001b[0;32m    142\u001b[0m             \u001b[1;32mif\u001b[0m \u001b[0mdata\u001b[0m \u001b[1;32mis\u001b[0m \u001b[1;32mnot\u001b[0m \u001b[1;32mNone\u001b[0m\u001b[1;33m:\u001b[0m\u001b[1;33m\u001b[0m\u001b[1;33m\u001b[0m\u001b[0m\n\u001b[1;32m--> 143\u001b[1;33m                 \u001b[0mx\u001b[0m \u001b[1;33m=\u001b[0m \u001b[0mdata\u001b[0m\u001b[1;33m.\u001b[0m\u001b[0mget\u001b[0m\u001b[1;33m(\u001b[0m\u001b[0mx\u001b[0m\u001b[1;33m,\u001b[0m \u001b[0mx\u001b[0m\u001b[1;33m)\u001b[0m\u001b[1;33m\u001b[0m\u001b[1;33m\u001b[0m\u001b[0m\n\u001b[0m\u001b[0;32m    144\u001b[0m                 \u001b[0my\u001b[0m \u001b[1;33m=\u001b[0m \u001b[0mdata\u001b[0m\u001b[1;33m.\u001b[0m\u001b[0mget\u001b[0m\u001b[1;33m(\u001b[0m\u001b[0my\u001b[0m\u001b[1;33m,\u001b[0m \u001b[0my\u001b[0m\u001b[1;33m)\u001b[0m\u001b[1;33m\u001b[0m\u001b[1;33m\u001b[0m\u001b[0m\n\u001b[0;32m    145\u001b[0m                 \u001b[0mhue\u001b[0m \u001b[1;33m=\u001b[0m \u001b[0mdata\u001b[0m\u001b[1;33m.\u001b[0m\u001b[0mget\u001b[0m\u001b[1;33m(\u001b[0m\u001b[0mhue\u001b[0m\u001b[1;33m,\u001b[0m \u001b[0mhue\u001b[0m\u001b[1;33m)\u001b[0m\u001b[1;33m\u001b[0m\u001b[1;33m\u001b[0m\u001b[0m\n",
      "\u001b[1;31mAttributeError\u001b[0m: 'str' object has no attribute 'get'"
     ]
    }
   ],
   "source": [
    "#box-plots to visualize the data\n",
    "#shows the median,upper quartile shows the 75th percentile, lower quertile shows the 25th percentile\n",
    "#data between upper and lower quartile represents the interquartile range\n",
    "#lower and upper extreme = calculated as 1.5 times the interquartile range above the 75th percentile and \n",
    "#as 1.5times of the IQR below the 25th percentile\n",
    "#outliers as individual dots occur outside upper and lower extremes\n",
    "#with boxplot see outliers , skewness and distribuion of data\n",
    "#makes it easier to compare between groups\n",
    "#sns.boxplot(x=\"a\", y=\"price\", data=\"df\")\n",
    "import seaborn as sns\n",
    "sns.boxplot(x=\"HQ Pooled Lives\", y=\"LP Yearly Data Annual Premium (LCY)\", data=\"joinedSheet\")\n"
   ]
  },
  {
   "cell_type": "code",
   "execution_count": 33,
   "metadata": {},
   "outputs": [
    {
     "data": {
      "text/plain": [
       "Text(0, 0.5, 'LP Yearly Data Annual Premium (LCY)')"
      ]
     },
     "execution_count": 33,
     "metadata": {},
     "output_type": "execute_result"
    },
    {
     "data": {
      "image/png": "[encoded data removed]",
      "text/plain": [
       "<Figure size 432x288 with 1 Axes>"
      ]
     },
     "metadata": {
      "needs_background": "light"
     },
     "output_type": "display_data"
    }
   ],
   "source": [
    "#scatterplot\n",
    "#can x predict y?\n",
    "#x predictor var y target var\n",
    "#y=df[a]\n",
    "#x=df[b]\n",
    "#plt.scatter(x,y)\n",
    "#plt.title(), plt.xlabel(), plt.ylabel()\n",
    "\n",
    "y=joinedSheet['LP Yearly Data Annual Premium (LCY)']\n",
    "x=joinedSheet['HQ Pooled Lives']\n",
    "pyplot.scatter(x,y)\n",
    "pyplot.title(\"HQ Pooled Lives vs LP Yearly Data Annual Premium (LCY)\")\n",
    "pyplot.xlabel(\"HQ Pooled Lives\")\n",
    "pyplot.ylabel(\"LP Yearly Data Annual Premium (LCY)\")\n",
    "#is there positive linear relationship between x and y?\n",
    "\n",
    "\n",
    "y=joinedSheet['LP Yearly Data Annual Premium (LCY)']\n",
    "x=joinedSheet['HQ Insured Lives']\n",
    "pyplot.scatter(x,y)\n",
    "pyplot.title(\"HQ Insured Lives vs LP Yearly Data Annual Premium (LCY)\")\n",
    "pyplot.xlabel(\"HQ Insured Lives\")\n",
    "pyplot.ylabel(\"LP Yearly Data Annual Premium (LCY)\")"
   ]
  },
  {
   "cell_type": "code",
   "execution_count": 34,
   "metadata": {},
   "outputs": [
    {
     "data": {
      "text/html": [
       "<div>\n",
       "<style scoped>\n",
       "    .dataframe tbody tr th:only-of-type {\n",
       "        vertical-align: middle;\n",
       "    }\n",
       "\n",
       "    .dataframe tbody tr th {\n",
       "        vertical-align: top;\n",
       "    }\n",
       "\n",
       "    .dataframe thead tr th {\n",
       "        text-align: left;\n",
       "    }\n",
       "\n",
       "    .dataframe thead tr:last-of-type th {\n",
       "        text-align: right;\n",
       "    }\n",
       "</style>\n",
       "<table border=\"1\" class=\"dataframe\">\n",
       "  <thead>\n",
       "    <tr>\n",
       "      <th></th>\n",
       "      <th colspan=\"21\" halign=\"left\">LP Yearly Data Annual Premium (LCY)</th>\n",
       "    </tr>\n",
       "    <tr>\n",
       "      <th>Subsidiary Country ISO Code</th>\n",
       "      <th>AE</th>\n",
       "      <th>AM</th>\n",
       "      <th>AR</th>\n",
       "      <th>AT</th>\n",
       "      <th>AU</th>\n",
       "      <th>BE</th>\n",
       "      <th>BR</th>\n",
       "      <th>CA</th>\n",
       "      <th>CH</th>\n",
       "      <th>CL</th>\n",
       "      <th>...</th>\n",
       "      <th>RU</th>\n",
       "      <th>SE</th>\n",
       "      <th>SG</th>\n",
       "      <th>SK</th>\n",
       "      <th>SV</th>\n",
       "      <th>TH</th>\n",
       "      <th>TR</th>\n",
       "      <th>TW</th>\n",
       "      <th>US</th>\n",
       "      <th>ZA</th>\n",
       "    </tr>\n",
       "    <tr>\n",
       "      <th>HQ Region</th>\n",
       "      <th></th>\n",
       "      <th></th>\n",
       "      <th></th>\n",
       "      <th></th>\n",
       "      <th></th>\n",
       "      <th></th>\n",
       "      <th></th>\n",
       "      <th></th>\n",
       "      <th></th>\n",
       "      <th></th>\n",
       "      <th></th>\n",
       "      <th></th>\n",
       "      <th></th>\n",
       "      <th></th>\n",
       "      <th></th>\n",
       "      <th></th>\n",
       "      <th></th>\n",
       "      <th></th>\n",
       "      <th></th>\n",
       "      <th></th>\n",
       "      <th></th>\n",
       "    </tr>\n",
       "  </thead>\n",
       "  <tbody>\n",
       "    <tr>\n",
       "      <th>Asia-Pacific</th>\n",
       "      <td>NaN</td>\n",
       "      <td>NaN</td>\n",
       "      <td>NaN</td>\n",
       "      <td>NaN</td>\n",
       "      <td>NaN</td>\n",
       "      <td>173219.040000</td>\n",
       "      <td>57167.945800</td>\n",
       "      <td>165880.800000</td>\n",
       "      <td>633147.900000</td>\n",
       "      <td>NaN</td>\n",
       "      <td>...</td>\n",
       "      <td>2129.143680</td>\n",
       "      <td>NaN</td>\n",
       "      <td>99789.065000</td>\n",
       "      <td>NaN</td>\n",
       "      <td>NaN</td>\n",
       "      <td>31226.348342</td>\n",
       "      <td>NaN</td>\n",
       "      <td>65280.879280</td>\n",
       "      <td>NaN</td>\n",
       "      <td>380349.102080</td>\n",
       "    </tr>\n",
       "    <tr>\n",
       "      <th>Europe</th>\n",
       "      <td>5102.3920</td>\n",
       "      <td>4092.19</td>\n",
       "      <td>3766.082624</td>\n",
       "      <td>42434.677895</td>\n",
       "      <td>58618.081060</td>\n",
       "      <td>148742.966250</td>\n",
       "      <td>74965.114607</td>\n",
       "      <td>349936.240000</td>\n",
       "      <td>445638.667448</td>\n",
       "      <td>17576.883399</td>\n",
       "      <td>...</td>\n",
       "      <td>19985.030435</td>\n",
       "      <td>73410.833333</td>\n",
       "      <td>25647.312766</td>\n",
       "      <td>15795.54</td>\n",
       "      <td>18601.8000</td>\n",
       "      <td>58581.668514</td>\n",
       "      <td>34324.5000</td>\n",
       "      <td>31464.107277</td>\n",
       "      <td>247831.390000</td>\n",
       "      <td>103009.639534</td>\n",
       "    </tr>\n",
       "    <tr>\n",
       "      <th>LATAM</th>\n",
       "      <td>NaN</td>\n",
       "      <td>NaN</td>\n",
       "      <td>NaN</td>\n",
       "      <td>NaN</td>\n",
       "      <td>NaN</td>\n",
       "      <td>NaN</td>\n",
       "      <td>168572.684000</td>\n",
       "      <td>NaN</td>\n",
       "      <td>NaN</td>\n",
       "      <td>7864.071695</td>\n",
       "      <td>...</td>\n",
       "      <td>NaN</td>\n",
       "      <td>NaN</td>\n",
       "      <td>NaN</td>\n",
       "      <td>NaN</td>\n",
       "      <td>54391.9407</td>\n",
       "      <td>NaN</td>\n",
       "      <td>NaN</td>\n",
       "      <td>NaN</td>\n",
       "      <td>NaN</td>\n",
       "      <td>NaN</td>\n",
       "    </tr>\n",
       "    <tr>\n",
       "      <th>Middle East</th>\n",
       "      <td>NaN</td>\n",
       "      <td>NaN</td>\n",
       "      <td>NaN</td>\n",
       "      <td>NaN</td>\n",
       "      <td>NaN</td>\n",
       "      <td>NaN</td>\n",
       "      <td>NaN</td>\n",
       "      <td>NaN</td>\n",
       "      <td>NaN</td>\n",
       "      <td>NaN</td>\n",
       "      <td>...</td>\n",
       "      <td>NaN</td>\n",
       "      <td>NaN</td>\n",
       "      <td>NaN</td>\n",
       "      <td>NaN</td>\n",
       "      <td>NaN</td>\n",
       "      <td>NaN</td>\n",
       "      <td>NaN</td>\n",
       "      <td>NaN</td>\n",
       "      <td>NaN</td>\n",
       "      <td>NaN</td>\n",
       "    </tr>\n",
       "    <tr>\n",
       "      <th>N-America</th>\n",
       "      <td>33026.3155</td>\n",
       "      <td>NaN</td>\n",
       "      <td>22383.997378</td>\n",
       "      <td>60211.905882</td>\n",
       "      <td>91617.669275</td>\n",
       "      <td>294348.147568</td>\n",
       "      <td>72104.337310</td>\n",
       "      <td>378301.752258</td>\n",
       "      <td>605946.103604</td>\n",
       "      <td>48997.372400</td>\n",
       "      <td>...</td>\n",
       "      <td>13583.509171</td>\n",
       "      <td>526700.000000</td>\n",
       "      <td>49427.140645</td>\n",
       "      <td>6788.88</td>\n",
       "      <td>NaN</td>\n",
       "      <td>43250.864642</td>\n",
       "      <td>39450.6189</td>\n",
       "      <td>28018.011181</td>\n",
       "      <td>51243.113333</td>\n",
       "      <td>110167.653383</td>\n",
       "    </tr>\n",
       "    <tr>\n",
       "      <th>N-Europe</th>\n",
       "      <td>NaN</td>\n",
       "      <td>NaN</td>\n",
       "      <td>2467.935800</td>\n",
       "      <td>817.560000</td>\n",
       "      <td>279588.124200</td>\n",
       "      <td>418097.468571</td>\n",
       "      <td>87913.260400</td>\n",
       "      <td>358111.800000</td>\n",
       "      <td>436645.590909</td>\n",
       "      <td>50193.228511</td>\n",
       "      <td>...</td>\n",
       "      <td>13873.390314</td>\n",
       "      <td>NaN</td>\n",
       "      <td>31579.860000</td>\n",
       "      <td>NaN</td>\n",
       "      <td>NaN</td>\n",
       "      <td>NaN</td>\n",
       "      <td>NaN</td>\n",
       "      <td>NaN</td>\n",
       "      <td>NaN</td>\n",
       "      <td>28108.420320</td>\n",
       "    </tr>\n",
       "    <tr>\n",
       "      <th>Southern Europe</th>\n",
       "      <td>NaN</td>\n",
       "      <td>NaN</td>\n",
       "      <td>NaN</td>\n",
       "      <td>NaN</td>\n",
       "      <td>NaN</td>\n",
       "      <td>NaN</td>\n",
       "      <td>NaN</td>\n",
       "      <td>NaN</td>\n",
       "      <td>NaN</td>\n",
       "      <td>NaN</td>\n",
       "      <td>...</td>\n",
       "      <td>NaN</td>\n",
       "      <td>NaN</td>\n",
       "      <td>NaN</td>\n",
       "      <td>NaN</td>\n",
       "      <td>NaN</td>\n",
       "      <td>NaN</td>\n",
       "      <td>NaN</td>\n",
       "      <td>NaN</td>\n",
       "      <td>NaN</td>\n",
       "      <td>NaN</td>\n",
       "    </tr>\n",
       "  </tbody>\n",
       "</table>\n",
       "<p>7 rows × 55 columns</p>\n",
       "</div>"
      ],
      "text/plain": [
       "                            LP Yearly Data Annual Premium (LCY)           \\\n",
       "Subsidiary Country ISO Code                                  AE       AM   \n",
       "HQ Region                                                                  \n",
       "Asia-Pacific                                                NaN      NaN   \n",
       "Europe                                                5102.3920  4092.19   \n",
       "LATAM                                                       NaN      NaN   \n",
       "Middle East                                                 NaN      NaN   \n",
       "N-America                                            33026.3155      NaN   \n",
       "N-Europe                                                    NaN      NaN   \n",
       "Southern Europe                                             NaN      NaN   \n",
       "\n",
       "                                                                        \\\n",
       "Subsidiary Country ISO Code            AR            AT             AU   \n",
       "HQ Region                                                                \n",
       "Asia-Pacific                          NaN           NaN            NaN   \n",
       "Europe                        3766.082624  42434.677895   58618.081060   \n",
       "LATAM                                 NaN           NaN            NaN   \n",
       "Middle East                           NaN           NaN            NaN   \n",
       "N-America                    22383.997378  60211.905882   91617.669275   \n",
       "N-Europe                      2467.935800    817.560000  279588.124200   \n",
       "Southern Europe                       NaN           NaN            NaN   \n",
       "\n",
       "                                                                          \\\n",
       "Subsidiary Country ISO Code             BE             BR             CA   \n",
       "HQ Region                                                                  \n",
       "Asia-Pacific                 173219.040000   57167.945800  165880.800000   \n",
       "Europe                       148742.966250   74965.114607  349936.240000   \n",
       "LATAM                                  NaN  168572.684000            NaN   \n",
       "Middle East                            NaN            NaN            NaN   \n",
       "N-America                    294348.147568   72104.337310  378301.752258   \n",
       "N-Europe                     418097.468571   87913.260400  358111.800000   \n",
       "Southern Europe                        NaN            NaN            NaN   \n",
       "\n",
       "                                                          ...                \\\n",
       "Subsidiary Country ISO Code             CH            CL  ...            RU   \n",
       "HQ Region                                                 ...                 \n",
       "Asia-Pacific                 633147.900000           NaN  ...   2129.143680   \n",
       "Europe                       445638.667448  17576.883399  ...  19985.030435   \n",
       "LATAM                                  NaN   7864.071695  ...           NaN   \n",
       "Middle East                            NaN           NaN  ...           NaN   \n",
       "N-America                    605946.103604  48997.372400  ...  13583.509171   \n",
       "N-Europe                     436645.590909  50193.228511  ...  13873.390314   \n",
       "Southern Europe                        NaN           NaN  ...           NaN   \n",
       "\n",
       "                                                                    \\\n",
       "Subsidiary Country ISO Code             SE            SG        SK   \n",
       "HQ Region                                                            \n",
       "Asia-Pacific                           NaN  99789.065000       NaN   \n",
       "Europe                        73410.833333  25647.312766  15795.54   \n",
       "LATAM                                  NaN           NaN       NaN   \n",
       "Middle East                            NaN           NaN       NaN   \n",
       "N-America                    526700.000000  49427.140645   6788.88   \n",
       "N-Europe                               NaN  31579.860000       NaN   \n",
       "Southern Europe                        NaN           NaN       NaN   \n",
       "\n",
       "                                                                   \\\n",
       "Subsidiary Country ISO Code          SV            TH          TR   \n",
       "HQ Region                                                           \n",
       "Asia-Pacific                        NaN  31226.348342         NaN   \n",
       "Europe                       18601.8000  58581.668514  34324.5000   \n",
       "LATAM                        54391.9407           NaN         NaN   \n",
       "Middle East                         NaN           NaN         NaN   \n",
       "N-America                           NaN  43250.864642  39450.6189   \n",
       "N-Europe                            NaN           NaN         NaN   \n",
       "Southern Europe                     NaN           NaN         NaN   \n",
       "\n",
       "                                                                         \n",
       "Subsidiary Country ISO Code            TW             US             ZA  \n",
       "HQ Region                                                                \n",
       "Asia-Pacific                 65280.879280            NaN  380349.102080  \n",
       "Europe                       31464.107277  247831.390000  103009.639534  \n",
       "LATAM                                 NaN            NaN            NaN  \n",
       "Middle East                           NaN            NaN            NaN  \n",
       "N-America                    28018.011181   51243.113333  110167.653383  \n",
       "N-Europe                              NaN            NaN   28108.420320  \n",
       "Southern Europe                       NaN            NaN            NaN  \n",
       "\n",
       "[7 rows x 55 columns]"
      ]
     },
     "execution_count": 34,
     "metadata": {},
     "output_type": "execute_result"
    }
   ],
   "source": [
    "#Groupby() : applied to categorical var, group data into categories, single or multiple vars\n",
    "#for different types of bodystyles and drive wheels how the avg differs?\n",
    "#df_test=df[[\"a\",\"b\",\"c\"]]\n",
    "#df_grp=df_test.Groupby()['a','b'], as_index=False).mean()\n",
    "#df_grp\n",
    "#df_pivot=df_grp.pivot(index='a', columns='b')\n",
    "\n",
    "df_test=joinedSheet[[\"HQ Region\",\"Subsidiary Country ISO Code\",\"LP Yearly Data Annual Premium (LCY)\"]]\n",
    "df_grp=df_test.groupby(['HQ Region','Subsidiary Country ISO Code'], as_index=False).mean()\n",
    "df_grp\n",
    "df_pivot=df_grp.pivot(index='HQ Region', columns='Subsidiary Country ISO Code')\n",
    "df_pivot"
   ]
  },
  {
   "cell_type": "code",
   "execution_count": 35,
   "metadata": {},
   "outputs": [
    {
     "data": {
      "text/plain": [
       "(0, 55181091.87877427)"
      ]
     },
     "execution_count": 35,
     "metadata": {},
     "output_type": "execute_result"
    },
    {
     "data": {
      "image/png": "[encoded data removed]",
      "text/plain": [
       "<Figure size 432x288 with 1 Axes>"
      ]
     },
     "metadata": {
      "needs_background": "light"
     },
     "output_type": "display_data"
    }
   ],
   "source": [
    "sns.regplot(x=\"HQ Insured Lives\", y=\"LP Yearly Data Annual Premium (LCY)\", data=joinedSheet)\n",
    "pyplot.ylim(0,)\n",
    "#negative linear relationship\n",
    "\n"
   ]
  },
  {
   "cell_type": "code",
   "execution_count": 36,
   "metadata": {},
   "outputs": [
    {
     "data": {
      "text/plain": [
       "(0, 55181091.87877427)"
      ]
     },
     "execution_count": 36,
     "metadata": {},
     "output_type": "execute_result"
    },
    {
     "data": {
      "image/png": "[encoded data removed]",
      "text/plain": [
       "<Figure size 432x288 with 1 Axes>"
      ]
     },
     "metadata": {
      "needs_background": "light"
     },
     "output_type": "display_data"
    }
   ],
   "source": [
    "sns.regplot(x=\"HQ Pooled Lives\", y=\"LP Yearly Data Annual Premium (LCY)\", data=joinedSheet)\n",
    "pyplot.ylim(0,)\n",
    "#negative linear relationship"
   ]
  },
  {
   "cell_type": "code",
   "execution_count": 37,
   "metadata": {},
   "outputs": [
    {
     "data": {
      "text/plain": [
       "0.059654094860283655"
      ]
     },
     "execution_count": 37,
     "metadata": {},
     "output_type": "execute_result"
    }
   ],
   "source": [
    "#strength of co-relation between continuous numerical variables : pearson correlation\n",
    "#co-relation coefficient and p-value\n",
    "#corelation coefficient : value close to +1: large positive relationship\n",
    "#value close to -1: large neg , colse to 0: no relation\n",
    "#p-value : how certain we are about the co-eff calculated\n",
    "#p-value<0.001 strong certainty <0.05 moderate certainty <0.1 weak certainty  >0.1 no certainty\n",
    "#strong correlation -coeff close to -1/+1p-value<0.001\n",
    "#scipy stats package\n",
    "from scipy import stats\n",
    "pearson_coef,p_value=stats.pearsonr(joinedSheet['HQ Pooled Lives'],joinedSheet['LP Yearly Data Annual Premium (LCY)'])\n",
    "pearson_coef\n",
    "#weak positive relationship"
   ]
  },
  {
   "cell_type": "code",
   "execution_count": 38,
   "metadata": {},
   "outputs": [
    {
     "data": {
      "text/plain": [
       "1.4599826999919177e-05"
      ]
     },
     "execution_count": 38,
     "metadata": {},
     "output_type": "execute_result"
    }
   ],
   "source": [
    "p_value\n",
    "#strong certainty"
   ]
  },
  {
   "cell_type": "code",
   "execution_count": 39,
   "metadata": {},
   "outputs": [
    {
     "data": {
      "text/plain": [
       "F_onewayResult(statistic=0.636068191007546, pvalue=0.42518019244159955)"
      ]
     },
     "execution_count": 39,
     "metadata": {},
     "output_type": "execute_result"
    }
   ],
   "source": [
    "#which category of a feature has most or least impact: comparison between categories of a feature\n",
    "#on a prediction\n",
    "#finding corelation between different groups of a categorical vaiable\n",
    "#we get f-test score variation between sample group means divided by variation within sample group\n",
    "#p-value: confidence degree\n",
    "#large f-value : difference high between mean prices of the two categories (of car)\n",
    "df_anova=joinedSheet[['HQ Region','LP Yearly Data Annual Premium (LCY)']]\n",
    "grouped_anova=df_anova.groupby(['HQ Region'])\n",
    "anova_results_1=stats.f_oneway(grouped_anova.get_group('N-America')['LP Yearly Data Annual Premium (LCY)'],grouped_anova.get_group('Europe')['LP Yearly Data Annual Premium (LCY)'])\n",
    "anova_results_1\n"
   ]
  },
  {
   "cell_type": "code",
   "execution_count": 40,
   "metadata": {},
   "outputs": [],
   "source": [
    "joinedSheet['LP Status'].replace(to_replace =['Contract', 'Opportunity'], value =[1, 0], inplace=True)"
   ]
  },
  {
   "cell_type": "code",
   "execution_count": 41,
   "metadata": {},
   "outputs": [
    {
     "data": {
      "text/plain": [
       "0       1\n",
       "1       1\n",
       "2       1\n",
       "3       1\n",
       "4       1\n",
       "       ..\n",
       "5268    1\n",
       "5269    1\n",
       "5270    1\n",
       "5271    1\n",
       "5272    1\n",
       "Name: LP Status, Length: 5273, dtype: int64"
      ]
     },
     "execution_count": 41,
     "metadata": {},
     "output_type": "execute_result"
    }
   ],
   "source": [
    "joinedSheet['LP Status']"
   ]
  },
  {
   "cell_type": "code",
   "execution_count": 42,
   "metadata": {},
   "outputs": [],
   "source": [
    "joinedSheet = joinedSheet[joinedSheet['LP Yearly Data Annual Premium (LCY)'] <50000]\n",
    "joinedSheet = joinedSheet[joinedSheet['LP Yearly Data Annual Premium (LCY)'] >100]\n",
    "\n",
    "joinedSheet=joinedSheet[joinedSheet['LP Yearly Benefit Name Aggregated'].notna()]"
   ]
  },
  {
   "cell_type": "code",
   "execution_count": 43,
   "metadata": {},
   "outputs": [
    {
     "name": "stdout",
     "output_type": "stream",
     "text": [
      "0     0                        Lump sum death\n",
      "      1    Accidental death and dismemberment\n",
      "      2                   Lump sum disability\n",
      "1     0                   Disability pensions\n",
      "      1                     Orphans' pensions\n",
      "                          ...                \n",
      "5262  1                   Lump sum disability\n",
      "5264  0                        Lump sum death\n",
      "5268  0                        Lump sum death\n",
      "5269  0                        Lump sum death\n",
      "      1                   Lump sum disability\n",
      "Length: 6685, dtype: object\n",
      "(2764, 92)\n"
     ]
    }
   ],
   "source": [
    "\n",
    "#aggregatedBenefits =joinedSheet['LP Yearly Benefit Name Aggregated']\n",
    "#joinedSheet=joinedSheet[joinedSheet['LP Yearly Benefit Name Aggregated'].notna()\n",
    "\n",
    "# break benefit names and perform one hot encoding\n",
    "aggregatedBenefits = joinedSheet['LP Yearly Benefit Name Aggregated'].tolist()\n",
    "i = 0\n",
    "#print(benefits)\n",
    "for benefit in aggregatedBenefits:\n",
    "    split_data = benefit.split(',')\n",
    "    j = 0\n",
    "    #print(splittedBenefits)\n",
    "    for y in split_data:\n",
    "        split_data[j] = y.strip()\n",
    "        j = j + 1\n",
    "    delimeter = '^'\n",
    "    aggregatedBenefits[i] = delimeter.join(split_data)\n",
    "    i = i + 1\n",
    "#print(aggregatedBenefits)\n",
    "#print(merged_data['LP Yearly Benefit Name Aggregated'])\n",
    "joinedSheet['LP Yearly Benefit Name Aggregated'] = aggregatedBenefits\n",
    "#print(joinedSheet['LP Yearly Benefit Name Aggregated'])\n",
    "\n",
    "finalBenefit = joinedSheet['LP Yearly Benefit Name Aggregated'].str.split('^', expand=True).stack()\n",
    "print(finalBenefit)\n",
    "benefit = pd.get_dummies(finalBenefit, prefix='benefit').groupby(level=0).sum()\n",
    "\n",
    "\n",
    "joinedSheet = pd.concat([joinedSheet, benefit], axis=1, sort=False)\n",
    "del joinedSheet['LP Yearly Benefit Name Aggregated']\n",
    "\n",
    "print(joinedSheet.shape)\n",
    "\n",
    "#for i in range (0,572):\n",
    "    #print(joinedSheet.columns[i])\n",
    "\n",
    "\n"
   ]
  },
  {
   "cell_type": "code",
   "execution_count": 44,
   "metadata": {},
   "outputs": [
    {
     "data": {
      "text/plain": [
       "(2764, 92)"
      ]
     },
     "execution_count": 44,
     "metadata": {},
     "output_type": "execute_result"
    }
   ],
   "source": [
    "#joinedSheet['LP Yearly Data Pooling Status'].replace(to_replace =[\"Pooled\", np.nan], value =[1, 0], inplace=True)\n",
    "joinedSheet['LP Yearly Data Pooling Status']\n",
    "joinedSheet.shape"
   ]
  },
  {
   "cell_type": "code",
   "execution_count": 47,
   "metadata": {},
   "outputs": [],
   "source": [
    "joinedSheet['HQ Industry'] = pd.Categorical(joinedSheet['HQ Industry'])\n",
    "dfDummies = pd.get_dummies(joinedSheet['HQ Industry'], prefix = 'hq_industry')\n",
    "joinedSheet = pd.concat([joinedSheet, dfDummies], axis=1)"
   ]
  },
  {
   "cell_type": "code",
   "execution_count": 49,
   "metadata": {},
   "outputs": [
    {
     "data": {
      "text/plain": [
       "(2764, 106)"
      ]
     },
     "execution_count": 49,
     "metadata": {},
     "output_type": "execute_result"
    }
   ],
   "source": [
    "joinedSheet.shape\n"
   ]
  },
  {
   "cell_type": "code",
   "execution_count": 51,
   "metadata": {},
   "outputs": [
    {
     "name": "stdout",
     "output_type": "stream",
     "text": [
      "HQ Company Nr\n",
      "Subsidiary Country ISO Code\n",
      "LP Status\n",
      "LP Substatus\n",
      "LP Yearly Data Insured Lives\n",
      "LP Yearly Data Pooling Status\n",
      "LP Yearly Data Annual Premium (LCY)\n",
      "LP Yearly Data Currency\n",
      "HQ Region\n",
      "HQ Industry\n",
      "HQ Insured Lives\n",
      "HQ Pooled Lives\n",
      "HQ Potential\n",
      "newbin\n",
      "lp_substatus__In action\n",
      "lp_substatus__Terminated\n",
      "ISO_AE\n",
      "ISO_AM\n",
      "ISO_AR\n",
      "ISO_AT\n",
      "ISO_AU\n",
      "ISO_BE\n",
      "ISO_BR\n",
      "ISO_CA\n",
      "ISO_CH\n",
      "ISO_CL\n",
      "ISO_CN\n",
      "ISO_CO\n",
      "ISO_CR\n",
      "ISO_CZ\n",
      "ISO_DE\n",
      "ISO_DK\n",
      "ISO_ES\n",
      "ISO_FI\n",
      "ISO_FR\n",
      "ISO_GB\n",
      "ISO_GR\n",
      "ISO_GT\n",
      "ISO_HK\n",
      "ISO_HN\n",
      "ISO_HU\n",
      "ISO_ID\n",
      "ISO_IE\n",
      "ISO_IN\n",
      "ISO_IT\n",
      "ISO_JP\n",
      "ISO_KR\n",
      "ISO_LI\n",
      "ISO_LU\n",
      "ISO_MC\n",
      "ISO_MM\n",
      "ISO_MX\n",
      "ISO_MY\n",
      "ISO_NI\n",
      "ISO_NL\n",
      "ISO_NO\n",
      "ISO_NZ\n",
      "ISO_PA\n",
      "ISO_PH\n",
      "ISO_PL\n",
      "ISO_PT\n",
      "ISO_RU\n",
      "ISO_SE\n",
      "ISO_SG\n",
      "ISO_SK\n",
      "ISO_SV\n",
      "ISO_TH\n",
      "ISO_TR\n",
      "ISO_TW\n",
      "ISO_US\n",
      "ISO_ZA\n",
      "hq_region_Asia-Pacific\n",
      "hq_region_Europe\n",
      "hq_region_LATAM\n",
      "hq_region_Middle East\n",
      "hq_region_N-America\n",
      "hq_region_N-Europe\n",
      "hq_region_Southern Europe\n",
      "benefit_Accidental death and dismemberment\n",
      "benefit_Assistance\n",
      "benefit_Critical illness\n",
      "benefit_Disability pensions\n",
      "benefit_Endowment insurance\n",
      "benefit_Lump sum death\n",
      "benefit_Lump sum disability\n",
      "benefit_Medical\n",
      "benefit_Not yet defined\n",
      "benefit_Old age pensions\n",
      "benefit_Orphans' pensions\n",
      "benefit_Short term disability\n",
      "benefit_Waiver of premium\n",
      "benefit_Widow/er's pensions\n",
      "hq_industry_Airlines, Aerospace, Intern. Transp.\n",
      "hq_industry_Banking, Finance, Insurance, Consult\n",
      "hq_industry_Building Materials, Furniture, Paper\n",
      "hq_industry_Chemicals, Pharmaceuticals, Cosmetics\n",
      "hq_industry_Computers, Electronics, Office Equipment\n",
      "hq_industry_Entertainment, Advertising, Tourism\n",
      "hq_industry_Food, Beverage, Tobacco\n",
      "hq_industry_Motor Vehicles, Metal Products, Tools\n",
      "hq_industry_Other\n",
      "hq_industry_Petroleum Refining, Mining, Oil Prod.\n",
      "hq_industry_Scientific, Watches, Photo Equipment\n",
      "hq_industry_Textiles, Leatherware, Jewelry\n",
      "hq_industry_Transportation and Industrial Equipment\n",
      "hq_industry_Unknown migration\n"
     ]
    }
   ],
   "source": [
    "for i in range (0,106):\n",
    "    print(joinedSheet.columns[i])"
   ]
  },
  {
   "cell_type": "code",
   "execution_count": 53,
   "metadata": {},
   "outputs": [],
   "source": [
    "joinedSheet['LP Yearly Data Pooling Status'].replace(to_replace =[\"Pooled\", np.nan], value =[1, 0], inplace=True)\n"
   ]
  },
  {
   "cell_type": "code",
   "execution_count": 55,
   "metadata": {},
   "outputs": [],
   "source": [
    "joinedSheet.to_csv('DD_Annual_Premium_Dataset.csv', index = False, header=True)"
   ]
  },
  {
   "cell_type": "code",
   "execution_count": null,
   "metadata": {},
   "outputs": [],
   "source": []
  }
 ],
 "metadata": {
  "kernelspec": {
   "display_name": "Python 3",
   "language": "python",
   "name": "python3"
  },
  "language_info": {
   "codemirror_mode": {
    "name": "ipython",
    "version": 3
   },
   "file_extension": ".py",
   "mimetype": "text/x-python",
   "name": "python",
   "nbconvert_exporter": "python",
   "pygments_lexer": "ipython3",
   "version": "3.7.6"
  }
 },
 "nbformat": 4,
 "nbformat_minor": 4
}
